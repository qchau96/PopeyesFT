{
 "cells": [
  {
   "cell_type": "markdown",
   "metadata": {},
   "source": [
    "# Introduction\n",
    "\n",
    "Popeyes Louisiana Chicken (PP) & Chick-fil-A (CFA), founded in the late 60s and early 70s, are two famous American fast food restaurant chains with specialty in fried chicken. CFA has always been popular with its signature chicken sandwich. However, only recently did PP debut its new signature chicken sandwich. Surprisingly, in less than three weeks after Popeyes Louisiana Chicken (PP) introduced its new dish, it beat the anticipated demand and sold out across the nation. On top of that, the new PP chicken sandwich initiated a trend on social media #ChickenWars and attracted many people to debate who has a better chicken sandwich, Popeyes or Chick-fil-A? Unfortunately, Popeyes Louisiana Chicken did not announce when their sold-out sandwich would come back.\n",
    "\n",
    "# Objective\n",
    "\n",
    "The main objective of the present study is to examine the influence of Popeyes' Promotion at both Popeyes and Chick-fil-A's visit number and to analyze both chains' customers' demographic. \n"
   ]
  },
  {
   "cell_type": "markdown",
   "metadata": {},
   "source": [
    "### 1. Measure Foot Traffic at Popeyes and Chick-fil-A before & after the Promotion\n",
    "First, I need to collect data from Foursquare Database. This query below will show the number of visit per day at Popeyes Lousiana Kitchen and Chick-fil-A between 2019-07-22 and 2019-09-15.\n",
    "\n",
    "\n",
    "```sql\n",
    "SELECT\n",
    "  vc.chainname,\n",
    "  cvnp.dt, \n",
    "  COUNT(cvnp.userid) AS total_visitpd\n",
    "FROM \n",
    "  analytics.venuechains vc\n",
    "  JOIN analytics.venueinfo vi ON vc.venueid = vi.venueid\n",
    "  JOIN analytics.cvnp_optimized cvnp ON vi.venueid = cvnp.venueid\n",
    "WHERE \n",
    "  vc.chainid IN ('561e8768498ea6bc69a4a287', '556e1846a7c82e6b72513d6b') -- Popeyes and Chick-fil-a chainid\n",
    "  AND vi.cc = 'US'\n",
    "  AND cvnp.dt BETWEEN '2019-07-22' AND '2019-09-15' \n",
    "GROUP BY\n",
    "  vc.chainname,\n",
    "  cvnp.dt\n",
    "ORDER BY cvnp.dt\n",
    "```"
   ]
  },
  {
   "cell_type": "markdown",
   "metadata": {},
   "source": [
    "Now let's take a look at our data"
   ]
  },
  {
   "cell_type": "code",
   "execution_count": 1,
   "metadata": {},
   "outputs": [
    {
     "data": {
      "text/html": [
       "<div>\n",
       "<style scoped>\n",
       "    .dataframe tbody tr th:only-of-type {\n",
       "        vertical-align: middle;\n",
       "    }\n",
       "\n",
       "    .dataframe tbody tr th {\n",
       "        vertical-align: top;\n",
       "    }\n",
       "\n",
       "    .dataframe thead th {\n",
       "        text-align: right;\n",
       "    }\n",
       "</style>\n",
       "<table border=\"1\" class=\"dataframe\">\n",
       "  <thead>\n",
       "    <tr style=\"text-align: right;\">\n",
       "      <th></th>\n",
       "      <th>chainname</th>\n",
       "      <th>dt</th>\n",
       "      <th>total_visitpd</th>\n",
       "    </tr>\n",
       "  </thead>\n",
       "  <tbody>\n",
       "    <tr>\n",
       "      <th>0</th>\n",
       "      <td>Popeyes Louisiana Kitchen</td>\n",
       "      <td>2019-07-22</td>\n",
       "      <td>16546</td>\n",
       "    </tr>\n",
       "    <tr>\n",
       "      <th>1</th>\n",
       "      <td>Chick-fil-A</td>\n",
       "      <td>2019-07-22</td>\n",
       "      <td>66994</td>\n",
       "    </tr>\n",
       "    <tr>\n",
       "      <th>2</th>\n",
       "      <td>Popeyes Louisiana Kitchen</td>\n",
       "      <td>2019-07-23</td>\n",
       "      <td>17408</td>\n",
       "    </tr>\n",
       "    <tr>\n",
       "      <th>3</th>\n",
       "      <td>Chick-fil-A</td>\n",
       "      <td>2019-07-23</td>\n",
       "      <td>73835</td>\n",
       "    </tr>\n",
       "    <tr>\n",
       "      <th>4</th>\n",
       "      <td>Popeyes Louisiana Kitchen</td>\n",
       "      <td>2019-07-24</td>\n",
       "      <td>17240</td>\n",
       "    </tr>\n",
       "  </tbody>\n",
       "</table>\n",
       "</div>"
      ],
      "text/plain": [
       "                   chainname          dt  total_visitpd\n",
       "0  Popeyes Louisiana Kitchen  2019-07-22          16546\n",
       "1                Chick-fil-A  2019-07-22          66994\n",
       "2  Popeyes Louisiana Kitchen  2019-07-23          17408\n",
       "3                Chick-fil-A  2019-07-23          73835\n",
       "4  Popeyes Louisiana Kitchen  2019-07-24          17240"
      ]
     },
     "execution_count": 1,
     "metadata": {},
     "output_type": "execute_result"
    }
   ],
   "source": [
    "import pandas as pd\n",
    "df = pd.read_csv('cfa_pp.csv')\n",
    "df.head()"
   ]
  },
  {
   "cell_type": "markdown",
   "metadata": {},
   "source": [
    "**Next Step**\n",
    "* Create a graph to show number of visit per day from 2 chains from 2019-07-22 to 2019-09-15 -- 3 weeks before and 4 weeks after they released the new PP sandwiches.\n",
    "* Compare to CFA, PP's total visit is much less. In order to show a clear comparison of visit from both chains, I'm going to create a new column called visit_share -- visit of the day/ total visit from that chain in the 7 weeks timeframe.\n"
   ]
  },
  {
   "cell_type": "code",
   "execution_count": 2,
   "metadata": {},
   "outputs": [
    {
     "name": "stderr",
     "output_type": "stream",
     "text": [
      "/Users/chauchu/opt/anaconda3/lib/python3.7/site-packages/ipykernel_launcher.py:8: SettingWithCopyWarning: \n",
      "A value is trying to be set on a copy of a slice from a DataFrame.\n",
      "Try using .loc[row_indexer,col_indexer] = value instead\n",
      "\n",
      "See the caveats in the documentation: https://pandas.pydata.org/pandas-docs/stable/user_guide/indexing.html#returning-a-view-versus-a-copy\n",
      "  \n"
     ]
    },
    {
     "data": {
      "text/html": [
       "<div>\n",
       "<style scoped>\n",
       "    .dataframe tbody tr th:only-of-type {\n",
       "        vertical-align: middle;\n",
       "    }\n",
       "\n",
       "    .dataframe tbody tr th {\n",
       "        vertical-align: top;\n",
       "    }\n",
       "\n",
       "    .dataframe thead th {\n",
       "        text-align: right;\n",
       "    }\n",
       "</style>\n",
       "<table border=\"1\" class=\"dataframe\">\n",
       "  <thead>\n",
       "    <tr style=\"text-align: right;\">\n",
       "      <th></th>\n",
       "      <th>chainname</th>\n",
       "      <th>total_visitpd</th>\n",
       "      <th>visit_share</th>\n",
       "    </tr>\n",
       "    <tr>\n",
       "      <th>dt</th>\n",
       "      <th></th>\n",
       "      <th></th>\n",
       "      <th></th>\n",
       "    </tr>\n",
       "  </thead>\n",
       "  <tbody>\n",
       "    <tr>\n",
       "      <th>2019-07-22</th>\n",
       "      <td>Popeyes Louisiana Kitchen</td>\n",
       "      <td>16546</td>\n",
       "      <td>0.014189</td>\n",
       "    </tr>\n",
       "    <tr>\n",
       "      <th>2019-07-23</th>\n",
       "      <td>Popeyes Louisiana Kitchen</td>\n",
       "      <td>17408</td>\n",
       "      <td>0.014928</td>\n",
       "    </tr>\n",
       "    <tr>\n",
       "      <th>2019-07-24</th>\n",
       "      <td>Popeyes Louisiana Kitchen</td>\n",
       "      <td>17240</td>\n",
       "      <td>0.014784</td>\n",
       "    </tr>\n",
       "    <tr>\n",
       "      <th>2019-07-25</th>\n",
       "      <td>Popeyes Louisiana Kitchen</td>\n",
       "      <td>17540</td>\n",
       "      <td>0.015041</td>\n",
       "    </tr>\n",
       "    <tr>\n",
       "      <th>2019-07-26</th>\n",
       "      <td>Popeyes Louisiana Kitchen</td>\n",
       "      <td>19097</td>\n",
       "      <td>0.016376</td>\n",
       "    </tr>\n",
       "  </tbody>\n",
       "</table>\n",
       "</div>"
      ],
      "text/plain": [
       "                            chainname  total_visitpd  visit_share\n",
       "dt                                                               \n",
       "2019-07-22  Popeyes Louisiana Kitchen          16546     0.014189\n",
       "2019-07-23  Popeyes Louisiana Kitchen          17408     0.014928\n",
       "2019-07-24  Popeyes Louisiana Kitchen          17240     0.014784\n",
       "2019-07-25  Popeyes Louisiana Kitchen          17540     0.015041\n",
       "2019-07-26  Popeyes Louisiana Kitchen          19097     0.016376"
      ]
     },
     "execution_count": 2,
     "metadata": {},
     "output_type": "execute_result"
    }
   ],
   "source": [
    "#Create a DataFrame which contains only Popeyes\n",
    "dfp = df[df['chainname'] == 'Popeyes Louisiana Kitchen']\n",
    "dfp.set_index('dt', inplace = True)\n",
    "\n",
    "#Calculate percentage of visit every day over the total visit at Popeyes from 2019-07-22 to 2019-09-05\n",
    "p_total = dfp.total_visitpd.sum()\n",
    "visit_share_p = dfp['total_visitpd'] / p_total\n",
    "dfp['visit_share'] = visit_share_p\n",
    "dfp.head()"
   ]
  },
  {
   "cell_type": "code",
   "execution_count": 3,
   "metadata": {},
   "outputs": [
    {
     "name": "stderr",
     "output_type": "stream",
     "text": [
      "/Users/chauchu/opt/anaconda3/lib/python3.7/site-packages/ipykernel_launcher.py:7: SettingWithCopyWarning: \n",
      "A value is trying to be set on a copy of a slice from a DataFrame.\n",
      "Try using .loc[row_indexer,col_indexer] = value instead\n",
      "\n",
      "See the caveats in the documentation: https://pandas.pydata.org/pandas-docs/stable/user_guide/indexing.html#returning-a-view-versus-a-copy\n",
      "  import sys\n"
     ]
    },
    {
     "data": {
      "text/html": [
       "<div>\n",
       "<style scoped>\n",
       "    .dataframe tbody tr th:only-of-type {\n",
       "        vertical-align: middle;\n",
       "    }\n",
       "\n",
       "    .dataframe tbody tr th {\n",
       "        vertical-align: top;\n",
       "    }\n",
       "\n",
       "    .dataframe thead th {\n",
       "        text-align: right;\n",
       "    }\n",
       "</style>\n",
       "<table border=\"1\" class=\"dataframe\">\n",
       "  <thead>\n",
       "    <tr style=\"text-align: right;\">\n",
       "      <th></th>\n",
       "      <th>chainname</th>\n",
       "      <th>total_visitpd</th>\n",
       "      <th>visit_share</th>\n",
       "    </tr>\n",
       "    <tr>\n",
       "      <th>dt</th>\n",
       "      <th></th>\n",
       "      <th></th>\n",
       "      <th></th>\n",
       "    </tr>\n",
       "  </thead>\n",
       "  <tbody>\n",
       "    <tr>\n",
       "      <th>2019-07-22</th>\n",
       "      <td>Chick-fil-A</td>\n",
       "      <td>66994</td>\n",
       "      <td>0.016626</td>\n",
       "    </tr>\n",
       "    <tr>\n",
       "      <th>2019-07-23</th>\n",
       "      <td>Chick-fil-A</td>\n",
       "      <td>73835</td>\n",
       "      <td>0.018324</td>\n",
       "    </tr>\n",
       "    <tr>\n",
       "      <th>2019-07-24</th>\n",
       "      <td>Chick-fil-A</td>\n",
       "      <td>75996</td>\n",
       "      <td>0.018860</td>\n",
       "    </tr>\n",
       "    <tr>\n",
       "      <th>2019-07-25</th>\n",
       "      <td>Chick-fil-A</td>\n",
       "      <td>80542</td>\n",
       "      <td>0.019988</td>\n",
       "    </tr>\n",
       "    <tr>\n",
       "      <th>2019-07-26</th>\n",
       "      <td>Chick-fil-A</td>\n",
       "      <td>87801</td>\n",
       "      <td>0.021790</td>\n",
       "    </tr>\n",
       "  </tbody>\n",
       "</table>\n",
       "</div>"
      ],
      "text/plain": [
       "              chainname  total_visitpd  visit_share\n",
       "dt                                                 \n",
       "2019-07-22  Chick-fil-A          66994     0.016626\n",
       "2019-07-23  Chick-fil-A          73835     0.018324\n",
       "2019-07-24  Chick-fil-A          75996     0.018860\n",
       "2019-07-25  Chick-fil-A          80542     0.019988\n",
       "2019-07-26  Chick-fil-A          87801     0.021790"
      ]
     },
     "execution_count": 3,
     "metadata": {},
     "output_type": "execute_result"
    }
   ],
   "source": [
    "#Create a DataFrame which contains only Chick-fil-A\n",
    "dfc = df[df['chainname'] == 'Chick-fil-A']\n",
    "dfc.set_index('dt', inplace = True)\n",
    "\n",
    "#Calculate percentage of visit every day over the total visit at Popeyes from 2019-07-22 to 2019-09-05 \n",
    "c_total = dfc.total_visitpd.sum()\n",
    "dfc['visit_share'] = dfc['total_visitpd'] / c_total\n",
    "dfc.head()"
   ]
  },
  {
   "cell_type": "code",
   "execution_count": 4,
   "metadata": {},
   "outputs": [
    {
     "data": {
      "text/html": [
       "        <script type=\"text/javascript\">\n",
       "        window.PlotlyConfig = {MathJaxConfig: 'local'};\n",
       "        if (window.MathJax) {MathJax.Hub.Config({SVG: {font: \"STIX-Web\"}});}\n",
       "        if (typeof require !== 'undefined') {\n",
       "        require.undef(\"plotly\");\n",
       "        requirejs.config({\n",
       "            paths: {\n",
       "                'plotly': ['https://cdn.plot.ly/plotly-latest.min']\n",
       "            }\n",
       "        });\n",
       "        require(['plotly'], function(Plotly) {\n",
       "            window._Plotly = Plotly;\n",
       "        });\n",
       "        }\n",
       "        </script>\n",
       "        "
      ]
     },
     "metadata": {},
     "output_type": "display_data"
    },
    {
     "data": {
      "application/vnd.plotly.v1+json": {
       "config": {
        "linkText": "Export to plot.ly",
        "plotlyServerURL": "https://plot.ly",
        "showLink": false
       },
       "data": [
        {
         "line": {
          "color": "orange"
         },
         "name": "Popeyes",
         "opacity": 0.8,
         "type": "scatter",
         "x": [
          "2019-07-22",
          "2019-07-23",
          "2019-07-24",
          "2019-07-25",
          "2019-07-26",
          "2019-07-27",
          "2019-07-28",
          "2019-07-29",
          "2019-07-30",
          "2019-07-31",
          "2019-08-01",
          "2019-08-02",
          "2019-08-03",
          "2019-08-04",
          "2019-08-05",
          "2019-08-06",
          "2019-08-07",
          "2019-08-08",
          "2019-08-09",
          "2019-08-10",
          "2019-08-11",
          "2019-08-12",
          "2019-08-13",
          "2019-08-14",
          "2019-08-15",
          "2019-08-16",
          "2019-08-17",
          "2019-08-18",
          "2019-08-19",
          "2019-08-20",
          "2019-08-21",
          "2019-08-22",
          "2019-08-23",
          "2019-08-24",
          "2019-08-25",
          "2019-08-26",
          "2019-08-27",
          "2019-08-28",
          "2019-08-29",
          "2019-08-30",
          "2019-08-31",
          "2019-09-01",
          "2019-09-02",
          "2019-09-03",
          "2019-09-04",
          "2019-09-05",
          "2019-09-06",
          "2019-09-07",
          "2019-09-08",
          "2019-09-09",
          "2019-09-10",
          "2019-09-11",
          "2019-09-12",
          "2019-09-13",
          "2019-09-14",
          "2019-09-15"
         ],
         "y": [
          0.014188897740632849,
          0.014928099351440629,
          0.014784032216155586,
          0.01504129495773602,
          0.01637648858653847,
          0.014953825625598672,
          0.01428236987007374,
          0.014041400435460068,
          0.01544176729212956,
          0.015738476987418995,
          0.016405645030584254,
          0.017603631863877138,
          0.016698067013514013,
          0.015091889963580171,
          0.014826909339752324,
          0.015882544122704036,
          0.015636429433258756,
          0.01593485421349206,
          0.016903019664306424,
          0.016329323750582058,
          0.015031004448072802,
          0.014212908929847024,
          0.015493219840445648,
          0.015181931923133322,
          0.016130373897093188,
          0.017703964333093507,
          0.0168704330503729,
          0.015715323340676754,
          0.016035186682708428,
          0.02160749766534062,
          0.024438245365197325,
          0.027044316937407116,
          0.030626271842678687,
          0.030168344162665516,
          0.02678276648346701,
          0.02506768153959745,
          0.025517033794891276,
          0.02220691985322303,
          0.021260192964207034,
          0.023883415385855523,
          0.020877729021724124,
          0.01806327462883418,
          0.015201655399987822,
          0.017150849438695576,
          0.017197156732180054,
          0.017269190299822573,
          0.018197051254456004,
          0.017310352338475443,
          0.015433191867410214,
          0.01478317467368365,
          0.015699887576181928,
          0.015653580282697453,
          0.01593656929843593,
          0.017408969722747945,
          0.016716075405424642,
          0.015035292160432475
         ]
        },
        {
         "line": {
          "color": "red"
         },
         "name": "Chick-fil-a",
         "opacity": 0.8,
         "type": "scatter",
         "x": [
          "2019-07-22",
          "2019-07-23",
          "2019-07-24",
          "2019-07-25",
          "2019-07-26",
          "2019-07-27",
          "2019-07-28",
          "2019-07-29",
          "2019-07-30",
          "2019-07-31",
          "2019-08-01",
          "2019-08-02",
          "2019-08-03",
          "2019-08-04",
          "2019-08-05",
          "2019-08-06",
          "2019-08-07",
          "2019-08-08",
          "2019-08-09",
          "2019-08-10",
          "2019-08-11",
          "2019-08-12",
          "2019-08-13",
          "2019-08-14",
          "2019-08-15",
          "2019-08-16",
          "2019-08-17",
          "2019-08-18",
          "2019-08-19",
          "2019-08-20",
          "2019-08-21",
          "2019-08-22",
          "2019-08-23",
          "2019-08-24",
          "2019-08-25",
          "2019-08-26",
          "2019-08-27",
          "2019-08-28",
          "2019-08-29",
          "2019-08-30",
          "2019-08-31",
          "2019-09-01",
          "2019-09-02",
          "2019-09-03",
          "2019-09-04",
          "2019-09-05",
          "2019-09-06",
          "2019-09-07",
          "2019-09-08",
          "2019-09-09",
          "2019-09-10",
          "2019-09-11",
          "2019-09-12",
          "2019-09-13",
          "2019-09-14",
          "2019-09-15"
         ],
         "y": [
          0.01662606977866734,
          0.01832381798531067,
          0.018860118800185136,
          0.01998831107432643,
          0.021789795394166207,
          0.020550918176279423,
          0.004008978881759444,
          0.0166278069863046,
          0.018697813972361026,
          0.019490476999991315,
          0.020446189373004537,
          0.022576254108806277,
          0.022081646277226075,
          0.004100554541495066,
          0.01690154127543303,
          0.01878914145957704,
          0.01931898978894168,
          0.020259315465739162,
          0.021998260310637542,
          0.021635928432008796,
          0.004068788458985148,
          0.017065583310894403,
          0.019109035837352694,
          0.019402623928049822,
          0.020560596904544162,
          0.02260131953328676,
          0.022873812959817146,
          0.004245983637985782,
          0.016850914081432848,
          0.01887699453151853,
          0.019500403900775662,
          0.021108561827840242,
          0.023584827228496162,
          0.023943684691850386,
          0.004364858274878364,
          0.017411039458189757,
          0.019555001855089585,
          0.02044172226765158,
          0.022011413454176804,
          0.025681140501631113,
          0.023740679570810445,
          0.004280975963250613,
          0.014400210450296628,
          0.017317478418297262,
          0.0192825084285592,
          0.02011562357688571,
          0.02217074021176561,
          0.02323664118348511,
          0.004192378373750296,
          0.01618779710903832,
          0.01844095541456599,
          0.019193662666539272,
          0.02012455778759162,
          0.023152510699337752,
          0.023684592581378873,
          0.004148451837779551
         ]
        }
       ],
       "layout": {
        "annotations": [
         {
          "arrowhead": 7,
          "ax": 0,
          "ay": -95,
          "showarrow": true,
          "text": "Release Day",
          "x": "2019-08-12",
          "xref": "x",
          "y": 0.014212908929847024,
          "yref": "y"
         },
         {
          "arrowhead": 7,
          "ax": 0,
          "ay": -40,
          "showarrow": true,
          "text": "Sold Out Day",
          "x": "2019-08-27",
          "xref": "x",
          "y": 0.025517033794891276,
          "yref": "y"
         }
        ],
        "showlegend": true,
        "template": {
         "data": {
          "bar": [
           {
            "error_x": {
             "color": "#2a3f5f"
            },
            "error_y": {
             "color": "#2a3f5f"
            },
            "marker": {
             "line": {
              "color": "#E5ECF6",
              "width": 0.5
             }
            },
            "type": "bar"
           }
          ],
          "barpolar": [
           {
            "marker": {
             "line": {
              "color": "#E5ECF6",
              "width": 0.5
             }
            },
            "type": "barpolar"
           }
          ],
          "carpet": [
           {
            "aaxis": {
             "endlinecolor": "#2a3f5f",
             "gridcolor": "white",
             "linecolor": "white",
             "minorgridcolor": "white",
             "startlinecolor": "#2a3f5f"
            },
            "baxis": {
             "endlinecolor": "#2a3f5f",
             "gridcolor": "white",
             "linecolor": "white",
             "minorgridcolor": "white",
             "startlinecolor": "#2a3f5f"
            },
            "type": "carpet"
           }
          ],
          "choropleth": [
           {
            "colorbar": {
             "outlinewidth": 0,
             "ticks": ""
            },
            "type": "choropleth"
           }
          ],
          "contour": [
           {
            "colorbar": {
             "outlinewidth": 0,
             "ticks": ""
            },
            "colorscale": [
             [
              0,
              "#0d0887"
             ],
             [
              0.1111111111111111,
              "#46039f"
             ],
             [
              0.2222222222222222,
              "#7201a8"
             ],
             [
              0.3333333333333333,
              "#9c179e"
             ],
             [
              0.4444444444444444,
              "#bd3786"
             ],
             [
              0.5555555555555556,
              "#d8576b"
             ],
             [
              0.6666666666666666,
              "#ed7953"
             ],
             [
              0.7777777777777778,
              "#fb9f3a"
             ],
             [
              0.8888888888888888,
              "#fdca26"
             ],
             [
              1,
              "#f0f921"
             ]
            ],
            "type": "contour"
           }
          ],
          "contourcarpet": [
           {
            "colorbar": {
             "outlinewidth": 0,
             "ticks": ""
            },
            "type": "contourcarpet"
           }
          ],
          "heatmap": [
           {
            "colorbar": {
             "outlinewidth": 0,
             "ticks": ""
            },
            "colorscale": [
             [
              0,
              "#0d0887"
             ],
             [
              0.1111111111111111,
              "#46039f"
             ],
             [
              0.2222222222222222,
              "#7201a8"
             ],
             [
              0.3333333333333333,
              "#9c179e"
             ],
             [
              0.4444444444444444,
              "#bd3786"
             ],
             [
              0.5555555555555556,
              "#d8576b"
             ],
             [
              0.6666666666666666,
              "#ed7953"
             ],
             [
              0.7777777777777778,
              "#fb9f3a"
             ],
             [
              0.8888888888888888,
              "#fdca26"
             ],
             [
              1,
              "#f0f921"
             ]
            ],
            "type": "heatmap"
           }
          ],
          "heatmapgl": [
           {
            "colorbar": {
             "outlinewidth": 0,
             "ticks": ""
            },
            "colorscale": [
             [
              0,
              "#0d0887"
             ],
             [
              0.1111111111111111,
              "#46039f"
             ],
             [
              0.2222222222222222,
              "#7201a8"
             ],
             [
              0.3333333333333333,
              "#9c179e"
             ],
             [
              0.4444444444444444,
              "#bd3786"
             ],
             [
              0.5555555555555556,
              "#d8576b"
             ],
             [
              0.6666666666666666,
              "#ed7953"
             ],
             [
              0.7777777777777778,
              "#fb9f3a"
             ],
             [
              0.8888888888888888,
              "#fdca26"
             ],
             [
              1,
              "#f0f921"
             ]
            ],
            "type": "heatmapgl"
           }
          ],
          "histogram": [
           {
            "marker": {
             "colorbar": {
              "outlinewidth": 0,
              "ticks": ""
             }
            },
            "type": "histogram"
           }
          ],
          "histogram2d": [
           {
            "colorbar": {
             "outlinewidth": 0,
             "ticks": ""
            },
            "colorscale": [
             [
              0,
              "#0d0887"
             ],
             [
              0.1111111111111111,
              "#46039f"
             ],
             [
              0.2222222222222222,
              "#7201a8"
             ],
             [
              0.3333333333333333,
              "#9c179e"
             ],
             [
              0.4444444444444444,
              "#bd3786"
             ],
             [
              0.5555555555555556,
              "#d8576b"
             ],
             [
              0.6666666666666666,
              "#ed7953"
             ],
             [
              0.7777777777777778,
              "#fb9f3a"
             ],
             [
              0.8888888888888888,
              "#fdca26"
             ],
             [
              1,
              "#f0f921"
             ]
            ],
            "type": "histogram2d"
           }
          ],
          "histogram2dcontour": [
           {
            "colorbar": {
             "outlinewidth": 0,
             "ticks": ""
            },
            "colorscale": [
             [
              0,
              "#0d0887"
             ],
             [
              0.1111111111111111,
              "#46039f"
             ],
             [
              0.2222222222222222,
              "#7201a8"
             ],
             [
              0.3333333333333333,
              "#9c179e"
             ],
             [
              0.4444444444444444,
              "#bd3786"
             ],
             [
              0.5555555555555556,
              "#d8576b"
             ],
             [
              0.6666666666666666,
              "#ed7953"
             ],
             [
              0.7777777777777778,
              "#fb9f3a"
             ],
             [
              0.8888888888888888,
              "#fdca26"
             ],
             [
              1,
              "#f0f921"
             ]
            ],
            "type": "histogram2dcontour"
           }
          ],
          "mesh3d": [
           {
            "colorbar": {
             "outlinewidth": 0,
             "ticks": ""
            },
            "type": "mesh3d"
           }
          ],
          "parcoords": [
           {
            "line": {
             "colorbar": {
              "outlinewidth": 0,
              "ticks": ""
             }
            },
            "type": "parcoords"
           }
          ],
          "pie": [
           {
            "automargin": true,
            "type": "pie"
           }
          ],
          "scatter": [
           {
            "marker": {
             "colorbar": {
              "outlinewidth": 0,
              "ticks": ""
             }
            },
            "type": "scatter"
           }
          ],
          "scatter3d": [
           {
            "line": {
             "colorbar": {
              "outlinewidth": 0,
              "ticks": ""
             }
            },
            "marker": {
             "colorbar": {
              "outlinewidth": 0,
              "ticks": ""
             }
            },
            "type": "scatter3d"
           }
          ],
          "scattercarpet": [
           {
            "marker": {
             "colorbar": {
              "outlinewidth": 0,
              "ticks": ""
             }
            },
            "type": "scattercarpet"
           }
          ],
          "scattergeo": [
           {
            "marker": {
             "colorbar": {
              "outlinewidth": 0,
              "ticks": ""
             }
            },
            "type": "scattergeo"
           }
          ],
          "scattergl": [
           {
            "marker": {
             "colorbar": {
              "outlinewidth": 0,
              "ticks": ""
             }
            },
            "type": "scattergl"
           }
          ],
          "scattermapbox": [
           {
            "marker": {
             "colorbar": {
              "outlinewidth": 0,
              "ticks": ""
             }
            },
            "type": "scattermapbox"
           }
          ],
          "scatterpolar": [
           {
            "marker": {
             "colorbar": {
              "outlinewidth": 0,
              "ticks": ""
             }
            },
            "type": "scatterpolar"
           }
          ],
          "scatterpolargl": [
           {
            "marker": {
             "colorbar": {
              "outlinewidth": 0,
              "ticks": ""
             }
            },
            "type": "scatterpolargl"
           }
          ],
          "scatterternary": [
           {
            "marker": {
             "colorbar": {
              "outlinewidth": 0,
              "ticks": ""
             }
            },
            "type": "scatterternary"
           }
          ],
          "surface": [
           {
            "colorbar": {
             "outlinewidth": 0,
             "ticks": ""
            },
            "colorscale": [
             [
              0,
              "#0d0887"
             ],
             [
              0.1111111111111111,
              "#46039f"
             ],
             [
              0.2222222222222222,
              "#7201a8"
             ],
             [
              0.3333333333333333,
              "#9c179e"
             ],
             [
              0.4444444444444444,
              "#bd3786"
             ],
             [
              0.5555555555555556,
              "#d8576b"
             ],
             [
              0.6666666666666666,
              "#ed7953"
             ],
             [
              0.7777777777777778,
              "#fb9f3a"
             ],
             [
              0.8888888888888888,
              "#fdca26"
             ],
             [
              1,
              "#f0f921"
             ]
            ],
            "type": "surface"
           }
          ],
          "table": [
           {
            "cells": {
             "fill": {
              "color": "#EBF0F8"
             },
             "line": {
              "color": "white"
             }
            },
            "header": {
             "fill": {
              "color": "#C8D4E3"
             },
             "line": {
              "color": "white"
             }
            },
            "type": "table"
           }
          ]
         },
         "layout": {
          "annotationdefaults": {
           "arrowcolor": "#2a3f5f",
           "arrowhead": 0,
           "arrowwidth": 1
          },
          "coloraxis": {
           "colorbar": {
            "outlinewidth": 0,
            "ticks": ""
           }
          },
          "colorscale": {
           "diverging": [
            [
             0,
             "#8e0152"
            ],
            [
             0.1,
             "#c51b7d"
            ],
            [
             0.2,
             "#de77ae"
            ],
            [
             0.3,
             "#f1b6da"
            ],
            [
             0.4,
             "#fde0ef"
            ],
            [
             0.5,
             "#f7f7f7"
            ],
            [
             0.6,
             "#e6f5d0"
            ],
            [
             0.7,
             "#b8e186"
            ],
            [
             0.8,
             "#7fbc41"
            ],
            [
             0.9,
             "#4d9221"
            ],
            [
             1,
             "#276419"
            ]
           ],
           "sequential": [
            [
             0,
             "#0d0887"
            ],
            [
             0.1111111111111111,
             "#46039f"
            ],
            [
             0.2222222222222222,
             "#7201a8"
            ],
            [
             0.3333333333333333,
             "#9c179e"
            ],
            [
             0.4444444444444444,
             "#bd3786"
            ],
            [
             0.5555555555555556,
             "#d8576b"
            ],
            [
             0.6666666666666666,
             "#ed7953"
            ],
            [
             0.7777777777777778,
             "#fb9f3a"
            ],
            [
             0.8888888888888888,
             "#fdca26"
            ],
            [
             1,
             "#f0f921"
            ]
           ],
           "sequentialminus": [
            [
             0,
             "#0d0887"
            ],
            [
             0.1111111111111111,
             "#46039f"
            ],
            [
             0.2222222222222222,
             "#7201a8"
            ],
            [
             0.3333333333333333,
             "#9c179e"
            ],
            [
             0.4444444444444444,
             "#bd3786"
            ],
            [
             0.5555555555555556,
             "#d8576b"
            ],
            [
             0.6666666666666666,
             "#ed7953"
            ],
            [
             0.7777777777777778,
             "#fb9f3a"
            ],
            [
             0.8888888888888888,
             "#fdca26"
            ],
            [
             1,
             "#f0f921"
            ]
           ]
          },
          "colorway": [
           "#636efa",
           "#EF553B",
           "#00cc96",
           "#ab63fa",
           "#FFA15A",
           "#19d3f3",
           "#FF6692",
           "#B6E880",
           "#FF97FF",
           "#FECB52"
          ],
          "font": {
           "color": "#2a3f5f"
          },
          "geo": {
           "bgcolor": "white",
           "lakecolor": "white",
           "landcolor": "#E5ECF6",
           "showlakes": true,
           "showland": true,
           "subunitcolor": "white"
          },
          "hoverlabel": {
           "align": "left"
          },
          "hovermode": "closest",
          "mapbox": {
           "style": "light"
          },
          "paper_bgcolor": "white",
          "plot_bgcolor": "#E5ECF6",
          "polar": {
           "angularaxis": {
            "gridcolor": "white",
            "linecolor": "white",
            "ticks": ""
           },
           "bgcolor": "#E5ECF6",
           "radialaxis": {
            "gridcolor": "white",
            "linecolor": "white",
            "ticks": ""
           }
          },
          "scene": {
           "xaxis": {
            "backgroundcolor": "#E5ECF6",
            "gridcolor": "white",
            "gridwidth": 2,
            "linecolor": "white",
            "showbackground": true,
            "ticks": "",
            "zerolinecolor": "white"
           },
           "yaxis": {
            "backgroundcolor": "#E5ECF6",
            "gridcolor": "white",
            "gridwidth": 2,
            "linecolor": "white",
            "showbackground": true,
            "ticks": "",
            "zerolinecolor": "white"
           },
           "zaxis": {
            "backgroundcolor": "#E5ECF6",
            "gridcolor": "white",
            "gridwidth": 2,
            "linecolor": "white",
            "showbackground": true,
            "ticks": "",
            "zerolinecolor": "white"
           }
          },
          "shapedefaults": {
           "line": {
            "color": "#2a3f5f"
           }
          },
          "ternary": {
           "aaxis": {
            "gridcolor": "white",
            "linecolor": "white",
            "ticks": ""
           },
           "baxis": {
            "gridcolor": "white",
            "linecolor": "white",
            "ticks": ""
           },
           "bgcolor": "#E5ECF6",
           "caxis": {
            "gridcolor": "white",
            "linecolor": "white",
            "ticks": ""
           }
          },
          "title": {
           "x": 0.05
          },
          "xaxis": {
           "automargin": true,
           "gridcolor": "white",
           "linecolor": "white",
           "ticks": "",
           "title": {
            "standoff": 15
           },
           "zerolinecolor": "white",
           "zerolinewidth": 2
          },
          "yaxis": {
           "automargin": true,
           "gridcolor": "white",
           "linecolor": "white",
           "ticks": "",
           "title": {
            "standoff": 15
           },
           "zerolinecolor": "white",
           "zerolinewidth": 2
          }
         }
        },
        "title": {
         "text": "Popeyes vs Chick-fil-a Foot Traffic before and after the New Sandwiches Released"
        },
        "xaxis": {
         "title": {
          "text": "Date"
         }
        },
        "yaxis": {
         "title": {
          "text": "Change in Visit over 8 week span"
         }
        }
       }
      },
      "text/html": [
       "<div>\n",
       "        \n",
       "        \n",
       "            <div id=\"79b0aa09-3560-41b4-9ba6-d216e555e65e\" class=\"plotly-graph-div\" style=\"height:525px; width:100%;\"></div>\n",
       "            <script type=\"text/javascript\">\n",
       "                require([\"plotly\"], function(Plotly) {\n",
       "                    window.PLOTLYENV=window.PLOTLYENV || {};\n",
       "                    \n",
       "                if (document.getElementById(\"79b0aa09-3560-41b4-9ba6-d216e555e65e\")) {\n",
       "                    Plotly.newPlot(\n",
       "                        '79b0aa09-3560-41b4-9ba6-d216e555e65e',\n",
       "                        [{\"line\": {\"color\": \"orange\"}, \"name\": \"Popeyes\", \"opacity\": 0.8, \"type\": \"scatter\", \"x\": [\"2019-07-22\", \"2019-07-23\", \"2019-07-24\", \"2019-07-25\", \"2019-07-26\", \"2019-07-27\", \"2019-07-28\", \"2019-07-29\", \"2019-07-30\", \"2019-07-31\", \"2019-08-01\", \"2019-08-02\", \"2019-08-03\", \"2019-08-04\", \"2019-08-05\", \"2019-08-06\", \"2019-08-07\", \"2019-08-08\", \"2019-08-09\", \"2019-08-10\", \"2019-08-11\", \"2019-08-12\", \"2019-08-13\", \"2019-08-14\", \"2019-08-15\", \"2019-08-16\", \"2019-08-17\", \"2019-08-18\", \"2019-08-19\", \"2019-08-20\", \"2019-08-21\", \"2019-08-22\", \"2019-08-23\", \"2019-08-24\", \"2019-08-25\", \"2019-08-26\", \"2019-08-27\", \"2019-08-28\", \"2019-08-29\", \"2019-08-30\", \"2019-08-31\", \"2019-09-01\", \"2019-09-02\", \"2019-09-03\", \"2019-09-04\", \"2019-09-05\", \"2019-09-06\", \"2019-09-07\", \"2019-09-08\", \"2019-09-09\", \"2019-09-10\", \"2019-09-11\", \"2019-09-12\", \"2019-09-13\", \"2019-09-14\", \"2019-09-15\"], \"y\": [0.014188897740632849, 0.014928099351440629, 0.014784032216155586, 0.01504129495773602, 0.01637648858653847, 0.014953825625598672, 0.01428236987007374, 0.014041400435460068, 0.01544176729212956, 0.015738476987418995, 0.016405645030584254, 0.017603631863877138, 0.016698067013514013, 0.015091889963580171, 0.014826909339752324, 0.015882544122704036, 0.015636429433258756, 0.01593485421349206, 0.016903019664306424, 0.016329323750582058, 0.015031004448072802, 0.014212908929847024, 0.015493219840445648, 0.015181931923133322, 0.016130373897093188, 0.017703964333093507, 0.0168704330503729, 0.015715323340676754, 0.016035186682708428, 0.02160749766534062, 0.024438245365197325, 0.027044316937407116, 0.030626271842678687, 0.030168344162665516, 0.02678276648346701, 0.02506768153959745, 0.025517033794891276, 0.02220691985322303, 0.021260192964207034, 0.023883415385855523, 0.020877729021724124, 0.01806327462883418, 0.015201655399987822, 0.017150849438695576, 0.017197156732180054, 0.017269190299822573, 0.018197051254456004, 0.017310352338475443, 0.015433191867410214, 0.01478317467368365, 0.015699887576181928, 0.015653580282697453, 0.01593656929843593, 0.017408969722747945, 0.016716075405424642, 0.015035292160432475]}, {\"line\": {\"color\": \"red\"}, \"name\": \"Chick-fil-a\", \"opacity\": 0.8, \"type\": \"scatter\", \"x\": [\"2019-07-22\", \"2019-07-23\", \"2019-07-24\", \"2019-07-25\", \"2019-07-26\", \"2019-07-27\", \"2019-07-28\", \"2019-07-29\", \"2019-07-30\", \"2019-07-31\", \"2019-08-01\", \"2019-08-02\", \"2019-08-03\", \"2019-08-04\", \"2019-08-05\", \"2019-08-06\", \"2019-08-07\", \"2019-08-08\", \"2019-08-09\", \"2019-08-10\", \"2019-08-11\", \"2019-08-12\", \"2019-08-13\", \"2019-08-14\", \"2019-08-15\", \"2019-08-16\", \"2019-08-17\", \"2019-08-18\", \"2019-08-19\", \"2019-08-20\", \"2019-08-21\", \"2019-08-22\", \"2019-08-23\", \"2019-08-24\", \"2019-08-25\", \"2019-08-26\", \"2019-08-27\", \"2019-08-28\", \"2019-08-29\", \"2019-08-30\", \"2019-08-31\", \"2019-09-01\", \"2019-09-02\", \"2019-09-03\", \"2019-09-04\", \"2019-09-05\", \"2019-09-06\", \"2019-09-07\", \"2019-09-08\", \"2019-09-09\", \"2019-09-10\", \"2019-09-11\", \"2019-09-12\", \"2019-09-13\", \"2019-09-14\", \"2019-09-15\"], \"y\": [0.01662606977866734, 0.01832381798531067, 0.018860118800185136, 0.01998831107432643, 0.021789795394166207, 0.020550918176279423, 0.004008978881759444, 0.0166278069863046, 0.018697813972361026, 0.019490476999991315, 0.020446189373004537, 0.022576254108806277, 0.022081646277226075, 0.004100554541495066, 0.01690154127543303, 0.01878914145957704, 0.01931898978894168, 0.020259315465739162, 0.021998260310637542, 0.021635928432008796, 0.004068788458985148, 0.017065583310894403, 0.019109035837352694, 0.019402623928049822, 0.020560596904544162, 0.02260131953328676, 0.022873812959817146, 0.004245983637985782, 0.016850914081432848, 0.01887699453151853, 0.019500403900775662, 0.021108561827840242, 0.023584827228496162, 0.023943684691850386, 0.004364858274878364, 0.017411039458189757, 0.019555001855089585, 0.02044172226765158, 0.022011413454176804, 0.025681140501631113, 0.023740679570810445, 0.004280975963250613, 0.014400210450296628, 0.017317478418297262, 0.0192825084285592, 0.02011562357688571, 0.02217074021176561, 0.02323664118348511, 0.004192378373750296, 0.01618779710903832, 0.01844095541456599, 0.019193662666539272, 0.02012455778759162, 0.023152510699337752, 0.023684592581378873, 0.004148451837779551]}],\n",
       "                        {\"annotations\": [{\"arrowhead\": 7, \"ax\": 0, \"ay\": -95, \"showarrow\": true, \"text\": \"Release Day\", \"x\": \"2019-08-12\", \"xref\": \"x\", \"y\": 0.014212908929847024, \"yref\": \"y\"}, {\"arrowhead\": 7, \"ax\": 0, \"ay\": -40, \"showarrow\": true, \"text\": \"Sold Out Day\", \"x\": \"2019-08-27\", \"xref\": \"x\", \"y\": 0.025517033794891276, \"yref\": \"y\"}], \"showlegend\": true, \"template\": {\"data\": {\"bar\": [{\"error_x\": {\"color\": \"#2a3f5f\"}, \"error_y\": {\"color\": \"#2a3f5f\"}, \"marker\": {\"line\": {\"color\": \"#E5ECF6\", \"width\": 0.5}}, \"type\": \"bar\"}], \"barpolar\": [{\"marker\": {\"line\": {\"color\": \"#E5ECF6\", \"width\": 0.5}}, \"type\": \"barpolar\"}], \"carpet\": [{\"aaxis\": {\"endlinecolor\": \"#2a3f5f\", \"gridcolor\": \"white\", \"linecolor\": \"white\", \"minorgridcolor\": \"white\", \"startlinecolor\": \"#2a3f5f\"}, \"baxis\": {\"endlinecolor\": \"#2a3f5f\", \"gridcolor\": \"white\", \"linecolor\": \"white\", \"minorgridcolor\": \"white\", \"startlinecolor\": \"#2a3f5f\"}, \"type\": \"carpet\"}], \"choropleth\": [{\"colorbar\": {\"outlinewidth\": 0, \"ticks\": \"\"}, \"type\": \"choropleth\"}], \"contour\": [{\"colorbar\": {\"outlinewidth\": 0, \"ticks\": \"\"}, \"colorscale\": [[0.0, \"#0d0887\"], [0.1111111111111111, \"#46039f\"], [0.2222222222222222, \"#7201a8\"], [0.3333333333333333, \"#9c179e\"], [0.4444444444444444, \"#bd3786\"], [0.5555555555555556, \"#d8576b\"], [0.6666666666666666, \"#ed7953\"], [0.7777777777777778, \"#fb9f3a\"], [0.8888888888888888, \"#fdca26\"], [1.0, \"#f0f921\"]], \"type\": \"contour\"}], \"contourcarpet\": [{\"colorbar\": {\"outlinewidth\": 0, \"ticks\": \"\"}, \"type\": \"contourcarpet\"}], \"heatmap\": [{\"colorbar\": {\"outlinewidth\": 0, \"ticks\": \"\"}, \"colorscale\": [[0.0, \"#0d0887\"], [0.1111111111111111, \"#46039f\"], [0.2222222222222222, \"#7201a8\"], [0.3333333333333333, \"#9c179e\"], [0.4444444444444444, \"#bd3786\"], [0.5555555555555556, \"#d8576b\"], [0.6666666666666666, \"#ed7953\"], [0.7777777777777778, \"#fb9f3a\"], [0.8888888888888888, \"#fdca26\"], [1.0, \"#f0f921\"]], \"type\": \"heatmap\"}], \"heatmapgl\": [{\"colorbar\": {\"outlinewidth\": 0, \"ticks\": \"\"}, \"colorscale\": [[0.0, \"#0d0887\"], [0.1111111111111111, \"#46039f\"], [0.2222222222222222, \"#7201a8\"], [0.3333333333333333, \"#9c179e\"], [0.4444444444444444, \"#bd3786\"], [0.5555555555555556, \"#d8576b\"], [0.6666666666666666, \"#ed7953\"], [0.7777777777777778, \"#fb9f3a\"], [0.8888888888888888, \"#fdca26\"], [1.0, \"#f0f921\"]], \"type\": \"heatmapgl\"}], \"histogram\": [{\"marker\": {\"colorbar\": {\"outlinewidth\": 0, \"ticks\": \"\"}}, \"type\": \"histogram\"}], \"histogram2d\": [{\"colorbar\": {\"outlinewidth\": 0, \"ticks\": \"\"}, \"colorscale\": [[0.0, \"#0d0887\"], [0.1111111111111111, \"#46039f\"], [0.2222222222222222, \"#7201a8\"], [0.3333333333333333, \"#9c179e\"], [0.4444444444444444, \"#bd3786\"], [0.5555555555555556, \"#d8576b\"], [0.6666666666666666, \"#ed7953\"], [0.7777777777777778, \"#fb9f3a\"], [0.8888888888888888, \"#fdca26\"], [1.0, \"#f0f921\"]], \"type\": \"histogram2d\"}], \"histogram2dcontour\": [{\"colorbar\": {\"outlinewidth\": 0, \"ticks\": \"\"}, \"colorscale\": [[0.0, \"#0d0887\"], [0.1111111111111111, \"#46039f\"], [0.2222222222222222, \"#7201a8\"], [0.3333333333333333, \"#9c179e\"], [0.4444444444444444, \"#bd3786\"], [0.5555555555555556, \"#d8576b\"], [0.6666666666666666, \"#ed7953\"], [0.7777777777777778, \"#fb9f3a\"], [0.8888888888888888, \"#fdca26\"], [1.0, \"#f0f921\"]], \"type\": \"histogram2dcontour\"}], \"mesh3d\": [{\"colorbar\": {\"outlinewidth\": 0, \"ticks\": \"\"}, \"type\": \"mesh3d\"}], \"parcoords\": [{\"line\": {\"colorbar\": {\"outlinewidth\": 0, \"ticks\": \"\"}}, \"type\": \"parcoords\"}], \"pie\": [{\"automargin\": true, \"type\": \"pie\"}], \"scatter\": [{\"marker\": {\"colorbar\": {\"outlinewidth\": 0, \"ticks\": \"\"}}, \"type\": \"scatter\"}], \"scatter3d\": [{\"line\": {\"colorbar\": {\"outlinewidth\": 0, \"ticks\": \"\"}}, \"marker\": {\"colorbar\": {\"outlinewidth\": 0, \"ticks\": \"\"}}, \"type\": \"scatter3d\"}], \"scattercarpet\": [{\"marker\": {\"colorbar\": {\"outlinewidth\": 0, \"ticks\": \"\"}}, \"type\": \"scattercarpet\"}], \"scattergeo\": [{\"marker\": {\"colorbar\": {\"outlinewidth\": 0, \"ticks\": \"\"}}, \"type\": \"scattergeo\"}], \"scattergl\": [{\"marker\": {\"colorbar\": {\"outlinewidth\": 0, \"ticks\": \"\"}}, \"type\": \"scattergl\"}], \"scattermapbox\": [{\"marker\": {\"colorbar\": {\"outlinewidth\": 0, \"ticks\": \"\"}}, \"type\": \"scattermapbox\"}], \"scatterpolar\": [{\"marker\": {\"colorbar\": {\"outlinewidth\": 0, \"ticks\": \"\"}}, \"type\": \"scatterpolar\"}], \"scatterpolargl\": [{\"marker\": {\"colorbar\": {\"outlinewidth\": 0, \"ticks\": \"\"}}, \"type\": \"scatterpolargl\"}], \"scatterternary\": [{\"marker\": {\"colorbar\": {\"outlinewidth\": 0, \"ticks\": \"\"}}, \"type\": \"scatterternary\"}], \"surface\": [{\"colorbar\": {\"outlinewidth\": 0, \"ticks\": \"\"}, \"colorscale\": [[0.0, \"#0d0887\"], [0.1111111111111111, \"#46039f\"], [0.2222222222222222, \"#7201a8\"], [0.3333333333333333, \"#9c179e\"], [0.4444444444444444, \"#bd3786\"], [0.5555555555555556, \"#d8576b\"], [0.6666666666666666, \"#ed7953\"], [0.7777777777777778, \"#fb9f3a\"], [0.8888888888888888, \"#fdca26\"], [1.0, \"#f0f921\"]], \"type\": \"surface\"}], \"table\": [{\"cells\": {\"fill\": {\"color\": \"#EBF0F8\"}, \"line\": {\"color\": \"white\"}}, \"header\": {\"fill\": {\"color\": \"#C8D4E3\"}, \"line\": {\"color\": \"white\"}}, \"type\": \"table\"}]}, \"layout\": {\"annotationdefaults\": {\"arrowcolor\": \"#2a3f5f\", \"arrowhead\": 0, \"arrowwidth\": 1}, \"coloraxis\": {\"colorbar\": {\"outlinewidth\": 0, \"ticks\": \"\"}}, \"colorscale\": {\"diverging\": [[0, \"#8e0152\"], [0.1, \"#c51b7d\"], [0.2, \"#de77ae\"], [0.3, \"#f1b6da\"], [0.4, \"#fde0ef\"], [0.5, \"#f7f7f7\"], [0.6, \"#e6f5d0\"], [0.7, \"#b8e186\"], [0.8, \"#7fbc41\"], [0.9, \"#4d9221\"], [1, \"#276419\"]], \"sequential\": [[0.0, \"#0d0887\"], [0.1111111111111111, \"#46039f\"], [0.2222222222222222, \"#7201a8\"], [0.3333333333333333, \"#9c179e\"], [0.4444444444444444, \"#bd3786\"], [0.5555555555555556, \"#d8576b\"], [0.6666666666666666, \"#ed7953\"], [0.7777777777777778, \"#fb9f3a\"], [0.8888888888888888, \"#fdca26\"], [1.0, \"#f0f921\"]], \"sequentialminus\": [[0.0, \"#0d0887\"], [0.1111111111111111, \"#46039f\"], [0.2222222222222222, \"#7201a8\"], [0.3333333333333333, \"#9c179e\"], [0.4444444444444444, \"#bd3786\"], [0.5555555555555556, \"#d8576b\"], [0.6666666666666666, \"#ed7953\"], [0.7777777777777778, \"#fb9f3a\"], [0.8888888888888888, \"#fdca26\"], [1.0, \"#f0f921\"]]}, \"colorway\": [\"#636efa\", \"#EF553B\", \"#00cc96\", \"#ab63fa\", \"#FFA15A\", \"#19d3f3\", \"#FF6692\", \"#B6E880\", \"#FF97FF\", \"#FECB52\"], \"font\": {\"color\": \"#2a3f5f\"}, \"geo\": {\"bgcolor\": \"white\", \"lakecolor\": \"white\", \"landcolor\": \"#E5ECF6\", \"showlakes\": true, \"showland\": true, \"subunitcolor\": \"white\"}, \"hoverlabel\": {\"align\": \"left\"}, \"hovermode\": \"closest\", \"mapbox\": {\"style\": \"light\"}, \"paper_bgcolor\": \"white\", \"plot_bgcolor\": \"#E5ECF6\", \"polar\": {\"angularaxis\": {\"gridcolor\": \"white\", \"linecolor\": \"white\", \"ticks\": \"\"}, \"bgcolor\": \"#E5ECF6\", \"radialaxis\": {\"gridcolor\": \"white\", \"linecolor\": \"white\", \"ticks\": \"\"}}, \"scene\": {\"xaxis\": {\"backgroundcolor\": \"#E5ECF6\", \"gridcolor\": \"white\", \"gridwidth\": 2, \"linecolor\": \"white\", \"showbackground\": true, \"ticks\": \"\", \"zerolinecolor\": \"white\"}, \"yaxis\": {\"backgroundcolor\": \"#E5ECF6\", \"gridcolor\": \"white\", \"gridwidth\": 2, \"linecolor\": \"white\", \"showbackground\": true, \"ticks\": \"\", \"zerolinecolor\": \"white\"}, \"zaxis\": {\"backgroundcolor\": \"#E5ECF6\", \"gridcolor\": \"white\", \"gridwidth\": 2, \"linecolor\": \"white\", \"showbackground\": true, \"ticks\": \"\", \"zerolinecolor\": \"white\"}}, \"shapedefaults\": {\"line\": {\"color\": \"#2a3f5f\"}}, \"ternary\": {\"aaxis\": {\"gridcolor\": \"white\", \"linecolor\": \"white\", \"ticks\": \"\"}, \"baxis\": {\"gridcolor\": \"white\", \"linecolor\": \"white\", \"ticks\": \"\"}, \"bgcolor\": \"#E5ECF6\", \"caxis\": {\"gridcolor\": \"white\", \"linecolor\": \"white\", \"ticks\": \"\"}}, \"title\": {\"x\": 0.05}, \"xaxis\": {\"automargin\": true, \"gridcolor\": \"white\", \"linecolor\": \"white\", \"ticks\": \"\", \"title\": {\"standoff\": 15}, \"zerolinecolor\": \"white\", \"zerolinewidth\": 2}, \"yaxis\": {\"automargin\": true, \"gridcolor\": \"white\", \"linecolor\": \"white\", \"ticks\": \"\", \"title\": {\"standoff\": 15}, \"zerolinecolor\": \"white\", \"zerolinewidth\": 2}}}, \"title\": {\"text\": \"Popeyes vs Chick-fil-a Foot Traffic before and after the New Sandwiches Released\"}, \"xaxis\": {\"title\": {\"text\": \"Date\"}}, \"yaxis\": {\"title\": {\"text\": \"Change in Visit over 8 week span\"}}},\n",
       "                        {\"responsive\": true}\n",
       "                    ).then(function(){\n",
       "                            \n",
       "var gd = document.getElementById('79b0aa09-3560-41b4-9ba6-d216e555e65e');\n",
       "var x = new MutationObserver(function (mutations, observer) {{\n",
       "        var display = window.getComputedStyle(gd).display;\n",
       "        if (!display || display === 'none') {{\n",
       "            console.log([gd, 'removed!']);\n",
       "            Plotly.purge(gd);\n",
       "            observer.disconnect();\n",
       "        }}\n",
       "}});\n",
       "\n",
       "// Listen for the removal of the full notebook cells\n",
       "var notebookContainer = gd.closest('#notebook-container');\n",
       "if (notebookContainer) {{\n",
       "    x.observe(notebookContainer, {childList: true});\n",
       "}}\n",
       "\n",
       "// Listen for the clearing of the current output cell\n",
       "var outputEl = gd.closest('.output');\n",
       "if (outputEl) {{\n",
       "    x.observe(outputEl, {childList: true});\n",
       "}}\n",
       "\n",
       "                        })\n",
       "                };\n",
       "                });\n",
       "            </script>\n",
       "        </div>"
      ]
     },
     "metadata": {},
     "output_type": "display_data"
    }
   ],
   "source": [
    "#Identify the day the sandwiches was released and when it was sold out\n",
    "#To show on the graph\n",
    "release_day = dfp.loc['2019-08-12', 'visit_share']\n",
    "soldout_day = dfp.loc['2019-08-27', 'visit_share']\n",
    "\n",
    "#Create graph to show foot traffic at CFA and PP before and after the New Sandwiches Released\n",
    "from plotly.offline import init_notebook_mode, iplot\n",
    "init_notebook_mode(connected=True)\n",
    "import plotly.graph_objects as go\n",
    "\n",
    "fig = go.Figure()\n",
    "fig = go.Figure()\n",
    "fig.add_trace(go.Scatter(x = dfp.index, y = dfp['visit_share'],\n",
    "                         name = 'Popeyes', line_color = 'orange', opacity = 0.8))\n",
    "fig.add_trace(go.Scatter(x = dfc.index, y = dfc['visit_share'],\n",
    "                         name = 'Chick-fil-a', line_color = 'red', opacity = 0.8))\n",
    "fig.update_layout(\n",
    "    showlegend = False,\n",
    "    annotations = [\n",
    "        go.layout.Annotation(\n",
    "            x= '2019-08-12',\n",
    "            y= release_day,\n",
    "            xref = \"x\",\n",
    "            yref = \"y\",\n",
    "            text = \"Release Day\",\n",
    "            showarrow = True,\n",
    "            arrowhead = 7,\n",
    "            ax=0,\n",
    "            ay=-95\n",
    "        ),\n",
    "        go.layout.Annotation(\n",
    "            x='2019-08-27',\n",
    "            y=soldout_day,\n",
    "            xref=\"x\",\n",
    "            yref=\"y\",\n",
    "            text=\"Sold Out Day\",\n",
    "            showarrow=True,\n",
    "            arrowhead=7,\n",
    "            ax=0,\n",
    "            ay=-40\n",
    "        )\n",
    "    ]\n",
    ")\n",
    "#Add titles\n",
    "fig.update_xaxes(title_text = 'Date')\n",
    "fig.update_yaxes(title_text='Change in Visit over 8 week span')\n",
    "fig.update_layout(\n",
    "    title_text=\"Popeyes vs Chick-fil-a Foot Traffic before and after the New Sandwiches Released\",showlegend=True)\n",
    "iplot(fig)\n"
   ]
  },
  {
   "cell_type": "markdown",
   "metadata": {},
   "source": [
    "**Analysis**\n",
    "\n",
    "* Before the new Popeyes Sandwiches was released, both CFA and PP have a steady number of visits. In both chains, Fridays and Saturdays are their busiest days. As for CFA, the number of visits suddenly go down on Sundays because the chain closed on those days.\n",
    "* After a week of promotion, PP visits increased. Although the volume of visits was still higher than before the promotion, the number of visits decreased before they officially sold out the sandwiches.  There are a lot of reasons which could possibly lead to this -- a lot of their stores already sold out, or the line of waiting was too long.\n",
    "* Popeyes’ promotion also helped CFA attract more customers. When PP sandwiches became a trend after a week of promotion, the number of visits at CFA also increased. And right after PP sold out the sandwiches, the volume of visits at CFA increased more. One of the reasons could be because of social media, where people would compare both chains’ sandwiches.\n",
    "* In Foursquare Database, CFA only have 200 more stores than PP. However, looking at the graph, we can tell that CFA is still American's favorite fast food restaurant chain. The volume of visits at CFA are extremely larger than PP's in general.\n"
   ]
  },
  {
   "cell_type": "markdown",
   "metadata": {},
   "source": [
    "### 2. Age & Gender Distribution of Customers at Popeyes & Chick-fil-A"
   ]
  },
  {
   "cell_type": "markdown",
   "metadata": {},
   "source": [
    "### a. In the last three years\n",
    "Foursquare's database includes a table that show the user id with different probabilities of ones' age and gender. Since the table is very large and expensive to run query on, I'm going to create a temporary table to rank the probabilities of their age and gender. \n",
    "\n",
    "```sql\n",
    "CREATE OR REPLACE TEMPORARY VIEW user_prob AS \n",
    "\n",
    "SELECT \n",
    "ui.userid, \n",
    "ui.gender,\n",
    "ui.age,\n",
    "ui.probability,\n",
    "RANK() OVER (PARTITION BY userid ORDER BY probability DESC) AS demo_rank\n",
    "\n",
    "FROM analytics.userinfo ui\n",
    "```\n",
    "\n",
    "Next, I'm going to create a table with total number of visit at CFA and PP group by gender and age in the last three years.\n",
    "\n",
    "```sql\n",
    "SELECT\n",
    "cvnp.dt,\n",
    "up.gender,\n",
    "up.age,\n",
    "vc.chainname,\n",
    "COUNT(cvnp.userid) AS number_visit\n",
    "\n",
    "FROM \n",
    "user_prob up \n",
    "JOIN  analytics.cvnp_optimized cvnp ON up.userid = cvnp.userid\n",
    "JOIN analytics.venueinfo vi ON cvnp.venueid = vi.venueid\n",
    "JOIN analytics.venuechains vc ON vc.venueid = vi.venueid\n",
    "\n",
    "WHERE\n",
    "vc.chainid IN ('561e8768498ea6bc69a4a287', '556e1846a7c82e6b72513d6b') -- Popeyes and Chick-fil-a chainid\n",
    "  AND vi.cc = 'US'\n",
    "  AND cvnp.dt BETWEEN '2015-07-01' AND '2019-09-15' \n",
    "  AND up.demo_rank = '1' -- highest probablity of user info\n",
    "  \n",
    "GROUP BY cvnp.dt, up.gender, up.age, vc.chainname\n",
    "\n",
    "ORDER BY cvnp.dt\n",
    "```"
   ]
  },
  {
   "cell_type": "markdown",
   "metadata": {},
   "source": [
    "Now, let's take a look at our data"
   ]
  },
  {
   "cell_type": "code",
   "execution_count": 5,
   "metadata": {},
   "outputs": [
    {
     "data": {
      "text/html": [
       "<div>\n",
       "<style scoped>\n",
       "    .dataframe tbody tr th:only-of-type {\n",
       "        vertical-align: middle;\n",
       "    }\n",
       "\n",
       "    .dataframe tbody tr th {\n",
       "        vertical-align: top;\n",
       "    }\n",
       "\n",
       "    .dataframe thead th {\n",
       "        text-align: right;\n",
       "    }\n",
       "</style>\n",
       "<table border=\"1\" class=\"dataframe\">\n",
       "  <thead>\n",
       "    <tr style=\"text-align: right;\">\n",
       "      <th></th>\n",
       "      <th>dt</th>\n",
       "      <th>gender</th>\n",
       "      <th>age</th>\n",
       "      <th>chainname</th>\n",
       "      <th>number_visit</th>\n",
       "    </tr>\n",
       "  </thead>\n",
       "  <tbody>\n",
       "    <tr>\n",
       "      <th>0</th>\n",
       "      <td>2015-07-01</td>\n",
       "      <td>male</td>\n",
       "      <td>55_64</td>\n",
       "      <td>Chick-fil-A</td>\n",
       "      <td>173</td>\n",
       "    </tr>\n",
       "    <tr>\n",
       "      <th>1</th>\n",
       "      <td>2015-07-01</td>\n",
       "      <td>female</td>\n",
       "      <td>65_plus</td>\n",
       "      <td>Popeyes Louisiana Kitchen</td>\n",
       "      <td>16</td>\n",
       "    </tr>\n",
       "    <tr>\n",
       "      <th>2</th>\n",
       "      <td>2015-07-01</td>\n",
       "      <td>male</td>\n",
       "      <td>45_54</td>\n",
       "      <td>Chick-fil-A</td>\n",
       "      <td>541</td>\n",
       "    </tr>\n",
       "    <tr>\n",
       "      <th>3</th>\n",
       "      <td>2015-07-01</td>\n",
       "      <td>male</td>\n",
       "      <td>45_54</td>\n",
       "      <td>Popeyes Louisiana Kitchen</td>\n",
       "      <td>135</td>\n",
       "    </tr>\n",
       "    <tr>\n",
       "      <th>4</th>\n",
       "      <td>2015-07-01</td>\n",
       "      <td>male</td>\n",
       "      <td>55_64</td>\n",
       "      <td>Popeyes Louisiana Kitchen</td>\n",
       "      <td>46</td>\n",
       "    </tr>\n",
       "  </tbody>\n",
       "</table>\n",
       "</div>"
      ],
      "text/plain": [
       "           dt  gender      age                  chainname  number_visit\n",
       "0  2015-07-01    male    55_64                Chick-fil-A           173\n",
       "1  2015-07-01  female  65_plus  Popeyes Louisiana Kitchen            16\n",
       "2  2015-07-01    male    45_54                Chick-fil-A           541\n",
       "3  2015-07-01    male    45_54  Popeyes Louisiana Kitchen           135\n",
       "4  2015-07-01    male    55_64  Popeyes Louisiana Kitchen            46"
      ]
     },
     "execution_count": 5,
     "metadata": {},
     "output_type": "execute_result"
    }
   ],
   "source": [
    "df1 = pd.read_csv('pp_cfa1.csv')\n",
    "df1.head()"
   ]
  },
  {
   "cell_type": "code",
   "execution_count": 6,
   "metadata": {},
   "outputs": [
    {
     "data": {
      "text/html": [
       "<div>\n",
       "<style scoped>\n",
       "    .dataframe tbody tr th:only-of-type {\n",
       "        vertical-align: middle;\n",
       "    }\n",
       "\n",
       "    .dataframe tbody tr th {\n",
       "        vertical-align: top;\n",
       "    }\n",
       "\n",
       "    .dataframe thead th {\n",
       "        text-align: right;\n",
       "    }\n",
       "</style>\n",
       "<table border=\"1\" class=\"dataframe\">\n",
       "  <thead>\n",
       "    <tr style=\"text-align: right;\">\n",
       "      <th></th>\n",
       "      <th>chainname</th>\n",
       "      <th>gender</th>\n",
       "      <th>age</th>\n",
       "      <th>number_visit</th>\n",
       "    </tr>\n",
       "  </thead>\n",
       "  <tbody>\n",
       "    <tr>\n",
       "      <th>0</th>\n",
       "      <td>Chick-fil-A</td>\n",
       "      <td>female</td>\n",
       "      <td>18_24</td>\n",
       "      <td>1832416</td>\n",
       "    </tr>\n",
       "    <tr>\n",
       "      <th>1</th>\n",
       "      <td>Chick-fil-A</td>\n",
       "      <td>female</td>\n",
       "      <td>25_34</td>\n",
       "      <td>6015081</td>\n",
       "    </tr>\n",
       "    <tr>\n",
       "      <th>2</th>\n",
       "      <td>Chick-fil-A</td>\n",
       "      <td>female</td>\n",
       "      <td>35_44</td>\n",
       "      <td>7496771</td>\n",
       "    </tr>\n",
       "    <tr>\n",
       "      <th>3</th>\n",
       "      <td>Chick-fil-A</td>\n",
       "      <td>female</td>\n",
       "      <td>45_54</td>\n",
       "      <td>2869178</td>\n",
       "    </tr>\n",
       "    <tr>\n",
       "      <th>4</th>\n",
       "      <td>Chick-fil-A</td>\n",
       "      <td>female</td>\n",
       "      <td>55_64</td>\n",
       "      <td>986351</td>\n",
       "    </tr>\n",
       "    <tr>\n",
       "      <th>5</th>\n",
       "      <td>Chick-fil-A</td>\n",
       "      <td>female</td>\n",
       "      <td>65_plus</td>\n",
       "      <td>423463</td>\n",
       "    </tr>\n",
       "    <tr>\n",
       "      <th>6</th>\n",
       "      <td>Chick-fil-A</td>\n",
       "      <td>female</td>\n",
       "      <td>Under_18</td>\n",
       "      <td>244295</td>\n",
       "    </tr>\n",
       "    <tr>\n",
       "      <th>7</th>\n",
       "      <td>Chick-fil-A</td>\n",
       "      <td>male</td>\n",
       "      <td>18_24</td>\n",
       "      <td>1289614</td>\n",
       "    </tr>\n",
       "    <tr>\n",
       "      <th>8</th>\n",
       "      <td>Chick-fil-A</td>\n",
       "      <td>male</td>\n",
       "      <td>25_34</td>\n",
       "      <td>5692013</td>\n",
       "    </tr>\n",
       "    <tr>\n",
       "      <th>9</th>\n",
       "      <td>Chick-fil-A</td>\n",
       "      <td>male</td>\n",
       "      <td>35_44</td>\n",
       "      <td>7315488</td>\n",
       "    </tr>\n",
       "    <tr>\n",
       "      <th>10</th>\n",
       "      <td>Chick-fil-A</td>\n",
       "      <td>male</td>\n",
       "      <td>45_54</td>\n",
       "      <td>3986181</td>\n",
       "    </tr>\n",
       "    <tr>\n",
       "      <th>11</th>\n",
       "      <td>Chick-fil-A</td>\n",
       "      <td>male</td>\n",
       "      <td>55_64</td>\n",
       "      <td>1004476</td>\n",
       "    </tr>\n",
       "    <tr>\n",
       "      <th>12</th>\n",
       "      <td>Chick-fil-A</td>\n",
       "      <td>male</td>\n",
       "      <td>65_plus</td>\n",
       "      <td>425976</td>\n",
       "    </tr>\n",
       "    <tr>\n",
       "      <th>13</th>\n",
       "      <td>Chick-fil-A</td>\n",
       "      <td>male</td>\n",
       "      <td>Under_18</td>\n",
       "      <td>89714</td>\n",
       "    </tr>\n",
       "    <tr>\n",
       "      <th>14</th>\n",
       "      <td>Popeyes Louisiana Kitchen</td>\n",
       "      <td>female</td>\n",
       "      <td>18_24</td>\n",
       "      <td>313851</td>\n",
       "    </tr>\n",
       "    <tr>\n",
       "      <th>15</th>\n",
       "      <td>Popeyes Louisiana Kitchen</td>\n",
       "      <td>female</td>\n",
       "      <td>25_34</td>\n",
       "      <td>1670949</td>\n",
       "    </tr>\n",
       "    <tr>\n",
       "      <th>16</th>\n",
       "      <td>Popeyes Louisiana Kitchen</td>\n",
       "      <td>female</td>\n",
       "      <td>35_44</td>\n",
       "      <td>1627043</td>\n",
       "    </tr>\n",
       "    <tr>\n",
       "      <th>17</th>\n",
       "      <td>Popeyes Louisiana Kitchen</td>\n",
       "      <td>female</td>\n",
       "      <td>45_54</td>\n",
       "      <td>542221</td>\n",
       "    </tr>\n",
       "    <tr>\n",
       "      <th>18</th>\n",
       "      <td>Popeyes Louisiana Kitchen</td>\n",
       "      <td>female</td>\n",
       "      <td>55_64</td>\n",
       "      <td>218057</td>\n",
       "    </tr>\n",
       "    <tr>\n",
       "      <th>19</th>\n",
       "      <td>Popeyes Louisiana Kitchen</td>\n",
       "      <td>female</td>\n",
       "      <td>65_plus</td>\n",
       "      <td>76454</td>\n",
       "    </tr>\n",
       "    <tr>\n",
       "      <th>20</th>\n",
       "      <td>Popeyes Louisiana Kitchen</td>\n",
       "      <td>female</td>\n",
       "      <td>Under_18</td>\n",
       "      <td>23869</td>\n",
       "    </tr>\n",
       "    <tr>\n",
       "      <th>21</th>\n",
       "      <td>Popeyes Louisiana Kitchen</td>\n",
       "      <td>male</td>\n",
       "      <td>18_24</td>\n",
       "      <td>280251</td>\n",
       "    </tr>\n",
       "    <tr>\n",
       "      <th>22</th>\n",
       "      <td>Popeyes Louisiana Kitchen</td>\n",
       "      <td>male</td>\n",
       "      <td>25_34</td>\n",
       "      <td>2075706</td>\n",
       "    </tr>\n",
       "    <tr>\n",
       "      <th>23</th>\n",
       "      <td>Popeyes Louisiana Kitchen</td>\n",
       "      <td>male</td>\n",
       "      <td>35_44</td>\n",
       "      <td>2250107</td>\n",
       "    </tr>\n",
       "    <tr>\n",
       "      <th>24</th>\n",
       "      <td>Popeyes Louisiana Kitchen</td>\n",
       "      <td>male</td>\n",
       "      <td>45_54</td>\n",
       "      <td>1042927</td>\n",
       "    </tr>\n",
       "    <tr>\n",
       "      <th>25</th>\n",
       "      <td>Popeyes Louisiana Kitchen</td>\n",
       "      <td>male</td>\n",
       "      <td>55_64</td>\n",
       "      <td>325313</td>\n",
       "    </tr>\n",
       "    <tr>\n",
       "      <th>26</th>\n",
       "      <td>Popeyes Louisiana Kitchen</td>\n",
       "      <td>male</td>\n",
       "      <td>65_plus</td>\n",
       "      <td>107058</td>\n",
       "    </tr>\n",
       "    <tr>\n",
       "      <th>27</th>\n",
       "      <td>Popeyes Louisiana Kitchen</td>\n",
       "      <td>male</td>\n",
       "      <td>Under_18</td>\n",
       "      <td>9841</td>\n",
       "    </tr>\n",
       "  </tbody>\n",
       "</table>\n",
       "</div>"
      ],
      "text/plain": [
       "                    chainname  gender       age  number_visit\n",
       "0                 Chick-fil-A  female     18_24       1832416\n",
       "1                 Chick-fil-A  female     25_34       6015081\n",
       "2                 Chick-fil-A  female     35_44       7496771\n",
       "3                 Chick-fil-A  female     45_54       2869178\n",
       "4                 Chick-fil-A  female     55_64        986351\n",
       "5                 Chick-fil-A  female   65_plus        423463\n",
       "6                 Chick-fil-A  female  Under_18        244295\n",
       "7                 Chick-fil-A    male     18_24       1289614\n",
       "8                 Chick-fil-A    male     25_34       5692013\n",
       "9                 Chick-fil-A    male     35_44       7315488\n",
       "10                Chick-fil-A    male     45_54       3986181\n",
       "11                Chick-fil-A    male     55_64       1004476\n",
       "12                Chick-fil-A    male   65_plus        425976\n",
       "13                Chick-fil-A    male  Under_18         89714\n",
       "14  Popeyes Louisiana Kitchen  female     18_24        313851\n",
       "15  Popeyes Louisiana Kitchen  female     25_34       1670949\n",
       "16  Popeyes Louisiana Kitchen  female     35_44       1627043\n",
       "17  Popeyes Louisiana Kitchen  female     45_54        542221\n",
       "18  Popeyes Louisiana Kitchen  female     55_64        218057\n",
       "19  Popeyes Louisiana Kitchen  female   65_plus         76454\n",
       "20  Popeyes Louisiana Kitchen  female  Under_18         23869\n",
       "21  Popeyes Louisiana Kitchen    male     18_24        280251\n",
       "22  Popeyes Louisiana Kitchen    male     25_34       2075706\n",
       "23  Popeyes Louisiana Kitchen    male     35_44       2250107\n",
       "24  Popeyes Louisiana Kitchen    male     45_54       1042927\n",
       "25  Popeyes Louisiana Kitchen    male     55_64        325313\n",
       "26  Popeyes Louisiana Kitchen    male   65_plus        107058\n",
       "27  Popeyes Louisiana Kitchen    male  Under_18          9841"
      ]
     },
     "execution_count": 6,
     "metadata": {},
     "output_type": "execute_result"
    }
   ],
   "source": [
    "#Create a dataframe group by chainname, age & gender with total number of visits.\n",
    "df2 = df1.groupby(['chainname','gender','age'], as_index = False)['number_visit'].sum()\n",
    "df2"
   ]
  },
  {
   "cell_type": "markdown",
   "metadata": {},
   "source": [
    "Since PP volume of visits are much less than CFA's, in order to have a better visualization, we need to normalize data of number of visits"
   ]
  },
  {
   "cell_type": "code",
   "execution_count": 7,
   "metadata": {},
   "outputs": [
    {
     "data": {
      "text/html": [
       "<div>\n",
       "<style scoped>\n",
       "    .dataframe tbody tr th:only-of-type {\n",
       "        vertical-align: middle;\n",
       "    }\n",
       "\n",
       "    .dataframe tbody tr th {\n",
       "        vertical-align: top;\n",
       "    }\n",
       "\n",
       "    .dataframe thead th {\n",
       "        text-align: right;\n",
       "    }\n",
       "</style>\n",
       "<table border=\"1\" class=\"dataframe\">\n",
       "  <thead>\n",
       "    <tr style=\"text-align: right;\">\n",
       "      <th></th>\n",
       "      <th>chainname</th>\n",
       "      <th>gender</th>\n",
       "      <th>age</th>\n",
       "      <th>number_visit</th>\n",
       "      <th>visit_normalized</th>\n",
       "    </tr>\n",
       "  </thead>\n",
       "  <tbody>\n",
       "    <tr>\n",
       "      <th>0</th>\n",
       "      <td>Chick-fil-A</td>\n",
       "      <td>female</td>\n",
       "      <td>18_24</td>\n",
       "      <td>1832416</td>\n",
       "      <td>0.243434</td>\n",
       "    </tr>\n",
       "    <tr>\n",
       "      <th>1</th>\n",
       "      <td>Chick-fil-A</td>\n",
       "      <td>female</td>\n",
       "      <td>25_34</td>\n",
       "      <td>6015081</td>\n",
       "      <td>0.802096</td>\n",
       "    </tr>\n",
       "    <tr>\n",
       "      <th>2</th>\n",
       "      <td>Chick-fil-A</td>\n",
       "      <td>female</td>\n",
       "      <td>35_44</td>\n",
       "      <td>7496771</td>\n",
       "      <td>1.000000</td>\n",
       "    </tr>\n",
       "    <tr>\n",
       "      <th>3</th>\n",
       "      <td>Chick-fil-A</td>\n",
       "      <td>female</td>\n",
       "      <td>45_54</td>\n",
       "      <td>2869178</td>\n",
       "      <td>0.381910</td>\n",
       "    </tr>\n",
       "    <tr>\n",
       "      <th>4</th>\n",
       "      <td>Chick-fil-A</td>\n",
       "      <td>female</td>\n",
       "      <td>55_64</td>\n",
       "      <td>986351</td>\n",
       "      <td>0.130429</td>\n",
       "    </tr>\n",
       "    <tr>\n",
       "      <th>5</th>\n",
       "      <td>Chick-fil-A</td>\n",
       "      <td>female</td>\n",
       "      <td>65_plus</td>\n",
       "      <td>423463</td>\n",
       "      <td>0.055246</td>\n",
       "    </tr>\n",
       "    <tr>\n",
       "      <th>6</th>\n",
       "      <td>Chick-fil-A</td>\n",
       "      <td>female</td>\n",
       "      <td>Under_18</td>\n",
       "      <td>244295</td>\n",
       "      <td>0.031315</td>\n",
       "    </tr>\n",
       "    <tr>\n",
       "      <th>7</th>\n",
       "      <td>Chick-fil-A</td>\n",
       "      <td>male</td>\n",
       "      <td>18_24</td>\n",
       "      <td>1289614</td>\n",
       "      <td>0.170934</td>\n",
       "    </tr>\n",
       "    <tr>\n",
       "      <th>8</th>\n",
       "      <td>Chick-fil-A</td>\n",
       "      <td>male</td>\n",
       "      <td>25_34</td>\n",
       "      <td>5692013</td>\n",
       "      <td>0.758946</td>\n",
       "    </tr>\n",
       "    <tr>\n",
       "      <th>9</th>\n",
       "      <td>Chick-fil-A</td>\n",
       "      <td>male</td>\n",
       "      <td>35_44</td>\n",
       "      <td>7315488</td>\n",
       "      <td>0.975787</td>\n",
       "    </tr>\n",
       "    <tr>\n",
       "      <th>10</th>\n",
       "      <td>Chick-fil-A</td>\n",
       "      <td>male</td>\n",
       "      <td>45_54</td>\n",
       "      <td>3986181</td>\n",
       "      <td>0.531104</td>\n",
       "    </tr>\n",
       "    <tr>\n",
       "      <th>11</th>\n",
       "      <td>Chick-fil-A</td>\n",
       "      <td>male</td>\n",
       "      <td>55_64</td>\n",
       "      <td>1004476</td>\n",
       "      <td>0.132850</td>\n",
       "    </tr>\n",
       "    <tr>\n",
       "      <th>12</th>\n",
       "      <td>Chick-fil-A</td>\n",
       "      <td>male</td>\n",
       "      <td>65_plus</td>\n",
       "      <td>425976</td>\n",
       "      <td>0.055582</td>\n",
       "    </tr>\n",
       "    <tr>\n",
       "      <th>13</th>\n",
       "      <td>Chick-fil-A</td>\n",
       "      <td>male</td>\n",
       "      <td>Under_18</td>\n",
       "      <td>89714</td>\n",
       "      <td>0.010668</td>\n",
       "    </tr>\n",
       "    <tr>\n",
       "      <th>14</th>\n",
       "      <td>Popeyes Louisiana Kitchen</td>\n",
       "      <td>female</td>\n",
       "      <td>18_24</td>\n",
       "      <td>313851</td>\n",
       "      <td>0.040605</td>\n",
       "    </tr>\n",
       "    <tr>\n",
       "      <th>15</th>\n",
       "      <td>Popeyes Louisiana Kitchen</td>\n",
       "      <td>female</td>\n",
       "      <td>25_34</td>\n",
       "      <td>1670949</td>\n",
       "      <td>0.221868</td>\n",
       "    </tr>\n",
       "    <tr>\n",
       "      <th>16</th>\n",
       "      <td>Popeyes Louisiana Kitchen</td>\n",
       "      <td>female</td>\n",
       "      <td>35_44</td>\n",
       "      <td>1627043</td>\n",
       "      <td>0.216003</td>\n",
       "    </tr>\n",
       "    <tr>\n",
       "      <th>17</th>\n",
       "      <td>Popeyes Louisiana Kitchen</td>\n",
       "      <td>female</td>\n",
       "      <td>45_54</td>\n",
       "      <td>542221</td>\n",
       "      <td>0.071108</td>\n",
       "    </tr>\n",
       "    <tr>\n",
       "      <th>18</th>\n",
       "      <td>Popeyes Louisiana Kitchen</td>\n",
       "      <td>female</td>\n",
       "      <td>55_64</td>\n",
       "      <td>218057</td>\n",
       "      <td>0.027811</td>\n",
       "    </tr>\n",
       "    <tr>\n",
       "      <th>19</th>\n",
       "      <td>Popeyes Louisiana Kitchen</td>\n",
       "      <td>female</td>\n",
       "      <td>65_plus</td>\n",
       "      <td>76454</td>\n",
       "      <td>0.008897</td>\n",
       "    </tr>\n",
       "    <tr>\n",
       "      <th>20</th>\n",
       "      <td>Popeyes Louisiana Kitchen</td>\n",
       "      <td>female</td>\n",
       "      <td>Under_18</td>\n",
       "      <td>23869</td>\n",
       "      <td>0.001874</td>\n",
       "    </tr>\n",
       "    <tr>\n",
       "      <th>21</th>\n",
       "      <td>Popeyes Louisiana Kitchen</td>\n",
       "      <td>male</td>\n",
       "      <td>18_24</td>\n",
       "      <td>280251</td>\n",
       "      <td>0.036118</td>\n",
       "    </tr>\n",
       "    <tr>\n",
       "      <th>22</th>\n",
       "      <td>Popeyes Louisiana Kitchen</td>\n",
       "      <td>male</td>\n",
       "      <td>25_34</td>\n",
       "      <td>2075706</td>\n",
       "      <td>0.275930</td>\n",
       "    </tr>\n",
       "    <tr>\n",
       "      <th>23</th>\n",
       "      <td>Popeyes Louisiana Kitchen</td>\n",
       "      <td>male</td>\n",
       "      <td>35_44</td>\n",
       "      <td>2250107</td>\n",
       "      <td>0.299224</td>\n",
       "    </tr>\n",
       "    <tr>\n",
       "      <th>24</th>\n",
       "      <td>Popeyes Louisiana Kitchen</td>\n",
       "      <td>male</td>\n",
       "      <td>45_54</td>\n",
       "      <td>1042927</td>\n",
       "      <td>0.137985</td>\n",
       "    </tr>\n",
       "    <tr>\n",
       "      <th>25</th>\n",
       "      <td>Popeyes Louisiana Kitchen</td>\n",
       "      <td>male</td>\n",
       "      <td>55_64</td>\n",
       "      <td>325313</td>\n",
       "      <td>0.042136</td>\n",
       "    </tr>\n",
       "    <tr>\n",
       "      <th>26</th>\n",
       "      <td>Popeyes Louisiana Kitchen</td>\n",
       "      <td>male</td>\n",
       "      <td>65_plus</td>\n",
       "      <td>107058</td>\n",
       "      <td>0.012985</td>\n",
       "    </tr>\n",
       "    <tr>\n",
       "      <th>27</th>\n",
       "      <td>Popeyes Louisiana Kitchen</td>\n",
       "      <td>male</td>\n",
       "      <td>Under_18</td>\n",
       "      <td>9841</td>\n",
       "      <td>0.000000</td>\n",
       "    </tr>\n",
       "  </tbody>\n",
       "</table>\n",
       "</div>"
      ],
      "text/plain": [
       "                    chainname  gender       age  number_visit  \\\n",
       "0                 Chick-fil-A  female     18_24       1832416   \n",
       "1                 Chick-fil-A  female     25_34       6015081   \n",
       "2                 Chick-fil-A  female     35_44       7496771   \n",
       "3                 Chick-fil-A  female     45_54       2869178   \n",
       "4                 Chick-fil-A  female     55_64        986351   \n",
       "5                 Chick-fil-A  female   65_plus        423463   \n",
       "6                 Chick-fil-A  female  Under_18        244295   \n",
       "7                 Chick-fil-A    male     18_24       1289614   \n",
       "8                 Chick-fil-A    male     25_34       5692013   \n",
       "9                 Chick-fil-A    male     35_44       7315488   \n",
       "10                Chick-fil-A    male     45_54       3986181   \n",
       "11                Chick-fil-A    male     55_64       1004476   \n",
       "12                Chick-fil-A    male   65_plus        425976   \n",
       "13                Chick-fil-A    male  Under_18         89714   \n",
       "14  Popeyes Louisiana Kitchen  female     18_24        313851   \n",
       "15  Popeyes Louisiana Kitchen  female     25_34       1670949   \n",
       "16  Popeyes Louisiana Kitchen  female     35_44       1627043   \n",
       "17  Popeyes Louisiana Kitchen  female     45_54        542221   \n",
       "18  Popeyes Louisiana Kitchen  female     55_64        218057   \n",
       "19  Popeyes Louisiana Kitchen  female   65_plus         76454   \n",
       "20  Popeyes Louisiana Kitchen  female  Under_18         23869   \n",
       "21  Popeyes Louisiana Kitchen    male     18_24        280251   \n",
       "22  Popeyes Louisiana Kitchen    male     25_34       2075706   \n",
       "23  Popeyes Louisiana Kitchen    male     35_44       2250107   \n",
       "24  Popeyes Louisiana Kitchen    male     45_54       1042927   \n",
       "25  Popeyes Louisiana Kitchen    male     55_64        325313   \n",
       "26  Popeyes Louisiana Kitchen    male   65_plus        107058   \n",
       "27  Popeyes Louisiana Kitchen    male  Under_18          9841   \n",
       "\n",
       "    visit_normalized  \n",
       "0           0.243434  \n",
       "1           0.802096  \n",
       "2           1.000000  \n",
       "3           0.381910  \n",
       "4           0.130429  \n",
       "5           0.055246  \n",
       "6           0.031315  \n",
       "7           0.170934  \n",
       "8           0.758946  \n",
       "9           0.975787  \n",
       "10          0.531104  \n",
       "11          0.132850  \n",
       "12          0.055582  \n",
       "13          0.010668  \n",
       "14          0.040605  \n",
       "15          0.221868  \n",
       "16          0.216003  \n",
       "17          0.071108  \n",
       "18          0.027811  \n",
       "19          0.008897  \n",
       "20          0.001874  \n",
       "21          0.036118  \n",
       "22          0.275930  \n",
       "23          0.299224  \n",
       "24          0.137985  \n",
       "25          0.042136  \n",
       "26          0.012985  \n",
       "27          0.000000  "
      ]
     },
     "execution_count": 7,
     "metadata": {},
     "output_type": "execute_result"
    }
   ],
   "source": [
    "from sklearn import preprocessing\n",
    "\n",
    "x = df2[['number_visit']].values.astype(float)\n",
    "\n",
    "# Create a minimum and maximum processor object\n",
    "min_max_scaler = preprocessing.MinMaxScaler()\n",
    "\n",
    "# Create an object to transform the data to fit minmax processor\n",
    "visit_scaled = min_max_scaler.fit_transform(x)\n",
    "\n",
    "# Run the normalizer on the dataframe\n",
    "visit_normalized = pd.DataFrame(visit_scaled, columns = ['visit_normalized'])\n",
    "\n",
    "#Add the visit_normalized dataframe as a new column at our original dataframe\n",
    "df3 = df2.join(visit_normalized)\n",
    "df3"
   ]
  },
  {
   "cell_type": "code",
   "execution_count": 8,
   "metadata": {
    "scrolled": false
   },
   "outputs": [
    {
     "data": {
      "text/plain": [
       "<seaborn.axisgrid.FacetGrid at 0x1a224d7450>"
      ]
     },
     "execution_count": 8,
     "metadata": {},
     "output_type": "execute_result"
    },
    {
     "data": {
      "image/png": "[encoded data removed]",
      "text/plain": [
       "<Figure size 1036.1x432 with 2 Axes>"
      ]
     },
     "metadata": {},
     "output_type": "display_data"
    }
   ],
   "source": [
    "#Using Seaborn Catplot to create a chart to compare the demographic of the two chains\n",
    "import matplotlib.pyplot as plt\n",
    "import seaborn as sns\n",
    "\n",
    "sns.set(style=\"whitegrid\")\n",
    "\n",
    "g = sns.catplot(x=\"age\", y=\"visit_normalized\", col=\"gender\", hue = 'chainname',\n",
    "               data= df3, kind=\"bar\", aspect=1, height = 6)\n",
    "g.fig.suptitle('Age & Gender Distribution of Chick-fil-A & Popeyes Customer in the last 3 years', x = 0.45, y = 1.05, \n",
    "               fontsize = 18)\n",
    "g.despine(left=True)\n"
   ]
  },
  {
   "cell_type": "markdown",
   "metadata": {},
   "source": [
    "**Analysis**\n",
    "\n",
    "* Both chains: 25-34, 35-44 have the highest volume of visits.\n",
    "* CFA: Female in 25-34, 34-45 visits > Male. While Female 45-54 visits < Male\n",
    "* PP: Female in 25-34 visits < Male, while female 45-54 > Male\n"
   ]
  },
  {
   "cell_type": "markdown",
   "metadata": {},
   "source": [
    "### b. Before and After the Promotion\n",
    "Next, I want to compare the foot traffic from two chains by different age group before and after the promotion. First, I will create a dataframe that only includes date from 2019-07-22 to 2019-09-05 in order to create a multi-line grapgh of visit from different age groups."
   ]
  },
  {
   "cell_type": "code",
   "execution_count": 9,
   "metadata": {},
   "outputs": [
    {
     "data": {
      "text/html": [
       "<div>\n",
       "<style scoped>\n",
       "    .dataframe tbody tr th:only-of-type {\n",
       "        vertical-align: middle;\n",
       "    }\n",
       "\n",
       "    .dataframe tbody tr th {\n",
       "        vertical-align: top;\n",
       "    }\n",
       "\n",
       "    .dataframe thead th {\n",
       "        text-align: right;\n",
       "    }\n",
       "</style>\n",
       "<table border=\"1\" class=\"dataframe\">\n",
       "  <thead>\n",
       "    <tr style=\"text-align: right;\">\n",
       "      <th></th>\n",
       "      <th>dt</th>\n",
       "      <th>age</th>\n",
       "      <th>chainname</th>\n",
       "      <th>number_visit</th>\n",
       "    </tr>\n",
       "  </thead>\n",
       "  <tbody>\n",
       "    <tr>\n",
       "      <th>0</th>\n",
       "      <td>2019-07-22</td>\n",
       "      <td>18_24</td>\n",
       "      <td>Chick-fil-A</td>\n",
       "      <td>6096</td>\n",
       "    </tr>\n",
       "    <tr>\n",
       "      <th>1</th>\n",
       "      <td>2019-07-22</td>\n",
       "      <td>18_24</td>\n",
       "      <td>Popeyes Louisiana Kitchen</td>\n",
       "      <td>913</td>\n",
       "    </tr>\n",
       "    <tr>\n",
       "      <th>2</th>\n",
       "      <td>2019-07-22</td>\n",
       "      <td>25_34</td>\n",
       "      <td>Chick-fil-A</td>\n",
       "      <td>17075</td>\n",
       "    </tr>\n",
       "    <tr>\n",
       "      <th>3</th>\n",
       "      <td>2019-07-22</td>\n",
       "      <td>25_34</td>\n",
       "      <td>Popeyes Louisiana Kitchen</td>\n",
       "      <td>4876</td>\n",
       "    </tr>\n",
       "    <tr>\n",
       "      <th>4</th>\n",
       "      <td>2019-07-22</td>\n",
       "      <td>35_44</td>\n",
       "      <td>Chick-fil-A</td>\n",
       "      <td>21420</td>\n",
       "    </tr>\n",
       "  </tbody>\n",
       "</table>\n",
       "</div>"
      ],
      "text/plain": [
       "          dt    age                  chainname  number_visit\n",
       "0 2019-07-22  18_24                Chick-fil-A          6096\n",
       "1 2019-07-22  18_24  Popeyes Louisiana Kitchen           913\n",
       "2 2019-07-22  25_34                Chick-fil-A         17075\n",
       "3 2019-07-22  25_34  Popeyes Louisiana Kitchen          4876\n",
       "4 2019-07-22  35_44                Chick-fil-A         21420"
      ]
     },
     "execution_count": 9,
     "metadata": {},
     "output_type": "execute_result"
    }
   ],
   "source": [
    "#Convert string to datetime in order to select date range from 2019-07-22 to 2019-09-05\n",
    "df1['dt'] = pd.to_datetime(df1['dt'])  \n",
    "mask = (df1['dt'] >'2019-07-21') & (df1['dt'] <= '2019-09-05')\n",
    "dfv = df1.loc[mask]\n",
    "dfv.index = range(len(dfv))\n",
    "\n",
    "#Create a Dataframe group by age, date & chain name with total number of visits\n",
    "dfv = dfv.groupby(['dt','age','chainname'], as_index = False)['number_visit'].sum()\n",
    "dfv.head()\n"
   ]
  },
  {
   "cell_type": "code",
   "execution_count": 10,
   "metadata": {},
   "outputs": [],
   "source": [
    "#Scaling data in order to create a better visualization\n",
    "\n",
    "y = dfv[['number_visit']].values.astype(float)\n",
    "\n",
    "# Create an object to transform the data to fit minmax processor\n",
    "y_scaled = min_max_scaler.fit_transform(y)\n",
    "\n",
    "# Run the normalizer on the dataframe\n",
    "scaled_visit = pd.DataFrame(y_scaled, columns = ['visit_scaled'])\n",
    "\n",
    "#Add the new dataframe scaled_visit as a new column in the original dataframe\n",
    "dfv = dfv.join(scaled_visit)\n"
   ]
  },
  {
   "cell_type": "code",
   "execution_count": 11,
   "metadata": {},
   "outputs": [],
   "source": [
    "def getdf(x):\n",
    "    s = {}\n",
    "    t = {}\n",
    "    for i in x['age'].unique():\n",
    "        s[i] = x[(x['chainname'] == 'Chick-fil-A') & (x['age'] == i)] \n",
    "        t[i] = x[(x['chainname'] == 'Popeyes Louisiana Kitchen') & (x['age'] == i)]\n",
    "    return s,t\n",
    "cfa, pp = getdf(dfv)\n"
   ]
  },
  {
   "cell_type": "code",
   "execution_count": 12,
   "metadata": {},
   "outputs": [
    {
     "data": {
      "application/vnd.plotly.v1+json": {
       "config": {
        "linkText": "Export to plot.ly",
        "plotlyServerURL": "https://plot.ly",
        "showLink": false
       },
       "data": [
        {
         "line": {
          "color": "orange"
         },
         "name": "Under 18",
         "opacity": 0.8,
         "type": "scatter",
         "x": [
          "2019-07-22T00:00:00",
          "2019-07-23T00:00:00",
          "2019-07-24T00:00:00",
          "2019-07-25T00:00:00",
          "2019-07-26T00:00:00",
          "2019-07-27T00:00:00",
          "2019-07-28T00:00:00",
          "2019-07-29T00:00:00",
          "2019-07-30T00:00:00",
          "2019-07-31T00:00:00",
          "2019-08-01T00:00:00",
          "2019-08-02T00:00:00",
          "2019-08-03T00:00:00",
          "2019-08-04T00:00:00",
          "2019-08-05T00:00:00",
          "2019-08-06T00:00:00",
          "2019-08-07T00:00:00",
          "2019-08-08T00:00:00",
          "2019-08-09T00:00:00",
          "2019-08-10T00:00:00",
          "2019-08-11T00:00:00",
          "2019-08-12T00:00:00",
          "2019-08-13T00:00:00",
          "2019-08-14T00:00:00",
          "2019-08-15T00:00:00",
          "2019-08-16T00:00:00",
          "2019-08-17T00:00:00",
          "2019-08-18T00:00:00",
          "2019-08-19T00:00:00",
          "2019-08-20T00:00:00",
          "2019-08-21T00:00:00",
          "2019-08-22T00:00:00",
          "2019-08-23T00:00:00",
          "2019-08-24T00:00:00",
          "2019-08-25T00:00:00",
          "2019-08-26T00:00:00",
          "2019-08-27T00:00:00",
          "2019-08-28T00:00:00",
          "2019-08-29T00:00:00",
          "2019-08-30T00:00:00",
          "2019-08-31T00:00:00",
          "2019-09-01T00:00:00",
          "2019-09-02T00:00:00",
          "2019-09-03T00:00:00",
          "2019-09-04T00:00:00",
          "2019-09-05T00:00:00"
         ],
         "xaxis": "x",
         "y": [
          0.021217162047644456,
          0.02451272715859515,
          0.027776905935155832,
          0.026866702237845642,
          0.030193653683186338,
          0.029817017670506263,
          0.004456859483380936,
          0.023288660117384893,
          0.02652145255955557,
          0.02733749725369574,
          0.029157904648316125,
          0.031009698377326516,
          0.032798719437556884,
          0.004645177489720976,
          0.024638272496155175,
          0.028122155613445908,
          0.029817017670506263,
          0.027776905935155832,
          0.031103857380496532,
          0.03063306236464643,
          0.004927654499231035,
          0.023194501114214873,
          0.027588587928815793,
          0.0271491792473557,
          0.02586233953736543,
          0.030915539374156493,
          0.03330090078779699,
          0.004299927811430903,
          0.01898873230595399,
          0.024826590502495215,
          0.023916386805185024,
          0.025642635196635385,
          0.031198016383666555,
          0.03675339757069772,
          0.004739336492890996,
          0.01823546028059383,
          0.021939047738614607,
          0.02253538809202473,
          0.023728068798844985,
          0.0323906970904868,
          0.03370892313486708,
          0.004551018486550955,
          0.0199930950064342,
          0.016163962210853394,
          0.019459527321804088,
          0.0199930950064342
         ],
         "yaxis": "y"
        },
        {
         "line": {
          "color": "green"
         },
         "name": "18_24",
         "opacity": 0.8,
         "type": "scatter",
         "x": [
          "2019-07-22T00:00:00",
          "2019-07-23T00:00:00",
          "2019-07-24T00:00:00",
          "2019-07-25T00:00:00",
          "2019-07-26T00:00:00",
          "2019-07-27T00:00:00",
          "2019-07-28T00:00:00",
          "2019-07-29T00:00:00",
          "2019-07-30T00:00:00",
          "2019-07-31T00:00:00",
          "2019-08-01T00:00:00",
          "2019-08-02T00:00:00",
          "2019-08-03T00:00:00",
          "2019-08-04T00:00:00",
          "2019-08-05T00:00:00",
          "2019-08-06T00:00:00",
          "2019-08-07T00:00:00",
          "2019-08-08T00:00:00",
          "2019-08-09T00:00:00",
          "2019-08-10T00:00:00",
          "2019-08-11T00:00:00",
          "2019-08-12T00:00:00",
          "2019-08-13T00:00:00",
          "2019-08-14T00:00:00",
          "2019-08-15T00:00:00",
          "2019-08-16T00:00:00",
          "2019-08-17T00:00:00",
          "2019-08-18T00:00:00",
          "2019-08-19T00:00:00",
          "2019-08-20T00:00:00",
          "2019-08-21T00:00:00",
          "2019-08-22T00:00:00",
          "2019-08-23T00:00:00",
          "2019-08-24T00:00:00",
          "2019-08-25T00:00:00",
          "2019-08-26T00:00:00",
          "2019-08-27T00:00:00",
          "2019-08-28T00:00:00",
          "2019-08-29T00:00:00",
          "2019-08-30T00:00:00",
          "2019-08-31T00:00:00",
          "2019-09-01T00:00:00",
          "2019-09-02T00:00:00",
          "2019-09-03T00:00:00",
          "2019-09-04T00:00:00",
          "2019-09-05T00:00:00"
         ],
         "xaxis": "x",
         "y": [
          0.18991870939392988,
          0.209503782053294,
          0.20746367031794358,
          0.22510279024512728,
          0.23985436740843039,
          0.22987351307240828,
          0.04864881830451021,
          0.19264932048586048,
          0.22243495182197673,
          0.22340792818806693,
          0.22604438027682747,
          0.24588054361131165,
          0.24142368412793072,
          0.05163052007156084,
          0.19603904459998117,
          0.2242867455509871,
          0.22337654185367692,
          0.22488308590439723,
          0.24572361193936162,
          0.23674712030381972,
          0.05084586171181067,
          0.19861272401996172,
          0.2280531056777879,
          0.2256363579297574,
          0.2376573240011299,
          0.2394777313957503,
          0.23863030036722013,
          0.05200715608424092,
          0.18106776309594805,
          0.22315683751294688,
          0.21964156806126614,
          0.23976020840526036,
          0.25683437431342393,
          0.2576818053419541,
          0.058566899971752295,
          0.19506606823389097,
          0.22124227111515646,
          0.2214933617902765,
          0.2314428297919086,
          0.2642101628950755,
          0.2433382505257211,
          0.05370201814130127,
          0.15768494397539312,
          0.1733467248360064,
          0.19873826935752176,
          0.1923668434763504
         ],
         "yaxis": "y"
        },
        {
         "line": {
          "color": "blue"
         },
         "name": "25_34",
         "opacity": 0.8,
         "type": "scatter",
         "x": [
          "2019-07-22T00:00:00",
          "2019-07-23T00:00:00",
          "2019-07-24T00:00:00",
          "2019-07-25T00:00:00",
          "2019-07-26T00:00:00",
          "2019-07-27T00:00:00",
          "2019-07-28T00:00:00",
          "2019-07-29T00:00:00",
          "2019-07-30T00:00:00",
          "2019-07-31T00:00:00",
          "2019-08-01T00:00:00",
          "2019-08-02T00:00:00",
          "2019-08-03T00:00:00",
          "2019-08-04T00:00:00",
          "2019-08-05T00:00:00",
          "2019-08-06T00:00:00",
          "2019-08-07T00:00:00",
          "2019-08-08T00:00:00",
          "2019-08-09T00:00:00",
          "2019-08-10T00:00:00",
          "2019-08-11T00:00:00",
          "2019-08-12T00:00:00",
          "2019-08-13T00:00:00",
          "2019-08-14T00:00:00",
          "2019-08-15T00:00:00",
          "2019-08-16T00:00:00",
          "2019-08-17T00:00:00",
          "2019-08-18T00:00:00",
          "2019-08-19T00:00:00",
          "2019-08-20T00:00:00",
          "2019-08-21T00:00:00",
          "2019-08-22T00:00:00",
          "2019-08-23T00:00:00",
          "2019-08-24T00:00:00",
          "2019-08-25T00:00:00",
          "2019-08-26T00:00:00",
          "2019-08-27T00:00:00",
          "2019-08-28T00:00:00",
          "2019-08-29T00:00:00",
          "2019-08-30T00:00:00",
          "2019-08-31T00:00:00",
          "2019-09-01T00:00:00",
          "2019-09-02T00:00:00",
          "2019-09-03T00:00:00",
          "2019-09-04T00:00:00",
          "2019-09-05T00:00:00"
         ],
         "xaxis": "x",
         "y": [
          0.5345092746618123,
          0.6100561815385581,
          0.6176830607953298,
          0.6549386397162675,
          0.7281001851793729,
          0.6969649414644864,
          0.1536988795078623,
          0.5353253193559524,
          0.6089890461692979,
          0.6392140861868743,
          0.6771601644643922,
          0.7511377546216378,
          0.7344402247261542,
          0.15398135651737235,
          0.5410376322149336,
          0.6050029817017671,
          0.6213552619189605,
          0.6624399736354791,
          0.7315840682966637,
          0.7218856909701516,
          0.15096826841593172,
          0.547660148771225,
          0.6276011424625718,
          0.6302062082169424,
          0.6726405323122313,
          0.7084837261856188,
          0.718935375537491,
          0.15121935909105177,
          0.5067637550610464,
          0.6361382254166537,
          0.6557860707447978,
          0.71397633470387,
          0.8098929725997301,
          0.819089168576002,
          0.17488465522111674,
          0.5843507736731427,
          0.6689369448542105,
          0.6847242710523839,
          0.7385832208656351,
          0.8590439722544805,
          0.785725495119425,
          0.1612943724302439,
          0.47628762436835,
          0.5610934998901479,
          0.6064467530837074,
          0.5831894793007125
         ],
         "yaxis": "y"
        },
        {
         "line": {
          "color": "red"
         },
         "name": "35_44",
         "opacity": 0.8,
         "type": "scatter",
         "x": [
          "2019-07-22T00:00:00",
          "2019-07-23T00:00:00",
          "2019-07-24T00:00:00",
          "2019-07-25T00:00:00",
          "2019-07-26T00:00:00",
          "2019-07-27T00:00:00",
          "2019-07-28T00:00:00",
          "2019-07-29T00:00:00",
          "2019-07-30T00:00:00",
          "2019-07-31T00:00:00",
          "2019-08-01T00:00:00",
          "2019-08-02T00:00:00",
          "2019-08-03T00:00:00",
          "2019-08-04T00:00:00",
          "2019-08-05T00:00:00",
          "2019-08-06T00:00:00",
          "2019-08-07T00:00:00",
          "2019-08-08T00:00:00",
          "2019-08-09T00:00:00",
          "2019-08-10T00:00:00",
          "2019-08-11T00:00:00",
          "2019-08-12T00:00:00",
          "2019-08-13T00:00:00",
          "2019-08-14T00:00:00",
          "2019-08-15T00:00:00",
          "2019-08-16T00:00:00",
          "2019-08-17T00:00:00",
          "2019-08-18T00:00:00",
          "2019-08-19T00:00:00",
          "2019-08-20T00:00:00",
          "2019-08-21T00:00:00",
          "2019-08-22T00:00:00",
          "2019-08-23T00:00:00",
          "2019-08-24T00:00:00",
          "2019-08-25T00:00:00",
          "2019-08-26T00:00:00",
          "2019-08-27T00:00:00",
          "2019-08-28T00:00:00",
          "2019-08-29T00:00:00",
          "2019-08-30T00:00:00",
          "2019-08-31T00:00:00",
          "2019-09-01T00:00:00",
          "2019-09-02T00:00:00",
          "2019-09-03T00:00:00",
          "2019-09-04T00:00:00",
          "2019-09-05T00:00:00"
         ],
         "xaxis": "x",
         "y": [
          0.670882897586391,
          0.7241768933806221,
          0.7637864473808105,
          0.8061893851417093,
          0.8768086375192241,
          0.8288189322369041,
          0.13734659929066886,
          0.66639465176862,
          0.7405291735978156,
          0.7864787671447852,
          0.8157308307962713,
          0.9027023633909796,
          0.8880449452308465,
          0.1436866388374502,
          0.6797652302187628,
          0.7452685100907065,
          0.7632214933617903,
          0.7994413232478579,
          0.8597972442798406,
          0.8544615674335395,
          0.1375663036313989,
          0.6599290668842787,
          0.7245535293933022,
          0.7467122814726468,
          0.7799190232572738,
          0.8149775587709112,
          0.8462383478233577,
          0.13574589623677852,
          0.6015504849188663,
          0.7322117949844638,
          0.7640061517215405,
          0.8202504629484323,
          0.9245472521264242,
          0.9522613853928,
          0.152349267129092,
          0.656696274442108,
          0.7466495088038668,
          0.7909042402937762,
          0.8462069614889678,
          1,
          0.9220363453752236,
          0.14412604751891028,
          0.542763880606384,
          0.6463701704277958,
          0.7309249552744735,
          0.6913154012742853
         ],
         "yaxis": "y"
        },
        {
         "line": {
          "color": "brown"
         },
         "name": "45_54",
         "opacity": 0.8,
         "type": "scatter",
         "x": [
          "2019-07-22T00:00:00",
          "2019-07-23T00:00:00",
          "2019-07-24T00:00:00",
          "2019-07-25T00:00:00",
          "2019-07-26T00:00:00",
          "2019-07-27T00:00:00",
          "2019-07-28T00:00:00",
          "2019-07-29T00:00:00",
          "2019-07-30T00:00:00",
          "2019-07-31T00:00:00",
          "2019-08-01T00:00:00",
          "2019-08-02T00:00:00",
          "2019-08-03T00:00:00",
          "2019-08-04T00:00:00",
          "2019-08-05T00:00:00",
          "2019-08-06T00:00:00",
          "2019-08-07T00:00:00",
          "2019-08-08T00:00:00",
          "2019-08-09T00:00:00",
          "2019-08-10T00:00:00",
          "2019-08-11T00:00:00",
          "2019-08-12T00:00:00",
          "2019-08-13T00:00:00",
          "2019-08-14T00:00:00",
          "2019-08-15T00:00:00",
          "2019-08-16T00:00:00",
          "2019-08-17T00:00:00",
          "2019-08-18T00:00:00",
          "2019-08-19T00:00:00",
          "2019-08-20T00:00:00",
          "2019-08-21T00:00:00",
          "2019-08-22T00:00:00",
          "2019-08-23T00:00:00",
          "2019-08-24T00:00:00",
          "2019-08-25T00:00:00",
          "2019-08-26T00:00:00",
          "2019-08-27T00:00:00",
          "2019-08-28T00:00:00",
          "2019-08-29T00:00:00",
          "2019-08-30T00:00:00",
          "2019-08-31T00:00:00",
          "2019-09-01T00:00:00",
          "2019-09-02T00:00:00",
          "2019-09-03T00:00:00",
          "2019-09-04T00:00:00",
          "2019-09-05T00:00:00"
         ],
         "xaxis": "x",
         "y": [
          0.29176736448950125,
          0.3109758011361853,
          0.32139606415366745,
          0.3375286400301309,
          0.3680675433916073,
          0.34468472427105235,
          0.05392172248203132,
          0.28812654970026047,
          0.3087787577288848,
          0.3234989485577979,
          0.3389724114120712,
          0.37459590094472867,
          0.37302658422522833,
          0.051316656727660774,
          0.28887982172562066,
          0.3082765763786447,
          0.3270769906782587,
          0.33360534823138005,
          0.35614073632340476,
          0.34980069677662345,
          0.05034368036157057,
          0.2818492828222592,
          0.3100342111044851,
          0.31502463827249616,
          0.3289287844072691,
          0.34948683343272335,
          0.3542575562600044,
          0.052948746115941116,
          0.26220143749411506,
          0.3011518784721132,
          0.3177866356988167,
          0.3349863469445403,
          0.36778506638209724,
          0.37588274065471894,
          0.051096952386930725,
          0.27177426948306704,
          0.29832710837701265,
          0.31697059100467656,
          0.3426759988700919,
          0.38696211669439123,
          0.3582122343931452,
          0.05166190640595084,
          0.22055177175857632,
          0.2698597030852766,
          0.29631838297605223,
          0.29512570226923196
         ],
         "yaxis": "y"
        },
        {
         "line": {
          "color": "pink"
         },
         "name": "55_64",
         "opacity": 0.8,
         "type": "scatter",
         "x": [
          "2019-07-22T00:00:00",
          "2019-07-23T00:00:00",
          "2019-07-24T00:00:00",
          "2019-07-25T00:00:00",
          "2019-07-26T00:00:00",
          "2019-07-27T00:00:00",
          "2019-07-28T00:00:00",
          "2019-07-29T00:00:00",
          "2019-07-30T00:00:00",
          "2019-07-31T00:00:00",
          "2019-08-01T00:00:00",
          "2019-08-02T00:00:00",
          "2019-08-03T00:00:00",
          "2019-08-04T00:00:00",
          "2019-08-05T00:00:00",
          "2019-08-06T00:00:00",
          "2019-08-07T00:00:00",
          "2019-08-08T00:00:00",
          "2019-08-09T00:00:00",
          "2019-08-10T00:00:00",
          "2019-08-11T00:00:00",
          "2019-08-12T00:00:00",
          "2019-08-13T00:00:00",
          "2019-08-14T00:00:00",
          "2019-08-15T00:00:00",
          "2019-08-16T00:00:00",
          "2019-08-17T00:00:00",
          "2019-08-18T00:00:00",
          "2019-08-19T00:00:00",
          "2019-08-20T00:00:00",
          "2019-08-21T00:00:00",
          "2019-08-22T00:00:00",
          "2019-08-23T00:00:00",
          "2019-08-24T00:00:00",
          "2019-08-25T00:00:00",
          "2019-08-26T00:00:00",
          "2019-08-27T00:00:00",
          "2019-08-28T00:00:00",
          "2019-08-29T00:00:00",
          "2019-08-30T00:00:00",
          "2019-08-31T00:00:00",
          "2019-09-01T00:00:00",
          "2019-09-02T00:00:00",
          "2019-09-03T00:00:00",
          "2019-09-04T00:00:00",
          "2019-09-05T00:00:00"
         ],
         "xaxis": "x",
         "y": [
          0.0800351526945168,
          0.0899532343617589,
          0.09136561940930918,
          0.09560277455196008,
          0.09632466024293022,
          0.07837167697184645,
          0.011110762374062333,
          0.08116506073255704,
          0.08876055365493864,
          0.09183641442515929,
          0.09415900317001977,
          0.09783120429365054,
          0.08628103323812812,
          0.009823922664072064,
          0.07934465333793667,
          0.09073789272150905,
          0.08970214368663884,
          0.09494366152976993,
          0.09638743291171024,
          0.08348764947741753,
          0.011612943724302438,
          0.08166724208279715,
          0.08628103323812812,
          0.09114591506857914,
          0.09183641442515929,
          0.09127146040613916,
          0.08414676249960766,
          0.010702740026992247,
          0.07416590816358558,
          0.08602994256300807,
          0.08850946297981858,
          0.09751734094975048,
          0.09400207149806973,
          0.08408398983082765,
          0.010985217036502307,
          0.07834029063745644,
          0.08461755751545777,
          0.090486802046389,
          0.09698377326512037,
          0.09820784030633062,
          0.08898025799566868,
          0.011267694046012366,
          0.05850412730297228,
          0.08107090172938702,
          0.08559053388154797,
          0.08370735381814758
         ],
         "yaxis": "y"
        },
        {
         "line": {
          "color": "yellow"
         },
         "name": "65_plus",
         "opacity": 0.8,
         "type": "scatter",
         "x": [
          "2019-07-22T00:00:00",
          "2019-07-23T00:00:00",
          "2019-07-24T00:00:00",
          "2019-07-25T00:00:00",
          "2019-07-26T00:00:00",
          "2019-07-27T00:00:00",
          "2019-07-28T00:00:00",
          "2019-07-29T00:00:00",
          "2019-07-30T00:00:00",
          "2019-07-31T00:00:00",
          "2019-08-01T00:00:00",
          "2019-08-02T00:00:00",
          "2019-08-03T00:00:00",
          "2019-08-04T00:00:00",
          "2019-08-05T00:00:00",
          "2019-08-06T00:00:00",
          "2019-08-07T00:00:00",
          "2019-08-08T00:00:00",
          "2019-08-09T00:00:00",
          "2019-08-10T00:00:00",
          "2019-08-11T00:00:00",
          "2019-08-12T00:00:00",
          "2019-08-13T00:00:00",
          "2019-08-14T00:00:00",
          "2019-08-15T00:00:00",
          "2019-08-16T00:00:00",
          "2019-08-17T00:00:00",
          "2019-08-18T00:00:00",
          "2019-08-19T00:00:00",
          "2019-08-20T00:00:00",
          "2019-08-21T00:00:00",
          "2019-08-22T00:00:00",
          "2019-08-23T00:00:00",
          "2019-08-24T00:00:00",
          "2019-08-25T00:00:00",
          "2019-08-26T00:00:00",
          "2019-08-27T00:00:00",
          "2019-08-28T00:00:00",
          "2019-08-29T00:00:00",
          "2019-08-30T00:00:00",
          "2019-08-31T00:00:00",
          "2019-09-01T00:00:00",
          "2019-09-02T00:00:00",
          "2019-09-03T00:00:00",
          "2019-09-04T00:00:00",
          "2019-09-05T00:00:00"
         ],
         "xaxis": "x",
         "y": [
          0.035654875867047485,
          0.03791469194312796,
          0.035278239854367406,
          0.04014312168481843,
          0.03490160384168733,
          0.02928344998587615,
          0.002385361413640501,
          0.03505853551363736,
          0.03841687329336806,
          0.03593735287655754,
          0.03942123599384827,
          0.03778914660556793,
          0.029503154326606197,
          0.002699224757540567,
          0.034085559147547156,
          0.03838548695897806,
          0.03844825962775807,
          0.03719280625215781,
          0.03643953422679765,
          0.028812654970026053,
          0.0021656570729104547,
          0.03458774049778726,
          0.03662785223313769,
          0.03490160384168733,
          0.03753805593044788,
          0.03596873921094755,
          0.02680392956906563,
          0.0020401117353504284,
          0.031260789052446565,
          0.03691032924264775,
          0.03838548695897806,
          0.03816578261824801,
          0.03606289821411757,
          0.02937760898904617,
          0.002542293085590534,
          0.034807444838517304,
          0.03709864724898779,
          0.03709864724898779,
          0.037883305608737955,
          0.03800885094629798,
          0.029973949342456296,
          0.0022912024104704814,
          0.021687957063494554,
          0.036313988889237626,
          0.036313988889237626,
          0.035435171526317435
         ],
         "yaxis": "y"
        },
        {
         "line": {
          "color": "orange"
         },
         "name": "Under 18",
         "opacity": 0.8,
         "showlegend": false,
         "type": "scatter",
         "x": [
          "2019-07-22T00:00:00",
          "2019-07-23T00:00:00",
          "2019-07-24T00:00:00",
          "2019-07-25T00:00:00",
          "2019-07-26T00:00:00",
          "2019-07-27T00:00:00",
          "2019-07-28T00:00:00",
          "2019-07-29T00:00:00",
          "2019-07-30T00:00:00",
          "2019-07-31T00:00:00",
          "2019-08-01T00:00:00",
          "2019-08-02T00:00:00",
          "2019-08-03T00:00:00",
          "2019-08-04T00:00:00",
          "2019-08-05T00:00:00",
          "2019-08-06T00:00:00",
          "2019-08-07T00:00:00",
          "2019-08-08T00:00:00",
          "2019-08-09T00:00:00",
          "2019-08-10T00:00:00",
          "2019-08-11T00:00:00",
          "2019-08-12T00:00:00",
          "2019-08-13T00:00:00",
          "2019-08-14T00:00:00",
          "2019-08-15T00:00:00",
          "2019-08-16T00:00:00",
          "2019-08-17T00:00:00",
          "2019-08-18T00:00:00",
          "2019-08-19T00:00:00",
          "2019-08-20T00:00:00",
          "2019-08-21T00:00:00",
          "2019-08-22T00:00:00",
          "2019-08-23T00:00:00",
          "2019-08-24T00:00:00",
          "2019-08-25T00:00:00",
          "2019-08-26T00:00:00",
          "2019-08-27T00:00:00",
          "2019-08-28T00:00:00",
          "2019-08-29T00:00:00",
          "2019-08-30T00:00:00",
          "2019-08-31T00:00:00",
          "2019-09-01T00:00:00",
          "2019-09-02T00:00:00",
          "2019-09-03T00:00:00",
          "2019-09-04T00:00:00",
          "2019-09-05T00:00:00"
         ],
         "xaxis": "x2",
         "y": [
          0,
          0.0005963403534101253,
          0.0006591130221901384,
          0.0008160446941401713,
          0.0002197043407300462,
          0.0008788173629201844,
          0.0012554533756002637,
          0.0005649540190201187,
          0.0011299080380402374,
          0.0005963403534101253,
          0.0007846583597501647,
          0.0008160446941401713,
          0.001161294372430244,
          0.0010985217036502308,
          0.0007846583597501647,
          0.000690499356580145,
          0.0005021813502401056,
          0.0005021813502401056,
          0.0010043627004802111,
          0.0014437713819403031,
          0.0010357490348702177,
          0.0004394086814600924,
          0.00040802234707008563,
          0.0005649540190201187,
          0.00037663601268007906,
          0.0006591130221901384,
          0.0015065440507203163,
          0.0007532720253601581,
          0.00018831800634003964,
          0.0014751577163303097,
          0.0019459527321804087,
          0.003326951445340699,
          0.0038919054643608174,
          0.005272904177521107,
          0.005367063180691127,
          0.0025109067512005274,
          0.0027933837607105865,
          0.0024481340824205142,
          0.002008725400960422,
          0.002605065754370547,
          0.0017890210602303758,
          0.0021970434073004612,
          0.0014437713819403031,
          0.00018831800634003964,
          0.0005963403534101253,
          0.0003452496782900725
         ],
         "yaxis": "y2"
        },
        {
         "line": {
          "color": "green"
         },
         "name": "18_24",
         "opacity": 0.8,
         "showlegend": false,
         "type": "scatter",
         "x": [
          "2019-07-22T00:00:00",
          "2019-07-23T00:00:00",
          "2019-07-24T00:00:00",
          "2019-07-25T00:00:00",
          "2019-07-26T00:00:00",
          "2019-07-27T00:00:00",
          "2019-07-28T00:00:00",
          "2019-07-29T00:00:00",
          "2019-07-30T00:00:00",
          "2019-07-31T00:00:00",
          "2019-08-01T00:00:00",
          "2019-08-02T00:00:00",
          "2019-08-03T00:00:00",
          "2019-08-04T00:00:00",
          "2019-08-05T00:00:00",
          "2019-08-06T00:00:00",
          "2019-08-07T00:00:00",
          "2019-08-08T00:00:00",
          "2019-08-09T00:00:00",
          "2019-08-10T00:00:00",
          "2019-08-11T00:00:00",
          "2019-08-12T00:00:00",
          "2019-08-13T00:00:00",
          "2019-08-14T00:00:00",
          "2019-08-15T00:00:00",
          "2019-08-16T00:00:00",
          "2019-08-17T00:00:00",
          "2019-08-18T00:00:00",
          "2019-08-19T00:00:00",
          "2019-08-20T00:00:00",
          "2019-08-21T00:00:00",
          "2019-08-22T00:00:00",
          "2019-08-23T00:00:00",
          "2019-08-24T00:00:00",
          "2019-08-25T00:00:00",
          "2019-08-26T00:00:00",
          "2019-08-27T00:00:00",
          "2019-08-28T00:00:00",
          "2019-08-29T00:00:00",
          "2019-08-30T00:00:00",
          "2019-08-31T00:00:00",
          "2019-09-01T00:00:00",
          "2019-09-02T00:00:00",
          "2019-09-03T00:00:00",
          "2019-09-04T00:00:00",
          "2019-09-05T00:00:00"
         ],
         "xaxis": "x2",
         "y": [
          0.02724333825052572,
          0.02837324628856596,
          0.02623897555004551,
          0.02780829226954584,
          0.029597313329776217,
          0.02975424500172625,
          0.032045447412196726,
          0.027180565581745707,
          0.028718495966856033,
          0.02947176799221619,
          0.029817017670506263,
          0.0323906970904868,
          0.03132356172122658,
          0.0300053356768463,
          0.02966008599855623,
          0.028122155613445908,
          0.029911176673676283,
          0.02947176799221619,
          0.03025642635196635,
          0.03179435673707667,
          0.032265151752926775,
          0.028216314616615928,
          0.03104108471171652,
          0.027588587928815793,
          0.03028781268635636,
          0.02818492828222592,
          0.030413358023916388,
          0.03179435673707667,
          0.028969586641976085,
          0.052352405762530994,
          0.06653902890681397,
          0.07821474529989642,
          0.08452339851228775,
          0.08725400960421832,
          0.07834029063745644,
          0.066664574244374,
          0.06371425881171337,
          0.04987288534572047,
          0.04403502714917924,
          0.04783277361037004,
          0.04626345689086971,
          0.04117887071968864,
          0.036282602554847616,
          0.03355199146291704,
          0.03276733310316688,
          0.027776905935155832
         ],
         "yaxis": "y2"
        },
        {
         "line": {
          "color": "blue"
         },
         "name": "25_34",
         "opacity": 0.8,
         "showlegend": false,
         "type": "scatter",
         "x": [
          "2019-07-22T00:00:00",
          "2019-07-23T00:00:00",
          "2019-07-24T00:00:00",
          "2019-07-25T00:00:00",
          "2019-07-26T00:00:00",
          "2019-07-27T00:00:00",
          "2019-07-28T00:00:00",
          "2019-07-29T00:00:00",
          "2019-07-30T00:00:00",
          "2019-07-31T00:00:00",
          "2019-08-01T00:00:00",
          "2019-08-02T00:00:00",
          "2019-08-03T00:00:00",
          "2019-08-04T00:00:00",
          "2019-08-05T00:00:00",
          "2019-08-06T00:00:00",
          "2019-08-07T00:00:00",
          "2019-08-08T00:00:00",
          "2019-08-09T00:00:00",
          "2019-08-10T00:00:00",
          "2019-08-11T00:00:00",
          "2019-08-12T00:00:00",
          "2019-08-13T00:00:00",
          "2019-08-14T00:00:00",
          "2019-08-15T00:00:00",
          "2019-08-16T00:00:00",
          "2019-08-17T00:00:00",
          "2019-08-18T00:00:00",
          "2019-08-19T00:00:00",
          "2019-08-20T00:00:00",
          "2019-08-21T00:00:00",
          "2019-08-22T00:00:00",
          "2019-08-23T00:00:00",
          "2019-08-24T00:00:00",
          "2019-08-25T00:00:00",
          "2019-08-26T00:00:00",
          "2019-08-27T00:00:00",
          "2019-08-28T00:00:00",
          "2019-08-29T00:00:00",
          "2019-08-30T00:00:00",
          "2019-08-31T00:00:00",
          "2019-09-01T00:00:00",
          "2019-09-02T00:00:00",
          "2019-09-03T00:00:00",
          "2019-09-04T00:00:00",
          "2019-09-05T00:00:00"
         ],
         "xaxis": "x2",
         "y": [
          0.15162738143812185,
          0.15197263111641193,
          0.1561470135902828,
          0.15768494397539312,
          0.1728131571513763,
          0.16349141583754434,
          0.16367973384388437,
          0.14823765732400113,
          0.15925426069489346,
          0.161827940114874,
          0.1695489783748156,
          0.17780358431938734,
          0.17890210602303758,
          0.16980006904993566,
          0.1561470135902828,
          0.16063525940805373,
          0.16317755249364427,
          0.16367973384388437,
          0.17491604155550675,
          0.17554376824330686,
          0.1660964815919149,
          0.147452998964251,
          0.15394997018298234,
          0.1517529267756819,
          0.16270675747779417,
          0.16870154734628542,
          0.16860738834311542,
          0.16314616615925426,
          0.1614513041021939,
          0.26424154922946547,
          0.30174821882552333,
          0.33843884372744104,
          0.37807978406201936,
          0.3740623332600985,
          0.3444650199303223,
          0.30441605724867393,
          0.2964439283136122,
          0.24839145036251217,
          0.23216471548287876,
          0.25849785003609427,
          0.23580553027211953,
          0.20008788173629202,
          0.1732839521672264,
          0.1789962650262076,
          0.17736417563792725,
          0.1456639779040206
         ],
         "yaxis": "y2"
        },
        {
         "line": {
          "color": "red"
         },
         "name": "35_44",
         "opacity": 0.8,
         "showlegend": false,
         "type": "scatter",
         "x": [
          "2019-07-22T00:00:00",
          "2019-07-23T00:00:00",
          "2019-07-24T00:00:00",
          "2019-07-25T00:00:00",
          "2019-07-26T00:00:00",
          "2019-07-27T00:00:00",
          "2019-07-28T00:00:00",
          "2019-07-29T00:00:00",
          "2019-07-30T00:00:00",
          "2019-07-31T00:00:00",
          "2019-08-01T00:00:00",
          "2019-08-02T00:00:00",
          "2019-08-03T00:00:00",
          "2019-08-04T00:00:00",
          "2019-08-05T00:00:00",
          "2019-08-06T00:00:00",
          "2019-08-07T00:00:00",
          "2019-08-08T00:00:00",
          "2019-08-09T00:00:00",
          "2019-08-10T00:00:00",
          "2019-08-11T00:00:00",
          "2019-08-12T00:00:00",
          "2019-08-13T00:00:00",
          "2019-08-14T00:00:00",
          "2019-08-15T00:00:00",
          "2019-08-16T00:00:00",
          "2019-08-17T00:00:00",
          "2019-08-18T00:00:00",
          "2019-08-19T00:00:00",
          "2019-08-20T00:00:00",
          "2019-08-21T00:00:00",
          "2019-08-22T00:00:00",
          "2019-08-23T00:00:00",
          "2019-08-24T00:00:00",
          "2019-08-25T00:00:00",
          "2019-08-26T00:00:00",
          "2019-08-27T00:00:00",
          "2019-08-28T00:00:00",
          "2019-08-29T00:00:00",
          "2019-08-30T00:00:00",
          "2019-08-31T00:00:00",
          "2019-09-01T00:00:00",
          "2019-09-02T00:00:00",
          "2019-09-03T00:00:00",
          "2019-09-04T00:00:00",
          "2019-09-05T00:00:00"
         ],
         "xaxis": "x2",
         "y": [
          0.14296475314648002,
          0.14886538401180127,
          0.15027776905935156,
          0.15106242741910172,
          0.16763441197702522,
          0.1513449044286118,
          0.13577728257116853,
          0.13963780170113935,
          0.15212956278836196,
          0.15727692162832305,
          0.16076080474561377,
          0.1770816986284172,
          0.1632403251624243,
          0.14352970716550015,
          0.14503625121622046,
          0.1565236496029629,
          0.1548287875459025,
          0.15442076519883244,
          0.1657512319136248,
          0.15696305828442297,
          0.14349832083111014,
          0.13480430620507833,
          0.14839458899595118,
          0.14459684253476038,
          0.15106242741910172,
          0.15771633030978313,
          0.14400050218135024,
          0.13496123787702835,
          0.1350867832145884,
          0.21352123285521485,
          0.23674712030381972,
          0.2568657606478139,
          0.3009321741313832,
          0.2873418913405103,
          0.2441542952198613,
          0.23960327673331033,
          0.24892501804714226,
          0.2204889990897963,
          0.21402341420545495,
          0.23793980101063997,
          0.19688647562851136,
          0.16879570634945545,
          0.13693857694359876,
          0.16254982580584415,
          0.16747748030507517,
          0.14177207243965978
         ],
         "yaxis": "y2"
        },
        {
         "line": {
          "color": "brown"
         },
         "name": "45_54",
         "opacity": 0.8,
         "showlegend": false,
         "type": "scatter",
         "x": [
          "2019-07-22T00:00:00",
          "2019-07-23T00:00:00",
          "2019-07-24T00:00:00",
          "2019-07-25T00:00:00",
          "2019-07-26T00:00:00",
          "2019-07-27T00:00:00",
          "2019-07-28T00:00:00",
          "2019-07-29T00:00:00",
          "2019-07-30T00:00:00",
          "2019-07-31T00:00:00",
          "2019-08-01T00:00:00",
          "2019-08-02T00:00:00",
          "2019-08-03T00:00:00",
          "2019-08-04T00:00:00",
          "2019-08-05T00:00:00",
          "2019-08-06T00:00:00",
          "2019-08-07T00:00:00",
          "2019-08-08T00:00:00",
          "2019-08-09T00:00:00",
          "2019-08-10T00:00:00",
          "2019-08-11T00:00:00",
          "2019-08-12T00:00:00",
          "2019-08-13T00:00:00",
          "2019-08-14T00:00:00",
          "2019-08-15T00:00:00",
          "2019-08-16T00:00:00",
          "2019-08-17T00:00:00",
          "2019-08-18T00:00:00",
          "2019-08-19T00:00:00",
          "2019-08-20T00:00:00",
          "2019-08-21T00:00:00",
          "2019-08-22T00:00:00",
          "2019-08-23T00:00:00",
          "2019-08-24T00:00:00",
          "2019-08-25T00:00:00",
          "2019-08-26T00:00:00",
          "2019-08-27T00:00:00",
          "2019-08-28T00:00:00",
          "2019-08-29T00:00:00",
          "2019-08-30T00:00:00",
          "2019-08-31T00:00:00",
          "2019-09-01T00:00:00",
          "2019-09-02T00:00:00",
          "2019-09-03T00:00:00",
          "2019-09-04T00:00:00",
          "2019-09-05T00:00:00"
         ],
         "xaxis": "x2",
         "y": [
          0.052132701421800945,
          0.0590690813219924,
          0.05502024418568155,
          0.055961834217381747,
          0.05928878566272245,
          0.04924515865792034,
          0.04798970528232008,
          0.05257211010326104,
          0.05834719563102225,
          0.05684065158030193,
          0.05982235334735256,
          0.06415366749317347,
          0.05825303662785223,
          0.051724679074730856,
          0.05307429145350114,
          0.06220771476099306,
          0.05567935720787169,
          0.05731144659615203,
          0.05944571733467248,
          0.05200715608424092,
          0.05087724804620068,
          0.048931295314020275,
          0.056338470230061825,
          0.05448667650105144,
          0.058378581965412256,
          0.05815887762468221,
          0.05228963309375098,
          0.04500800351526945,
          0.04830356862622014,
          0.06898716298923449,
          0.07469947584821568,
          0.08210665076425724,
          0.0918991870939393,
          0.08945105301151877,
          0.07893663099086658,
          0.08056872037914692,
          0.08493142085935783,
          0.07786949562160635,
          0.07466808951382568,
          0.08075703838548695,
          0.06685289225071403,
          0.05583628887982172,
          0.04817802328866012,
          0.059163240325162424,
          0.06007344402247261,
          0.0552399485264116
         ],
         "yaxis": "y2"
        },
        {
         "line": {
          "color": "pink"
         },
         "name": "55_64",
         "opacity": 0.8,
         "showlegend": false,
         "type": "scatter",
         "x": [
          "2019-07-22T00:00:00",
          "2019-07-23T00:00:00",
          "2019-07-24T00:00:00",
          "2019-07-25T00:00:00",
          "2019-07-26T00:00:00",
          "2019-07-27T00:00:00",
          "2019-07-28T00:00:00",
          "2019-07-29T00:00:00",
          "2019-07-30T00:00:00",
          "2019-07-31T00:00:00",
          "2019-08-01T00:00:00",
          "2019-08-02T00:00:00",
          "2019-08-03T00:00:00",
          "2019-08-04T00:00:00",
          "2019-08-05T00:00:00",
          "2019-08-06T00:00:00",
          "2019-08-07T00:00:00",
          "2019-08-08T00:00:00",
          "2019-08-09T00:00:00",
          "2019-08-10T00:00:00",
          "2019-08-11T00:00:00",
          "2019-08-12T00:00:00",
          "2019-08-13T00:00:00",
          "2019-08-14T00:00:00",
          "2019-08-15T00:00:00",
          "2019-08-16T00:00:00",
          "2019-08-17T00:00:00",
          "2019-08-18T00:00:00",
          "2019-08-19T00:00:00",
          "2019-08-20T00:00:00",
          "2019-08-21T00:00:00",
          "2019-08-22T00:00:00",
          "2019-08-23T00:00:00",
          "2019-08-24T00:00:00",
          "2019-08-25T00:00:00",
          "2019-08-26T00:00:00",
          "2019-08-27T00:00:00",
          "2019-08-28T00:00:00",
          "2019-08-29T00:00:00",
          "2019-08-30T00:00:00",
          "2019-08-31T00:00:00",
          "2019-09-01T00:00:00",
          "2019-09-02T00:00:00",
          "2019-09-03T00:00:00",
          "2019-09-04T00:00:00",
          "2019-09-05T00:00:00"
         ],
         "xaxis": "x2",
         "y": [
          0.016885847901823545,
          0.018643482627663917,
          0.017388029252063654,
          0.017827437933523746,
          0.016069803207683375,
          0.013307805781362793,
          0.014626031825743072,
          0.01610118954207338,
          0.018298232949373845,
          0.016352280217193434,
          0.018015755939863785,
          0.018737641630833936,
          0.0161953485452434,
          0.014437713819403033,
          0.015787326198173315,
          0.020306958350334265,
          0.018549323624493897,
          0.018298232949373845,
          0.01880041429961395,
          0.014782963497693105,
          0.014908508835253131,
          0.015818712532563322,
          0.017639119927183707,
          0.016132575876463388,
          0.018455164621323877,
          0.01870625529644393,
          0.014061077806722954,
          0.013809987131602901,
          0.015253758513543204,
          0.022723706098364774,
          0.02200182040739462,
          0.02294341043909482,
          0.024293022817865103,
          0.022441229088854712,
          0.0199930950064342,
          0.02460688616176517,
          0.026866702237845642,
          0.02350836445811494,
          0.022315683751294686,
          0.0247638178337152,
          0.018455164621323877,
          0.017168324911333604,
          0.013182260443802767,
          0.018643482627663917,
          0.020589435359844324,
          0.01814130127742381
         ],
         "yaxis": "y2"
        },
        {
         "line": {
          "color": "yellow"
         },
         "name": "65_plus",
         "opacity": 0.8,
         "showlegend": false,
         "type": "scatter",
         "x": [
          "2019-07-22T00:00:00",
          "2019-07-23T00:00:00",
          "2019-07-24T00:00:00",
          "2019-07-25T00:00:00",
          "2019-07-26T00:00:00",
          "2019-07-27T00:00:00",
          "2019-07-28T00:00:00",
          "2019-07-29T00:00:00",
          "2019-07-30T00:00:00",
          "2019-07-31T00:00:00",
          "2019-08-01T00:00:00",
          "2019-08-02T00:00:00",
          "2019-08-03T00:00:00",
          "2019-08-04T00:00:00",
          "2019-08-05T00:00:00",
          "2019-08-06T00:00:00",
          "2019-08-07T00:00:00",
          "2019-08-08T00:00:00",
          "2019-08-09T00:00:00",
          "2019-08-10T00:00:00",
          "2019-08-11T00:00:00",
          "2019-08-12T00:00:00",
          "2019-08-13T00:00:00",
          "2019-08-14T00:00:00",
          "2019-08-15T00:00:00",
          "2019-08-16T00:00:00",
          "2019-08-17T00:00:00",
          "2019-08-18T00:00:00",
          "2019-08-19T00:00:00",
          "2019-08-20T00:00:00",
          "2019-08-21T00:00:00",
          "2019-08-22T00:00:00",
          "2019-08-23T00:00:00",
          "2019-08-24T00:00:00",
          "2019-08-25T00:00:00",
          "2019-08-26T00:00:00",
          "2019-08-27T00:00:00",
          "2019-08-28T00:00:00",
          "2019-08-29T00:00:00",
          "2019-08-30T00:00:00",
          "2019-08-31T00:00:00",
          "2019-09-01T00:00:00",
          "2019-09-02T00:00:00",
          "2019-09-03T00:00:00",
          "2019-09-04T00:00:00",
          "2019-09-05T00:00:00"
         ],
         "xaxis": "x2",
         "y": [
          0.004456859483380936,
          0.004205768808260883,
          0.004990427168011048,
          0.005304290511911114,
          0.005178745174351088,
          0.0033583377797307057,
          0.0031072471046106522,
          0.005178745174351088,
          0.005304290511911114,
          0.0048962681648410285,
          0.005461222183861147,
          0.004833495496061015,
          0.0038919054643608174,
          0.004080223470700857,
          0.004645177489720976,
          0.005712312858981199,
          0.004080223470700857,
          0.005869244530931232,
          0.004519632152160949,
          0.0037977464611907976,
          0.0030758607702206456,
          0.005241517843131101,
          0.004959040833621042,
          0.0046137911553309685,
          0.0051159725055710745,
          0.004268541477040896,
          0.003201406107780672,
          0.0032327924421706785,
          0.003703587458020778,
          0.006434198549951351,
          0.00699915256897147,
          0.006528357553121371,
          0.006434198549951351,
          0.0057750855277612125,
          0.004927654499231035,
          0.007156084240921502,
          0.0072188569097015156,
          0.007501333919211575,
          0.007595492922381594,
          0.006842220897021437,
          0.004111609805090863,
          0.00404883713631085,
          0.0029503154326606194,
          0.006622516556291391,
          0.005680926524591193,
          0.005837858196541226
         ],
         "yaxis": "y2"
        }
       ],
       "layout": {
        "annotations": [
         {
          "font": {
           "size": 16
          },
          "showarrow": false,
          "text": "Chick-fil-A",
          "x": 0.225,
          "xanchor": "center",
          "xref": "paper",
          "y": 1,
          "yanchor": "bottom",
          "yref": "paper"
         },
         {
          "font": {
           "size": 16
          },
          "showarrow": false,
          "text": "Popeyes",
          "x": 0.775,
          "xanchor": "center",
          "xref": "paper",
          "y": 1,
          "yanchor": "bottom",
          "yref": "paper"
         }
        ],
        "showlegend": true,
        "template": {
         "data": {
          "bar": [
           {
            "error_x": {
             "color": "#2a3f5f"
            },
            "error_y": {
             "color": "#2a3f5f"
            },
            "marker": {
             "line": {
              "color": "#E5ECF6",
              "width": 0.5
             }
            },
            "type": "bar"
           }
          ],
          "barpolar": [
           {
            "marker": {
             "line": {
              "color": "#E5ECF6",
              "width": 0.5
             }
            },
            "type": "barpolar"
           }
          ],
          "carpet": [
           {
            "aaxis": {
             "endlinecolor": "#2a3f5f",
             "gridcolor": "white",
             "linecolor": "white",
             "minorgridcolor": "white",
             "startlinecolor": "#2a3f5f"
            },
            "baxis": {
             "endlinecolor": "#2a3f5f",
             "gridcolor": "white",
             "linecolor": "white",
             "minorgridcolor": "white",
             "startlinecolor": "#2a3f5f"
            },
            "type": "carpet"
           }
          ],
          "choropleth": [
           {
            "colorbar": {
             "outlinewidth": 0,
             "ticks": ""
            },
            "type": "choropleth"
           }
          ],
          "contour": [
           {
            "colorbar": {
             "outlinewidth": 0,
             "ticks": ""
            },
            "colorscale": [
             [
              0,
              "#0d0887"
             ],
             [
              0.1111111111111111,
              "#46039f"
             ],
             [
              0.2222222222222222,
              "#7201a8"
             ],
             [
              0.3333333333333333,
              "#9c179e"
             ],
             [
              0.4444444444444444,
              "#bd3786"
             ],
             [
              0.5555555555555556,
              "#d8576b"
             ],
             [
              0.6666666666666666,
              "#ed7953"
             ],
             [
              0.7777777777777778,
              "#fb9f3a"
             ],
             [
              0.8888888888888888,
              "#fdca26"
             ],
             [
              1,
              "#f0f921"
             ]
            ],
            "type": "contour"
           }
          ],
          "contourcarpet": [
           {
            "colorbar": {
             "outlinewidth": 0,
             "ticks": ""
            },
            "type": "contourcarpet"
           }
          ],
          "heatmap": [
           {
            "colorbar": {
             "outlinewidth": 0,
             "ticks": ""
            },
            "colorscale": [
             [
              0,
              "#0d0887"
             ],
             [
              0.1111111111111111,
              "#46039f"
             ],
             [
              0.2222222222222222,
              "#7201a8"
             ],
             [
              0.3333333333333333,
              "#9c179e"
             ],
             [
              0.4444444444444444,
              "#bd3786"
             ],
             [
              0.5555555555555556,
              "#d8576b"
             ],
             [
              0.6666666666666666,
              "#ed7953"
             ],
             [
              0.7777777777777778,
              "#fb9f3a"
             ],
             [
              0.8888888888888888,
              "#fdca26"
             ],
             [
              1,
              "#f0f921"
             ]
            ],
            "type": "heatmap"
           }
          ],
          "heatmapgl": [
           {
            "colorbar": {
             "outlinewidth": 0,
             "ticks": ""
            },
            "colorscale": [
             [
              0,
              "#0d0887"
             ],
             [
              0.1111111111111111,
              "#46039f"
             ],
             [
              0.2222222222222222,
              "#7201a8"
             ],
             [
              0.3333333333333333,
              "#9c179e"
             ],
             [
              0.4444444444444444,
              "#bd3786"
             ],
             [
              0.5555555555555556,
              "#d8576b"
             ],
             [
              0.6666666666666666,
              "#ed7953"
             ],
             [
              0.7777777777777778,
              "#fb9f3a"
             ],
             [
              0.8888888888888888,
              "#fdca26"
             ],
             [
              1,
              "#f0f921"
             ]
            ],
            "type": "heatmapgl"
           }
          ],
          "histogram": [
           {
            "marker": {
             "colorbar": {
              "outlinewidth": 0,
              "ticks": ""
             }
            },
            "type": "histogram"
           }
          ],
          "histogram2d": [
           {
            "colorbar": {
             "outlinewidth": 0,
             "ticks": ""
            },
            "colorscale": [
             [
              0,
              "#0d0887"
             ],
             [
              0.1111111111111111,
              "#46039f"
             ],
             [
              0.2222222222222222,
              "#7201a8"
             ],
             [
              0.3333333333333333,
              "#9c179e"
             ],
             [
              0.4444444444444444,
              "#bd3786"
             ],
             [
              0.5555555555555556,
              "#d8576b"
             ],
             [
              0.6666666666666666,
              "#ed7953"
             ],
             [
              0.7777777777777778,
              "#fb9f3a"
             ],
             [
              0.8888888888888888,
              "#fdca26"
             ],
             [
              1,
              "#f0f921"
             ]
            ],
            "type": "histogram2d"
           }
          ],
          "histogram2dcontour": [
           {
            "colorbar": {
             "outlinewidth": 0,
             "ticks": ""
            },
            "colorscale": [
             [
              0,
              "#0d0887"
             ],
             [
              0.1111111111111111,
              "#46039f"
             ],
             [
              0.2222222222222222,
              "#7201a8"
             ],
             [
              0.3333333333333333,
              "#9c179e"
             ],
             [
              0.4444444444444444,
              "#bd3786"
             ],
             [
              0.5555555555555556,
              "#d8576b"
             ],
             [
              0.6666666666666666,
              "#ed7953"
             ],
             [
              0.7777777777777778,
              "#fb9f3a"
             ],
             [
              0.8888888888888888,
              "#fdca26"
             ],
             [
              1,
              "#f0f921"
             ]
            ],
            "type": "histogram2dcontour"
           }
          ],
          "mesh3d": [
           {
            "colorbar": {
             "outlinewidth": 0,
             "ticks": ""
            },
            "type": "mesh3d"
           }
          ],
          "parcoords": [
           {
            "line": {
             "colorbar": {
              "outlinewidth": 0,
              "ticks": ""
             }
            },
            "type": "parcoords"
           }
          ],
          "pie": [
           {
            "automargin": true,
            "type": "pie"
           }
          ],
          "scatter": [
           {
            "marker": {
             "colorbar": {
              "outlinewidth": 0,
              "ticks": ""
             }
            },
            "type": "scatter"
           }
          ],
          "scatter3d": [
           {
            "line": {
             "colorbar": {
              "outlinewidth": 0,
              "ticks": ""
             }
            },
            "marker": {
             "colorbar": {
              "outlinewidth": 0,
              "ticks": ""
             }
            },
            "type": "scatter3d"
           }
          ],
          "scattercarpet": [
           {
            "marker": {
             "colorbar": {
              "outlinewidth": 0,
              "ticks": ""
             }
            },
            "type": "scattercarpet"
           }
          ],
          "scattergeo": [
           {
            "marker": {
             "colorbar": {
              "outlinewidth": 0,
              "ticks": ""
             }
            },
            "type": "scattergeo"
           }
          ],
          "scattergl": [
           {
            "marker": {
             "colorbar": {
              "outlinewidth": 0,
              "ticks": ""
             }
            },
            "type": "scattergl"
           }
          ],
          "scattermapbox": [
           {
            "marker": {
             "colorbar": {
              "outlinewidth": 0,
              "ticks": ""
             }
            },
            "type": "scattermapbox"
           }
          ],
          "scatterpolar": [
           {
            "marker": {
             "colorbar": {
              "outlinewidth": 0,
              "ticks": ""
             }
            },
            "type": "scatterpolar"
           }
          ],
          "scatterpolargl": [
           {
            "marker": {
             "colorbar": {
              "outlinewidth": 0,
              "ticks": ""
             }
            },
            "type": "scatterpolargl"
           }
          ],
          "scatterternary": [
           {
            "marker": {
             "colorbar": {
              "outlinewidth": 0,
              "ticks": ""
             }
            },
            "type": "scatterternary"
           }
          ],
          "surface": [
           {
            "colorbar": {
             "outlinewidth": 0,
             "ticks": ""
            },
            "colorscale": [
             [
              0,
              "#0d0887"
             ],
             [
              0.1111111111111111,
              "#46039f"
             ],
             [
              0.2222222222222222,
              "#7201a8"
             ],
             [
              0.3333333333333333,
              "#9c179e"
             ],
             [
              0.4444444444444444,
              "#bd3786"
             ],
             [
              0.5555555555555556,
              "#d8576b"
             ],
             [
              0.6666666666666666,
              "#ed7953"
             ],
             [
              0.7777777777777778,
              "#fb9f3a"
             ],
             [
              0.8888888888888888,
              "#fdca26"
             ],
             [
              1,
              "#f0f921"
             ]
            ],
            "type": "surface"
           }
          ],
          "table": [
           {
            "cells": {
             "fill": {
              "color": "#EBF0F8"
             },
             "line": {
              "color": "white"
             }
            },
            "header": {
             "fill": {
              "color": "#C8D4E3"
             },
             "line": {
              "color": "white"
             }
            },
            "type": "table"
           }
          ]
         },
         "layout": {
          "annotationdefaults": {
           "arrowcolor": "#2a3f5f",
           "arrowhead": 0,
           "arrowwidth": 1
          },
          "coloraxis": {
           "colorbar": {
            "outlinewidth": 0,
            "ticks": ""
           }
          },
          "colorscale": {
           "diverging": [
            [
             0,
             "#8e0152"
            ],
            [
             0.1,
             "#c51b7d"
            ],
            [
             0.2,
             "#de77ae"
            ],
            [
             0.3,
             "#f1b6da"
            ],
            [
             0.4,
             "#fde0ef"
            ],
            [
             0.5,
             "#f7f7f7"
            ],
            [
             0.6,
             "#e6f5d0"
            ],
            [
             0.7,
             "#b8e186"
            ],
            [
             0.8,
             "#7fbc41"
            ],
            [
             0.9,
             "#4d9221"
            ],
            [
             1,
             "#276419"
            ]
           ],
           "sequential": [
            [
             0,
             "#0d0887"
            ],
            [
             0.1111111111111111,
             "#46039f"
            ],
            [
             0.2222222222222222,
             "#7201a8"
            ],
            [
             0.3333333333333333,
             "#9c179e"
            ],
            [
             0.4444444444444444,
             "#bd3786"
            ],
            [
             0.5555555555555556,
             "#d8576b"
            ],
            [
             0.6666666666666666,
             "#ed7953"
            ],
            [
             0.7777777777777778,
             "#fb9f3a"
            ],
            [
             0.8888888888888888,
             "#fdca26"
            ],
            [
             1,
             "#f0f921"
            ]
           ],
           "sequentialminus": [
            [
             0,
             "#0d0887"
            ],
            [
             0.1111111111111111,
             "#46039f"
            ],
            [
             0.2222222222222222,
             "#7201a8"
            ],
            [
             0.3333333333333333,
             "#9c179e"
            ],
            [
             0.4444444444444444,
             "#bd3786"
            ],
            [
             0.5555555555555556,
             "#d8576b"
            ],
            [
             0.6666666666666666,
             "#ed7953"
            ],
            [
             0.7777777777777778,
             "#fb9f3a"
            ],
            [
             0.8888888888888888,
             "#fdca26"
            ],
            [
             1,
             "#f0f921"
            ]
           ]
          },
          "colorway": [
           "#636efa",
           "#EF553B",
           "#00cc96",
           "#ab63fa",
           "#FFA15A",
           "#19d3f3",
           "#FF6692",
           "#B6E880",
           "#FF97FF",
           "#FECB52"
          ],
          "font": {
           "color": "#2a3f5f"
          },
          "geo": {
           "bgcolor": "white",
           "lakecolor": "white",
           "landcolor": "#E5ECF6",
           "showlakes": true,
           "showland": true,
           "subunitcolor": "white"
          },
          "hoverlabel": {
           "align": "left"
          },
          "hovermode": "closest",
          "mapbox": {
           "style": "light"
          },
          "paper_bgcolor": "white",
          "plot_bgcolor": "#E5ECF6",
          "polar": {
           "angularaxis": {
            "gridcolor": "white",
            "linecolor": "white",
            "ticks": ""
           },
           "bgcolor": "#E5ECF6",
           "radialaxis": {
            "gridcolor": "white",
            "linecolor": "white",
            "ticks": ""
           }
          },
          "scene": {
           "xaxis": {
            "backgroundcolor": "#E5ECF6",
            "gridcolor": "white",
            "gridwidth": 2,
            "linecolor": "white",
            "showbackground": true,
            "ticks": "",
            "zerolinecolor": "white"
           },
           "yaxis": {
            "backgroundcolor": "#E5ECF6",
            "gridcolor": "white",
            "gridwidth": 2,
            "linecolor": "white",
            "showbackground": true,
            "ticks": "",
            "zerolinecolor": "white"
           },
           "zaxis": {
            "backgroundcolor": "#E5ECF6",
            "gridcolor": "white",
            "gridwidth": 2,
            "linecolor": "white",
            "showbackground": true,
            "ticks": "",
            "zerolinecolor": "white"
           }
          },
          "shapedefaults": {
           "line": {
            "color": "#2a3f5f"
           }
          },
          "ternary": {
           "aaxis": {
            "gridcolor": "white",
            "linecolor": "white",
            "ticks": ""
           },
           "baxis": {
            "gridcolor": "white",
            "linecolor": "white",
            "ticks": ""
           },
           "bgcolor": "#E5ECF6",
           "caxis": {
            "gridcolor": "white",
            "linecolor": "white",
            "ticks": ""
           }
          },
          "title": {
           "x": 0.05
          },
          "xaxis": {
           "automargin": true,
           "gridcolor": "white",
           "linecolor": "white",
           "ticks": "",
           "title": {
            "standoff": 15
           },
           "zerolinecolor": "white",
           "zerolinewidth": 2
          },
          "yaxis": {
           "automargin": true,
           "gridcolor": "white",
           "linecolor": "white",
           "ticks": "",
           "title": {
            "standoff": 15
           },
           "zerolinecolor": "white",
           "zerolinewidth": 2
          }
         }
        },
        "title": {
         "text": "Foot Traffic at Popeyes vs Chick-fil-a by Age Groups before and after the Promotion "
        },
        "xaxis": {
         "anchor": "y",
         "domain": [
          0,
          0.45
         ],
         "title": {
          "text": "Date"
         }
        },
        "xaxis2": {
         "anchor": "y2",
         "domain": [
          0.55,
          1
         ],
         "title": {
          "text": "Date"
         }
        },
        "yaxis": {
         "anchor": "x",
         "domain": [
          0,
          1
         ],
         "tickmode": "array",
         "tickvals": [
          0,
          0.2,
          0.4,
          0.6,
          0.8
         ],
         "title": {
          "text": "Change in Visit"
         }
        },
        "yaxis2": {
         "anchor": "x2",
         "domain": [
          0,
          1
         ],
         "tickmode": "array",
         "tickvals": [
          0,
          0.2,
          0.4,
          0.6,
          0.8
         ],
         "title": {
          "text": "Change in Visit"
         }
        }
       }
      },
      "text/html": [
       "<div>\n",
       "        \n",
       "        \n",
       "            <div id=\"be996b32-b3ea-4a64-8538-a72a13b6668e\" class=\"plotly-graph-div\" style=\"height:525px; width:100%;\"></div>\n",
       "            <script type=\"text/javascript\">\n",
       "                require([\"plotly\"], function(Plotly) {\n",
       "                    window.PLOTLYENV=window.PLOTLYENV || {};\n",
       "                    \n",
       "                if (document.getElementById(\"be996b32-b3ea-4a64-8538-a72a13b6668e\")) {\n",
       "                    Plotly.newPlot(\n",
       "                        'be996b32-b3ea-4a64-8538-a72a13b6668e',\n",
       "                        [{\"line\": {\"color\": \"orange\"}, \"name\": \"Under 18\", \"opacity\": 0.8, \"type\": \"scatter\", \"x\": [\"2019-07-22T00:00:00\", \"2019-07-23T00:00:00\", \"2019-07-24T00:00:00\", \"2019-07-25T00:00:00\", \"2019-07-26T00:00:00\", \"2019-07-27T00:00:00\", \"2019-07-28T00:00:00\", \"2019-07-29T00:00:00\", \"2019-07-30T00:00:00\", \"2019-07-31T00:00:00\", \"2019-08-01T00:00:00\", \"2019-08-02T00:00:00\", \"2019-08-03T00:00:00\", \"2019-08-04T00:00:00\", \"2019-08-05T00:00:00\", \"2019-08-06T00:00:00\", \"2019-08-07T00:00:00\", \"2019-08-08T00:00:00\", \"2019-08-09T00:00:00\", \"2019-08-10T00:00:00\", \"2019-08-11T00:00:00\", \"2019-08-12T00:00:00\", \"2019-08-13T00:00:00\", \"2019-08-14T00:00:00\", \"2019-08-15T00:00:00\", \"2019-08-16T00:00:00\", \"2019-08-17T00:00:00\", \"2019-08-18T00:00:00\", \"2019-08-19T00:00:00\", \"2019-08-20T00:00:00\", \"2019-08-21T00:00:00\", \"2019-08-22T00:00:00\", \"2019-08-23T00:00:00\", \"2019-08-24T00:00:00\", \"2019-08-25T00:00:00\", \"2019-08-26T00:00:00\", \"2019-08-27T00:00:00\", \"2019-08-28T00:00:00\", \"2019-08-29T00:00:00\", \"2019-08-30T00:00:00\", \"2019-08-31T00:00:00\", \"2019-09-01T00:00:00\", \"2019-09-02T00:00:00\", \"2019-09-03T00:00:00\", \"2019-09-04T00:00:00\", \"2019-09-05T00:00:00\"], \"xaxis\": \"x\", \"y\": [0.021217162047644456, 0.02451272715859515, 0.027776905935155832, 0.026866702237845642, 0.030193653683186338, 0.029817017670506263, 0.004456859483380936, 0.023288660117384893, 0.02652145255955557, 0.02733749725369574, 0.029157904648316125, 0.031009698377326516, 0.032798719437556884, 0.004645177489720976, 0.024638272496155175, 0.028122155613445908, 0.029817017670506263, 0.027776905935155832, 0.031103857380496532, 0.03063306236464643, 0.004927654499231035, 0.023194501114214873, 0.027588587928815793, 0.0271491792473557, 0.02586233953736543, 0.030915539374156493, 0.03330090078779699, 0.004299927811430903, 0.01898873230595399, 0.024826590502495215, 0.023916386805185024, 0.025642635196635385, 0.031198016383666555, 0.03675339757069772, 0.004739336492890996, 0.01823546028059383, 0.021939047738614607, 0.02253538809202473, 0.023728068798844985, 0.0323906970904868, 0.03370892313486708, 0.004551018486550955, 0.0199930950064342, 0.016163962210853394, 0.019459527321804088, 0.0199930950064342], \"yaxis\": \"y\"}, {\"line\": {\"color\": \"green\"}, \"name\": \"18_24\", \"opacity\": 0.8, \"type\": \"scatter\", \"x\": [\"2019-07-22T00:00:00\", \"2019-07-23T00:00:00\", \"2019-07-24T00:00:00\", \"2019-07-25T00:00:00\", \"2019-07-26T00:00:00\", \"2019-07-27T00:00:00\", \"2019-07-28T00:00:00\", \"2019-07-29T00:00:00\", \"2019-07-30T00:00:00\", \"2019-07-31T00:00:00\", \"2019-08-01T00:00:00\", \"2019-08-02T00:00:00\", \"2019-08-03T00:00:00\", \"2019-08-04T00:00:00\", \"2019-08-05T00:00:00\", \"2019-08-06T00:00:00\", \"2019-08-07T00:00:00\", \"2019-08-08T00:00:00\", \"2019-08-09T00:00:00\", \"2019-08-10T00:00:00\", \"2019-08-11T00:00:00\", \"2019-08-12T00:00:00\", \"2019-08-13T00:00:00\", \"2019-08-14T00:00:00\", \"2019-08-15T00:00:00\", \"2019-08-16T00:00:00\", \"2019-08-17T00:00:00\", \"2019-08-18T00:00:00\", \"2019-08-19T00:00:00\", \"2019-08-20T00:00:00\", \"2019-08-21T00:00:00\", \"2019-08-22T00:00:00\", \"2019-08-23T00:00:00\", \"2019-08-24T00:00:00\", \"2019-08-25T00:00:00\", \"2019-08-26T00:00:00\", \"2019-08-27T00:00:00\", \"2019-08-28T00:00:00\", \"2019-08-29T00:00:00\", \"2019-08-30T00:00:00\", \"2019-08-31T00:00:00\", \"2019-09-01T00:00:00\", \"2019-09-02T00:00:00\", \"2019-09-03T00:00:00\", \"2019-09-04T00:00:00\", \"2019-09-05T00:00:00\"], \"xaxis\": \"x\", \"y\": [0.18991870939392988, 0.209503782053294, 0.20746367031794358, 0.22510279024512728, 0.23985436740843039, 0.22987351307240828, 0.04864881830451021, 0.19264932048586048, 0.22243495182197673, 0.22340792818806693, 0.22604438027682747, 0.24588054361131165, 0.24142368412793072, 0.05163052007156084, 0.19603904459998117, 0.2242867455509871, 0.22337654185367692, 0.22488308590439723, 0.24572361193936162, 0.23674712030381972, 0.05084586171181067, 0.19861272401996172, 0.2280531056777879, 0.2256363579297574, 0.2376573240011299, 0.2394777313957503, 0.23863030036722013, 0.05200715608424092, 0.18106776309594805, 0.22315683751294688, 0.21964156806126614, 0.23976020840526036, 0.25683437431342393, 0.2576818053419541, 0.058566899971752295, 0.19506606823389097, 0.22124227111515646, 0.2214933617902765, 0.2314428297919086, 0.2642101628950755, 0.2433382505257211, 0.05370201814130127, 0.15768494397539312, 0.1733467248360064, 0.19873826935752176, 0.1923668434763504], \"yaxis\": \"y\"}, {\"line\": {\"color\": \"blue\"}, \"name\": \"25_34\", \"opacity\": 0.8, \"type\": \"scatter\", \"x\": [\"2019-07-22T00:00:00\", \"2019-07-23T00:00:00\", \"2019-07-24T00:00:00\", \"2019-07-25T00:00:00\", \"2019-07-26T00:00:00\", \"2019-07-27T00:00:00\", \"2019-07-28T00:00:00\", \"2019-07-29T00:00:00\", \"2019-07-30T00:00:00\", \"2019-07-31T00:00:00\", \"2019-08-01T00:00:00\", \"2019-08-02T00:00:00\", \"2019-08-03T00:00:00\", \"2019-08-04T00:00:00\", \"2019-08-05T00:00:00\", \"2019-08-06T00:00:00\", \"2019-08-07T00:00:00\", \"2019-08-08T00:00:00\", \"2019-08-09T00:00:00\", \"2019-08-10T00:00:00\", \"2019-08-11T00:00:00\", \"2019-08-12T00:00:00\", \"2019-08-13T00:00:00\", \"2019-08-14T00:00:00\", \"2019-08-15T00:00:00\", \"2019-08-16T00:00:00\", \"2019-08-17T00:00:00\", \"2019-08-18T00:00:00\", \"2019-08-19T00:00:00\", \"2019-08-20T00:00:00\", \"2019-08-21T00:00:00\", \"2019-08-22T00:00:00\", \"2019-08-23T00:00:00\", \"2019-08-24T00:00:00\", \"2019-08-25T00:00:00\", \"2019-08-26T00:00:00\", \"2019-08-27T00:00:00\", \"2019-08-28T00:00:00\", \"2019-08-29T00:00:00\", \"2019-08-30T00:00:00\", \"2019-08-31T00:00:00\", \"2019-09-01T00:00:00\", \"2019-09-02T00:00:00\", \"2019-09-03T00:00:00\", \"2019-09-04T00:00:00\", \"2019-09-05T00:00:00\"], \"xaxis\": \"x\", \"y\": [0.5345092746618123, 0.6100561815385581, 0.6176830607953298, 0.6549386397162675, 0.7281001851793729, 0.6969649414644864, 0.1536988795078623, 0.5353253193559524, 0.6089890461692979, 0.6392140861868743, 0.6771601644643922, 0.7511377546216378, 0.7344402247261542, 0.15398135651737235, 0.5410376322149336, 0.6050029817017671, 0.6213552619189605, 0.6624399736354791, 0.7315840682966637, 0.7218856909701516, 0.15096826841593172, 0.547660148771225, 0.6276011424625718, 0.6302062082169424, 0.6726405323122313, 0.7084837261856188, 0.718935375537491, 0.15121935909105177, 0.5067637550610464, 0.6361382254166537, 0.6557860707447978, 0.71397633470387, 0.8098929725997301, 0.819089168576002, 0.17488465522111674, 0.5843507736731427, 0.6689369448542105, 0.6847242710523839, 0.7385832208656351, 0.8590439722544805, 0.785725495119425, 0.1612943724302439, 0.47628762436835, 0.5610934998901479, 0.6064467530837074, 0.5831894793007125], \"yaxis\": \"y\"}, {\"line\": {\"color\": \"red\"}, \"name\": \"35_44\", \"opacity\": 0.8, \"type\": \"scatter\", \"x\": [\"2019-07-22T00:00:00\", \"2019-07-23T00:00:00\", \"2019-07-24T00:00:00\", \"2019-07-25T00:00:00\", \"2019-07-26T00:00:00\", \"2019-07-27T00:00:00\", \"2019-07-28T00:00:00\", \"2019-07-29T00:00:00\", \"2019-07-30T00:00:00\", \"2019-07-31T00:00:00\", \"2019-08-01T00:00:00\", \"2019-08-02T00:00:00\", \"2019-08-03T00:00:00\", \"2019-08-04T00:00:00\", \"2019-08-05T00:00:00\", \"2019-08-06T00:00:00\", \"2019-08-07T00:00:00\", \"2019-08-08T00:00:00\", \"2019-08-09T00:00:00\", \"2019-08-10T00:00:00\", \"2019-08-11T00:00:00\", \"2019-08-12T00:00:00\", \"2019-08-13T00:00:00\", \"2019-08-14T00:00:00\", \"2019-08-15T00:00:00\", \"2019-08-16T00:00:00\", \"2019-08-17T00:00:00\", \"2019-08-18T00:00:00\", \"2019-08-19T00:00:00\", \"2019-08-20T00:00:00\", \"2019-08-21T00:00:00\", \"2019-08-22T00:00:00\", \"2019-08-23T00:00:00\", \"2019-08-24T00:00:00\", \"2019-08-25T00:00:00\", \"2019-08-26T00:00:00\", \"2019-08-27T00:00:00\", \"2019-08-28T00:00:00\", \"2019-08-29T00:00:00\", \"2019-08-30T00:00:00\", \"2019-08-31T00:00:00\", \"2019-09-01T00:00:00\", \"2019-09-02T00:00:00\", \"2019-09-03T00:00:00\", \"2019-09-04T00:00:00\", \"2019-09-05T00:00:00\"], \"xaxis\": \"x\", \"y\": [0.670882897586391, 0.7241768933806221, 0.7637864473808105, 0.8061893851417093, 0.8768086375192241, 0.8288189322369041, 0.13734659929066886, 0.66639465176862, 0.7405291735978156, 0.7864787671447852, 0.8157308307962713, 0.9027023633909796, 0.8880449452308465, 0.1436866388374502, 0.6797652302187628, 0.7452685100907065, 0.7632214933617903, 0.7994413232478579, 0.8597972442798406, 0.8544615674335395, 0.1375663036313989, 0.6599290668842787, 0.7245535293933022, 0.7467122814726468, 0.7799190232572738, 0.8149775587709112, 0.8462383478233577, 0.13574589623677852, 0.6015504849188663, 0.7322117949844638, 0.7640061517215405, 0.8202504629484323, 0.9245472521264242, 0.9522613853928, 0.152349267129092, 0.656696274442108, 0.7466495088038668, 0.7909042402937762, 0.8462069614889678, 1.0, 0.9220363453752236, 0.14412604751891028, 0.542763880606384, 0.6463701704277958, 0.7309249552744735, 0.6913154012742853], \"yaxis\": \"y\"}, {\"line\": {\"color\": \"brown\"}, \"name\": \"45_54\", \"opacity\": 0.8, \"type\": \"scatter\", \"x\": [\"2019-07-22T00:00:00\", \"2019-07-23T00:00:00\", \"2019-07-24T00:00:00\", \"2019-07-25T00:00:00\", \"2019-07-26T00:00:00\", \"2019-07-27T00:00:00\", \"2019-07-28T00:00:00\", \"2019-07-29T00:00:00\", \"2019-07-30T00:00:00\", \"2019-07-31T00:00:00\", \"2019-08-01T00:00:00\", \"2019-08-02T00:00:00\", \"2019-08-03T00:00:00\", \"2019-08-04T00:00:00\", \"2019-08-05T00:00:00\", \"2019-08-06T00:00:00\", \"2019-08-07T00:00:00\", \"2019-08-08T00:00:00\", \"2019-08-09T00:00:00\", \"2019-08-10T00:00:00\", \"2019-08-11T00:00:00\", \"2019-08-12T00:00:00\", \"2019-08-13T00:00:00\", \"2019-08-14T00:00:00\", \"2019-08-15T00:00:00\", \"2019-08-16T00:00:00\", \"2019-08-17T00:00:00\", \"2019-08-18T00:00:00\", \"2019-08-19T00:00:00\", \"2019-08-20T00:00:00\", \"2019-08-21T00:00:00\", \"2019-08-22T00:00:00\", \"2019-08-23T00:00:00\", \"2019-08-24T00:00:00\", \"2019-08-25T00:00:00\", \"2019-08-26T00:00:00\", \"2019-08-27T00:00:00\", \"2019-08-28T00:00:00\", \"2019-08-29T00:00:00\", \"2019-08-30T00:00:00\", \"2019-08-31T00:00:00\", \"2019-09-01T00:00:00\", \"2019-09-02T00:00:00\", \"2019-09-03T00:00:00\", \"2019-09-04T00:00:00\", \"2019-09-05T00:00:00\"], \"xaxis\": \"x\", \"y\": [0.29176736448950125, 0.3109758011361853, 0.32139606415366745, 0.3375286400301309, 0.3680675433916073, 0.34468472427105235, 0.05392172248203132, 0.28812654970026047, 0.3087787577288848, 0.3234989485577979, 0.3389724114120712, 0.37459590094472867, 0.37302658422522833, 0.051316656727660774, 0.28887982172562066, 0.3082765763786447, 0.3270769906782587, 0.33360534823138005, 0.35614073632340476, 0.34980069677662345, 0.05034368036157057, 0.2818492828222592, 0.3100342111044851, 0.31502463827249616, 0.3289287844072691, 0.34948683343272335, 0.3542575562600044, 0.052948746115941116, 0.26220143749411506, 0.3011518784721132, 0.3177866356988167, 0.3349863469445403, 0.36778506638209724, 0.37588274065471894, 0.051096952386930725, 0.27177426948306704, 0.29832710837701265, 0.31697059100467656, 0.3426759988700919, 0.38696211669439123, 0.3582122343931452, 0.05166190640595084, 0.22055177175857632, 0.2698597030852766, 0.29631838297605223, 0.29512570226923196], \"yaxis\": \"y\"}, {\"line\": {\"color\": \"pink\"}, \"name\": \"55_64\", \"opacity\": 0.8, \"type\": \"scatter\", \"x\": [\"2019-07-22T00:00:00\", \"2019-07-23T00:00:00\", \"2019-07-24T00:00:00\", \"2019-07-25T00:00:00\", \"2019-07-26T00:00:00\", \"2019-07-27T00:00:00\", \"2019-07-28T00:00:00\", \"2019-07-29T00:00:00\", \"2019-07-30T00:00:00\", \"2019-07-31T00:00:00\", \"2019-08-01T00:00:00\", \"2019-08-02T00:00:00\", \"2019-08-03T00:00:00\", \"2019-08-04T00:00:00\", \"2019-08-05T00:00:00\", \"2019-08-06T00:00:00\", \"2019-08-07T00:00:00\", \"2019-08-08T00:00:00\", \"2019-08-09T00:00:00\", \"2019-08-10T00:00:00\", \"2019-08-11T00:00:00\", \"2019-08-12T00:00:00\", \"2019-08-13T00:00:00\", \"2019-08-14T00:00:00\", \"2019-08-15T00:00:00\", \"2019-08-16T00:00:00\", \"2019-08-17T00:00:00\", \"2019-08-18T00:00:00\", \"2019-08-19T00:00:00\", \"2019-08-20T00:00:00\", \"2019-08-21T00:00:00\", \"2019-08-22T00:00:00\", \"2019-08-23T00:00:00\", \"2019-08-24T00:00:00\", \"2019-08-25T00:00:00\", \"2019-08-26T00:00:00\", \"2019-08-27T00:00:00\", \"2019-08-28T00:00:00\", \"2019-08-29T00:00:00\", \"2019-08-30T00:00:00\", \"2019-08-31T00:00:00\", \"2019-09-01T00:00:00\", \"2019-09-02T00:00:00\", \"2019-09-03T00:00:00\", \"2019-09-04T00:00:00\", \"2019-09-05T00:00:00\"], \"xaxis\": \"x\", \"y\": [0.0800351526945168, 0.0899532343617589, 0.09136561940930918, 0.09560277455196008, 0.09632466024293022, 0.07837167697184645, 0.011110762374062333, 0.08116506073255704, 0.08876055365493864, 0.09183641442515929, 0.09415900317001977, 0.09783120429365054, 0.08628103323812812, 0.009823922664072064, 0.07934465333793667, 0.09073789272150905, 0.08970214368663884, 0.09494366152976993, 0.09638743291171024, 0.08348764947741753, 0.011612943724302438, 0.08166724208279715, 0.08628103323812812, 0.09114591506857914, 0.09183641442515929, 0.09127146040613916, 0.08414676249960766, 0.010702740026992247, 0.07416590816358558, 0.08602994256300807, 0.08850946297981858, 0.09751734094975048, 0.09400207149806973, 0.08408398983082765, 0.010985217036502307, 0.07834029063745644, 0.08461755751545777, 0.090486802046389, 0.09698377326512037, 0.09820784030633062, 0.08898025799566868, 0.011267694046012366, 0.05850412730297228, 0.08107090172938702, 0.08559053388154797, 0.08370735381814758], \"yaxis\": \"y\"}, {\"line\": {\"color\": \"yellow\"}, \"name\": \"65_plus\", \"opacity\": 0.8, \"type\": \"scatter\", \"x\": [\"2019-07-22T00:00:00\", \"2019-07-23T00:00:00\", \"2019-07-24T00:00:00\", \"2019-07-25T00:00:00\", \"2019-07-26T00:00:00\", \"2019-07-27T00:00:00\", \"2019-07-28T00:00:00\", \"2019-07-29T00:00:00\", \"2019-07-30T00:00:00\", \"2019-07-31T00:00:00\", \"2019-08-01T00:00:00\", \"2019-08-02T00:00:00\", \"2019-08-03T00:00:00\", \"2019-08-04T00:00:00\", \"2019-08-05T00:00:00\", \"2019-08-06T00:00:00\", \"2019-08-07T00:00:00\", \"2019-08-08T00:00:00\", \"2019-08-09T00:00:00\", \"2019-08-10T00:00:00\", \"2019-08-11T00:00:00\", \"2019-08-12T00:00:00\", \"2019-08-13T00:00:00\", \"2019-08-14T00:00:00\", \"2019-08-15T00:00:00\", \"2019-08-16T00:00:00\", \"2019-08-17T00:00:00\", \"2019-08-18T00:00:00\", \"2019-08-19T00:00:00\", \"2019-08-20T00:00:00\", \"2019-08-21T00:00:00\", \"2019-08-22T00:00:00\", \"2019-08-23T00:00:00\", \"2019-08-24T00:00:00\", \"2019-08-25T00:00:00\", \"2019-08-26T00:00:00\", \"2019-08-27T00:00:00\", \"2019-08-28T00:00:00\", \"2019-08-29T00:00:00\", \"2019-08-30T00:00:00\", \"2019-08-31T00:00:00\", \"2019-09-01T00:00:00\", \"2019-09-02T00:00:00\", \"2019-09-03T00:00:00\", \"2019-09-04T00:00:00\", \"2019-09-05T00:00:00\"], \"xaxis\": \"x\", \"y\": [0.035654875867047485, 0.03791469194312796, 0.035278239854367406, 0.04014312168481843, 0.03490160384168733, 0.02928344998587615, 0.002385361413640501, 0.03505853551363736, 0.03841687329336806, 0.03593735287655754, 0.03942123599384827, 0.03778914660556793, 0.029503154326606197, 0.002699224757540567, 0.034085559147547156, 0.03838548695897806, 0.03844825962775807, 0.03719280625215781, 0.03643953422679765, 0.028812654970026053, 0.0021656570729104547, 0.03458774049778726, 0.03662785223313769, 0.03490160384168733, 0.03753805593044788, 0.03596873921094755, 0.02680392956906563, 0.0020401117353504284, 0.031260789052446565, 0.03691032924264775, 0.03838548695897806, 0.03816578261824801, 0.03606289821411757, 0.02937760898904617, 0.002542293085590534, 0.034807444838517304, 0.03709864724898779, 0.03709864724898779, 0.037883305608737955, 0.03800885094629798, 0.029973949342456296, 0.0022912024104704814, 0.021687957063494554, 0.036313988889237626, 0.036313988889237626, 0.035435171526317435], \"yaxis\": \"y\"}, {\"line\": {\"color\": \"orange\"}, \"name\": \"Under 18\", \"opacity\": 0.8, \"showlegend\": false, \"type\": \"scatter\", \"x\": [\"2019-07-22T00:00:00\", \"2019-07-23T00:00:00\", \"2019-07-24T00:00:00\", \"2019-07-25T00:00:00\", \"2019-07-26T00:00:00\", \"2019-07-27T00:00:00\", \"2019-07-28T00:00:00\", \"2019-07-29T00:00:00\", \"2019-07-30T00:00:00\", \"2019-07-31T00:00:00\", \"2019-08-01T00:00:00\", \"2019-08-02T00:00:00\", \"2019-08-03T00:00:00\", \"2019-08-04T00:00:00\", \"2019-08-05T00:00:00\", \"2019-08-06T00:00:00\", \"2019-08-07T00:00:00\", \"2019-08-08T00:00:00\", \"2019-08-09T00:00:00\", \"2019-08-10T00:00:00\", \"2019-08-11T00:00:00\", \"2019-08-12T00:00:00\", \"2019-08-13T00:00:00\", \"2019-08-14T00:00:00\", \"2019-08-15T00:00:00\", \"2019-08-16T00:00:00\", \"2019-08-17T00:00:00\", \"2019-08-18T00:00:00\", \"2019-08-19T00:00:00\", \"2019-08-20T00:00:00\", \"2019-08-21T00:00:00\", \"2019-08-22T00:00:00\", \"2019-08-23T00:00:00\", \"2019-08-24T00:00:00\", \"2019-08-25T00:00:00\", \"2019-08-26T00:00:00\", \"2019-08-27T00:00:00\", \"2019-08-28T00:00:00\", \"2019-08-29T00:00:00\", \"2019-08-30T00:00:00\", \"2019-08-31T00:00:00\", \"2019-09-01T00:00:00\", \"2019-09-02T00:00:00\", \"2019-09-03T00:00:00\", \"2019-09-04T00:00:00\", \"2019-09-05T00:00:00\"], \"xaxis\": \"x2\", \"y\": [0.0, 0.0005963403534101253, 0.0006591130221901384, 0.0008160446941401713, 0.0002197043407300462, 0.0008788173629201844, 0.0012554533756002637, 0.0005649540190201187, 0.0011299080380402374, 0.0005963403534101253, 0.0007846583597501647, 0.0008160446941401713, 0.001161294372430244, 0.0010985217036502308, 0.0007846583597501647, 0.000690499356580145, 0.0005021813502401056, 0.0005021813502401056, 0.0010043627004802111, 0.0014437713819403031, 0.0010357490348702177, 0.0004394086814600924, 0.00040802234707008563, 0.0005649540190201187, 0.00037663601268007906, 0.0006591130221901384, 0.0015065440507203163, 0.0007532720253601581, 0.00018831800634003964, 0.0014751577163303097, 0.0019459527321804087, 0.003326951445340699, 0.0038919054643608174, 0.005272904177521107, 0.005367063180691127, 0.0025109067512005274, 0.0027933837607105865, 0.0024481340824205142, 0.002008725400960422, 0.002605065754370547, 0.0017890210602303758, 0.0021970434073004612, 0.0014437713819403031, 0.00018831800634003964, 0.0005963403534101253, 0.0003452496782900725], \"yaxis\": \"y2\"}, {\"line\": {\"color\": \"green\"}, \"name\": \"18_24\", \"opacity\": 0.8, \"showlegend\": false, \"type\": \"scatter\", \"x\": [\"2019-07-22T00:00:00\", \"2019-07-23T00:00:00\", \"2019-07-24T00:00:00\", \"2019-07-25T00:00:00\", \"2019-07-26T00:00:00\", \"2019-07-27T00:00:00\", \"2019-07-28T00:00:00\", \"2019-07-29T00:00:00\", \"2019-07-30T00:00:00\", \"2019-07-31T00:00:00\", \"2019-08-01T00:00:00\", \"2019-08-02T00:00:00\", \"2019-08-03T00:00:00\", \"2019-08-04T00:00:00\", \"2019-08-05T00:00:00\", \"2019-08-06T00:00:00\", \"2019-08-07T00:00:00\", \"2019-08-08T00:00:00\", \"2019-08-09T00:00:00\", \"2019-08-10T00:00:00\", \"2019-08-11T00:00:00\", \"2019-08-12T00:00:00\", \"2019-08-13T00:00:00\", \"2019-08-14T00:00:00\", \"2019-08-15T00:00:00\", \"2019-08-16T00:00:00\", \"2019-08-17T00:00:00\", \"2019-08-18T00:00:00\", \"2019-08-19T00:00:00\", \"2019-08-20T00:00:00\", \"2019-08-21T00:00:00\", \"2019-08-22T00:00:00\", \"2019-08-23T00:00:00\", \"2019-08-24T00:00:00\", \"2019-08-25T00:00:00\", \"2019-08-26T00:00:00\", \"2019-08-27T00:00:00\", \"2019-08-28T00:00:00\", \"2019-08-29T00:00:00\", \"2019-08-30T00:00:00\", \"2019-08-31T00:00:00\", \"2019-09-01T00:00:00\", \"2019-09-02T00:00:00\", \"2019-09-03T00:00:00\", \"2019-09-04T00:00:00\", \"2019-09-05T00:00:00\"], \"xaxis\": \"x2\", \"y\": [0.02724333825052572, 0.02837324628856596, 0.02623897555004551, 0.02780829226954584, 0.029597313329776217, 0.02975424500172625, 0.032045447412196726, 0.027180565581745707, 0.028718495966856033, 0.02947176799221619, 0.029817017670506263, 0.0323906970904868, 0.03132356172122658, 0.0300053356768463, 0.02966008599855623, 0.028122155613445908, 0.029911176673676283, 0.02947176799221619, 0.03025642635196635, 0.03179435673707667, 0.032265151752926775, 0.028216314616615928, 0.03104108471171652, 0.027588587928815793, 0.03028781268635636, 0.02818492828222592, 0.030413358023916388, 0.03179435673707667, 0.028969586641976085, 0.052352405762530994, 0.06653902890681397, 0.07821474529989642, 0.08452339851228775, 0.08725400960421832, 0.07834029063745644, 0.066664574244374, 0.06371425881171337, 0.04987288534572047, 0.04403502714917924, 0.04783277361037004, 0.04626345689086971, 0.04117887071968864, 0.036282602554847616, 0.03355199146291704, 0.03276733310316688, 0.027776905935155832], \"yaxis\": \"y2\"}, {\"line\": {\"color\": \"blue\"}, \"name\": \"25_34\", \"opacity\": 0.8, \"showlegend\": false, \"type\": \"scatter\", \"x\": [\"2019-07-22T00:00:00\", \"2019-07-23T00:00:00\", \"2019-07-24T00:00:00\", \"2019-07-25T00:00:00\", \"2019-07-26T00:00:00\", \"2019-07-27T00:00:00\", \"2019-07-28T00:00:00\", \"2019-07-29T00:00:00\", \"2019-07-30T00:00:00\", \"2019-07-31T00:00:00\", \"2019-08-01T00:00:00\", \"2019-08-02T00:00:00\", \"2019-08-03T00:00:00\", \"2019-08-04T00:00:00\", \"2019-08-05T00:00:00\", \"2019-08-06T00:00:00\", \"2019-08-07T00:00:00\", \"2019-08-08T00:00:00\", \"2019-08-09T00:00:00\", \"2019-08-10T00:00:00\", \"2019-08-11T00:00:00\", \"2019-08-12T00:00:00\", \"2019-08-13T00:00:00\", \"2019-08-14T00:00:00\", \"2019-08-15T00:00:00\", \"2019-08-16T00:00:00\", \"2019-08-17T00:00:00\", \"2019-08-18T00:00:00\", \"2019-08-19T00:00:00\", \"2019-08-20T00:00:00\", \"2019-08-21T00:00:00\", \"2019-08-22T00:00:00\", \"2019-08-23T00:00:00\", \"2019-08-24T00:00:00\", \"2019-08-25T00:00:00\", \"2019-08-26T00:00:00\", \"2019-08-27T00:00:00\", \"2019-08-28T00:00:00\", \"2019-08-29T00:00:00\", \"2019-08-30T00:00:00\", \"2019-08-31T00:00:00\", \"2019-09-01T00:00:00\", \"2019-09-02T00:00:00\", \"2019-09-03T00:00:00\", \"2019-09-04T00:00:00\", \"2019-09-05T00:00:00\"], \"xaxis\": \"x2\", \"y\": [0.15162738143812185, 0.15197263111641193, 0.1561470135902828, 0.15768494397539312, 0.1728131571513763, 0.16349141583754434, 0.16367973384388437, 0.14823765732400113, 0.15925426069489346, 0.161827940114874, 0.1695489783748156, 0.17780358431938734, 0.17890210602303758, 0.16980006904993566, 0.1561470135902828, 0.16063525940805373, 0.16317755249364427, 0.16367973384388437, 0.17491604155550675, 0.17554376824330686, 0.1660964815919149, 0.147452998964251, 0.15394997018298234, 0.1517529267756819, 0.16270675747779417, 0.16870154734628542, 0.16860738834311542, 0.16314616615925426, 0.1614513041021939, 0.26424154922946547, 0.30174821882552333, 0.33843884372744104, 0.37807978406201936, 0.3740623332600985, 0.3444650199303223, 0.30441605724867393, 0.2964439283136122, 0.24839145036251217, 0.23216471548287876, 0.25849785003609427, 0.23580553027211953, 0.20008788173629202, 0.1732839521672264, 0.1789962650262076, 0.17736417563792725, 0.1456639779040206], \"yaxis\": \"y2\"}, {\"line\": {\"color\": \"red\"}, \"name\": \"35_44\", \"opacity\": 0.8, \"showlegend\": false, \"type\": \"scatter\", \"x\": [\"2019-07-22T00:00:00\", \"2019-07-23T00:00:00\", \"2019-07-24T00:00:00\", \"2019-07-25T00:00:00\", \"2019-07-26T00:00:00\", \"2019-07-27T00:00:00\", \"2019-07-28T00:00:00\", \"2019-07-29T00:00:00\", \"2019-07-30T00:00:00\", \"2019-07-31T00:00:00\", \"2019-08-01T00:00:00\", \"2019-08-02T00:00:00\", \"2019-08-03T00:00:00\", \"2019-08-04T00:00:00\", \"2019-08-05T00:00:00\", \"2019-08-06T00:00:00\", \"2019-08-07T00:00:00\", \"2019-08-08T00:00:00\", \"2019-08-09T00:00:00\", \"2019-08-10T00:00:00\", \"2019-08-11T00:00:00\", \"2019-08-12T00:00:00\", \"2019-08-13T00:00:00\", \"2019-08-14T00:00:00\", \"2019-08-15T00:00:00\", \"2019-08-16T00:00:00\", \"2019-08-17T00:00:00\", \"2019-08-18T00:00:00\", \"2019-08-19T00:00:00\", \"2019-08-20T00:00:00\", \"2019-08-21T00:00:00\", \"2019-08-22T00:00:00\", \"2019-08-23T00:00:00\", \"2019-08-24T00:00:00\", \"2019-08-25T00:00:00\", \"2019-08-26T00:00:00\", \"2019-08-27T00:00:00\", \"2019-08-28T00:00:00\", \"2019-08-29T00:00:00\", \"2019-08-30T00:00:00\", \"2019-08-31T00:00:00\", \"2019-09-01T00:00:00\", \"2019-09-02T00:00:00\", \"2019-09-03T00:00:00\", \"2019-09-04T00:00:00\", \"2019-09-05T00:00:00\"], \"xaxis\": \"x2\", \"y\": [0.14296475314648002, 0.14886538401180127, 0.15027776905935156, 0.15106242741910172, 0.16763441197702522, 0.1513449044286118, 0.13577728257116853, 0.13963780170113935, 0.15212956278836196, 0.15727692162832305, 0.16076080474561377, 0.1770816986284172, 0.1632403251624243, 0.14352970716550015, 0.14503625121622046, 0.1565236496029629, 0.1548287875459025, 0.15442076519883244, 0.1657512319136248, 0.15696305828442297, 0.14349832083111014, 0.13480430620507833, 0.14839458899595118, 0.14459684253476038, 0.15106242741910172, 0.15771633030978313, 0.14400050218135024, 0.13496123787702835, 0.1350867832145884, 0.21352123285521485, 0.23674712030381972, 0.2568657606478139, 0.3009321741313832, 0.2873418913405103, 0.2441542952198613, 0.23960327673331033, 0.24892501804714226, 0.2204889990897963, 0.21402341420545495, 0.23793980101063997, 0.19688647562851136, 0.16879570634945545, 0.13693857694359876, 0.16254982580584415, 0.16747748030507517, 0.14177207243965978], \"yaxis\": \"y2\"}, {\"line\": {\"color\": \"brown\"}, \"name\": \"45_54\", \"opacity\": 0.8, \"showlegend\": false, \"type\": \"scatter\", \"x\": [\"2019-07-22T00:00:00\", \"2019-07-23T00:00:00\", \"2019-07-24T00:00:00\", \"2019-07-25T00:00:00\", \"2019-07-26T00:00:00\", \"2019-07-27T00:00:00\", \"2019-07-28T00:00:00\", \"2019-07-29T00:00:00\", \"2019-07-30T00:00:00\", \"2019-07-31T00:00:00\", \"2019-08-01T00:00:00\", \"2019-08-02T00:00:00\", \"2019-08-03T00:00:00\", \"2019-08-04T00:00:00\", \"2019-08-05T00:00:00\", \"2019-08-06T00:00:00\", \"2019-08-07T00:00:00\", \"2019-08-08T00:00:00\", \"2019-08-09T00:00:00\", \"2019-08-10T00:00:00\", \"2019-08-11T00:00:00\", \"2019-08-12T00:00:00\", \"2019-08-13T00:00:00\", \"2019-08-14T00:00:00\", \"2019-08-15T00:00:00\", \"2019-08-16T00:00:00\", \"2019-08-17T00:00:00\", \"2019-08-18T00:00:00\", \"2019-08-19T00:00:00\", \"2019-08-20T00:00:00\", \"2019-08-21T00:00:00\", \"2019-08-22T00:00:00\", \"2019-08-23T00:00:00\", \"2019-08-24T00:00:00\", \"2019-08-25T00:00:00\", \"2019-08-26T00:00:00\", \"2019-08-27T00:00:00\", \"2019-08-28T00:00:00\", \"2019-08-29T00:00:00\", \"2019-08-30T00:00:00\", \"2019-08-31T00:00:00\", \"2019-09-01T00:00:00\", \"2019-09-02T00:00:00\", \"2019-09-03T00:00:00\", \"2019-09-04T00:00:00\", \"2019-09-05T00:00:00\"], \"xaxis\": \"x2\", \"y\": [0.052132701421800945, 0.0590690813219924, 0.05502024418568155, 0.055961834217381747, 0.05928878566272245, 0.04924515865792034, 0.04798970528232008, 0.05257211010326104, 0.05834719563102225, 0.05684065158030193, 0.05982235334735256, 0.06415366749317347, 0.05825303662785223, 0.051724679074730856, 0.05307429145350114, 0.06220771476099306, 0.05567935720787169, 0.05731144659615203, 0.05944571733467248, 0.05200715608424092, 0.05087724804620068, 0.048931295314020275, 0.056338470230061825, 0.05448667650105144, 0.058378581965412256, 0.05815887762468221, 0.05228963309375098, 0.04500800351526945, 0.04830356862622014, 0.06898716298923449, 0.07469947584821568, 0.08210665076425724, 0.0918991870939393, 0.08945105301151877, 0.07893663099086658, 0.08056872037914692, 0.08493142085935783, 0.07786949562160635, 0.07466808951382568, 0.08075703838548695, 0.06685289225071403, 0.05583628887982172, 0.04817802328866012, 0.059163240325162424, 0.06007344402247261, 0.0552399485264116], \"yaxis\": \"y2\"}, {\"line\": {\"color\": \"pink\"}, \"name\": \"55_64\", \"opacity\": 0.8, \"showlegend\": false, \"type\": \"scatter\", \"x\": [\"2019-07-22T00:00:00\", \"2019-07-23T00:00:00\", \"2019-07-24T00:00:00\", \"2019-07-25T00:00:00\", \"2019-07-26T00:00:00\", \"2019-07-27T00:00:00\", \"2019-07-28T00:00:00\", \"2019-07-29T00:00:00\", \"2019-07-30T00:00:00\", \"2019-07-31T00:00:00\", \"2019-08-01T00:00:00\", \"2019-08-02T00:00:00\", \"2019-08-03T00:00:00\", \"2019-08-04T00:00:00\", \"2019-08-05T00:00:00\", \"2019-08-06T00:00:00\", \"2019-08-07T00:00:00\", \"2019-08-08T00:00:00\", \"2019-08-09T00:00:00\", \"2019-08-10T00:00:00\", \"2019-08-11T00:00:00\", \"2019-08-12T00:00:00\", \"2019-08-13T00:00:00\", \"2019-08-14T00:00:00\", \"2019-08-15T00:00:00\", \"2019-08-16T00:00:00\", \"2019-08-17T00:00:00\", \"2019-08-18T00:00:00\", \"2019-08-19T00:00:00\", \"2019-08-20T00:00:00\", \"2019-08-21T00:00:00\", \"2019-08-22T00:00:00\", \"2019-08-23T00:00:00\", \"2019-08-24T00:00:00\", \"2019-08-25T00:00:00\", \"2019-08-26T00:00:00\", \"2019-08-27T00:00:00\", \"2019-08-28T00:00:00\", \"2019-08-29T00:00:00\", \"2019-08-30T00:00:00\", \"2019-08-31T00:00:00\", \"2019-09-01T00:00:00\", \"2019-09-02T00:00:00\", \"2019-09-03T00:00:00\", \"2019-09-04T00:00:00\", \"2019-09-05T00:00:00\"], \"xaxis\": \"x2\", \"y\": [0.016885847901823545, 0.018643482627663917, 0.017388029252063654, 0.017827437933523746, 0.016069803207683375, 0.013307805781362793, 0.014626031825743072, 0.01610118954207338, 0.018298232949373845, 0.016352280217193434, 0.018015755939863785, 0.018737641630833936, 0.0161953485452434, 0.014437713819403033, 0.015787326198173315, 0.020306958350334265, 0.018549323624493897, 0.018298232949373845, 0.01880041429961395, 0.014782963497693105, 0.014908508835253131, 0.015818712532563322, 0.017639119927183707, 0.016132575876463388, 0.018455164621323877, 0.01870625529644393, 0.014061077806722954, 0.013809987131602901, 0.015253758513543204, 0.022723706098364774, 0.02200182040739462, 0.02294341043909482, 0.024293022817865103, 0.022441229088854712, 0.0199930950064342, 0.02460688616176517, 0.026866702237845642, 0.02350836445811494, 0.022315683751294686, 0.0247638178337152, 0.018455164621323877, 0.017168324911333604, 0.013182260443802767, 0.018643482627663917, 0.020589435359844324, 0.01814130127742381], \"yaxis\": \"y2\"}, {\"line\": {\"color\": \"yellow\"}, \"name\": \"65_plus\", \"opacity\": 0.8, \"showlegend\": false, \"type\": \"scatter\", \"x\": [\"2019-07-22T00:00:00\", \"2019-07-23T00:00:00\", \"2019-07-24T00:00:00\", \"2019-07-25T00:00:00\", \"2019-07-26T00:00:00\", \"2019-07-27T00:00:00\", \"2019-07-28T00:00:00\", \"2019-07-29T00:00:00\", \"2019-07-30T00:00:00\", \"2019-07-31T00:00:00\", \"2019-08-01T00:00:00\", \"2019-08-02T00:00:00\", \"2019-08-03T00:00:00\", \"2019-08-04T00:00:00\", \"2019-08-05T00:00:00\", \"2019-08-06T00:00:00\", \"2019-08-07T00:00:00\", \"2019-08-08T00:00:00\", \"2019-08-09T00:00:00\", \"2019-08-10T00:00:00\", \"2019-08-11T00:00:00\", \"2019-08-12T00:00:00\", \"2019-08-13T00:00:00\", \"2019-08-14T00:00:00\", \"2019-08-15T00:00:00\", \"2019-08-16T00:00:00\", \"2019-08-17T00:00:00\", \"2019-08-18T00:00:00\", \"2019-08-19T00:00:00\", \"2019-08-20T00:00:00\", \"2019-08-21T00:00:00\", \"2019-08-22T00:00:00\", \"2019-08-23T00:00:00\", \"2019-08-24T00:00:00\", \"2019-08-25T00:00:00\", \"2019-08-26T00:00:00\", \"2019-08-27T00:00:00\", \"2019-08-28T00:00:00\", \"2019-08-29T00:00:00\", \"2019-08-30T00:00:00\", \"2019-08-31T00:00:00\", \"2019-09-01T00:00:00\", \"2019-09-02T00:00:00\", \"2019-09-03T00:00:00\", \"2019-09-04T00:00:00\", \"2019-09-05T00:00:00\"], \"xaxis\": \"x2\", \"y\": [0.004456859483380936, 0.004205768808260883, 0.004990427168011048, 0.005304290511911114, 0.005178745174351088, 0.0033583377797307057, 0.0031072471046106522, 0.005178745174351088, 0.005304290511911114, 0.0048962681648410285, 0.005461222183861147, 0.004833495496061015, 0.0038919054643608174, 0.004080223470700857, 0.004645177489720976, 0.005712312858981199, 0.004080223470700857, 0.005869244530931232, 0.004519632152160949, 0.0037977464611907976, 0.0030758607702206456, 0.005241517843131101, 0.004959040833621042, 0.0046137911553309685, 0.0051159725055710745, 0.004268541477040896, 0.003201406107780672, 0.0032327924421706785, 0.003703587458020778, 0.006434198549951351, 0.00699915256897147, 0.006528357553121371, 0.006434198549951351, 0.0057750855277612125, 0.004927654499231035, 0.007156084240921502, 0.0072188569097015156, 0.007501333919211575, 0.007595492922381594, 0.006842220897021437, 0.004111609805090863, 0.00404883713631085, 0.0029503154326606194, 0.006622516556291391, 0.005680926524591193, 0.005837858196541226], \"yaxis\": \"y2\"}],\n",
       "                        {\"annotations\": [{\"font\": {\"size\": 16}, \"showarrow\": false, \"text\": \"Chick-fil-A\", \"x\": 0.225, \"xanchor\": \"center\", \"xref\": \"paper\", \"y\": 1.0, \"yanchor\": \"bottom\", \"yref\": \"paper\"}, {\"font\": {\"size\": 16}, \"showarrow\": false, \"text\": \"Popeyes\", \"x\": 0.775, \"xanchor\": \"center\", \"xref\": \"paper\", \"y\": 1.0, \"yanchor\": \"bottom\", \"yref\": \"paper\"}], \"showlegend\": true, \"template\": {\"data\": {\"bar\": [{\"error_x\": {\"color\": \"#2a3f5f\"}, \"error_y\": {\"color\": \"#2a3f5f\"}, \"marker\": {\"line\": {\"color\": \"#E5ECF6\", \"width\": 0.5}}, \"type\": \"bar\"}], \"barpolar\": [{\"marker\": {\"line\": {\"color\": \"#E5ECF6\", \"width\": 0.5}}, \"type\": \"barpolar\"}], \"carpet\": [{\"aaxis\": {\"endlinecolor\": \"#2a3f5f\", \"gridcolor\": \"white\", \"linecolor\": \"white\", \"minorgridcolor\": \"white\", \"startlinecolor\": \"#2a3f5f\"}, \"baxis\": {\"endlinecolor\": \"#2a3f5f\", \"gridcolor\": \"white\", \"linecolor\": \"white\", \"minorgridcolor\": \"white\", \"startlinecolor\": \"#2a3f5f\"}, \"type\": \"carpet\"}], \"choropleth\": [{\"colorbar\": {\"outlinewidth\": 0, \"ticks\": \"\"}, \"type\": \"choropleth\"}], \"contour\": [{\"colorbar\": {\"outlinewidth\": 0, \"ticks\": \"\"}, \"colorscale\": [[0.0, \"#0d0887\"], [0.1111111111111111, \"#46039f\"], [0.2222222222222222, \"#7201a8\"], [0.3333333333333333, \"#9c179e\"], [0.4444444444444444, \"#bd3786\"], [0.5555555555555556, \"#d8576b\"], [0.6666666666666666, \"#ed7953\"], [0.7777777777777778, \"#fb9f3a\"], [0.8888888888888888, \"#fdca26\"], [1.0, \"#f0f921\"]], \"type\": \"contour\"}], \"contourcarpet\": [{\"colorbar\": {\"outlinewidth\": 0, \"ticks\": \"\"}, \"type\": \"contourcarpet\"}], \"heatmap\": [{\"colorbar\": {\"outlinewidth\": 0, \"ticks\": \"\"}, \"colorscale\": [[0.0, \"#0d0887\"], [0.1111111111111111, \"#46039f\"], [0.2222222222222222, \"#7201a8\"], [0.3333333333333333, \"#9c179e\"], [0.4444444444444444, \"#bd3786\"], [0.5555555555555556, \"#d8576b\"], [0.6666666666666666, \"#ed7953\"], [0.7777777777777778, \"#fb9f3a\"], [0.8888888888888888, \"#fdca26\"], [1.0, \"#f0f921\"]], \"type\": \"heatmap\"}], \"heatmapgl\": [{\"colorbar\": {\"outlinewidth\": 0, \"ticks\": \"\"}, \"colorscale\": [[0.0, \"#0d0887\"], [0.1111111111111111, \"#46039f\"], [0.2222222222222222, \"#7201a8\"], [0.3333333333333333, \"#9c179e\"], [0.4444444444444444, \"#bd3786\"], [0.5555555555555556, \"#d8576b\"], [0.6666666666666666, \"#ed7953\"], [0.7777777777777778, \"#fb9f3a\"], [0.8888888888888888, \"#fdca26\"], [1.0, \"#f0f921\"]], \"type\": \"heatmapgl\"}], \"histogram\": [{\"marker\": {\"colorbar\": {\"outlinewidth\": 0, \"ticks\": \"\"}}, \"type\": \"histogram\"}], \"histogram2d\": [{\"colorbar\": {\"outlinewidth\": 0, \"ticks\": \"\"}, \"colorscale\": [[0.0, \"#0d0887\"], [0.1111111111111111, \"#46039f\"], [0.2222222222222222, \"#7201a8\"], [0.3333333333333333, \"#9c179e\"], [0.4444444444444444, \"#bd3786\"], [0.5555555555555556, \"#d8576b\"], [0.6666666666666666, \"#ed7953\"], [0.7777777777777778, \"#fb9f3a\"], [0.8888888888888888, \"#fdca26\"], [1.0, \"#f0f921\"]], \"type\": \"histogram2d\"}], \"histogram2dcontour\": [{\"colorbar\": {\"outlinewidth\": 0, \"ticks\": \"\"}, \"colorscale\": [[0.0, \"#0d0887\"], [0.1111111111111111, \"#46039f\"], [0.2222222222222222, \"#7201a8\"], [0.3333333333333333, \"#9c179e\"], [0.4444444444444444, \"#bd3786\"], [0.5555555555555556, \"#d8576b\"], [0.6666666666666666, \"#ed7953\"], [0.7777777777777778, \"#fb9f3a\"], [0.8888888888888888, \"#fdca26\"], [1.0, \"#f0f921\"]], \"type\": \"histogram2dcontour\"}], \"mesh3d\": [{\"colorbar\": {\"outlinewidth\": 0, \"ticks\": \"\"}, \"type\": \"mesh3d\"}], \"parcoords\": [{\"line\": {\"colorbar\": {\"outlinewidth\": 0, \"ticks\": \"\"}}, \"type\": \"parcoords\"}], \"pie\": [{\"automargin\": true, \"type\": \"pie\"}], \"scatter\": [{\"marker\": {\"colorbar\": {\"outlinewidth\": 0, \"ticks\": \"\"}}, \"type\": \"scatter\"}], \"scatter3d\": [{\"line\": {\"colorbar\": {\"outlinewidth\": 0, \"ticks\": \"\"}}, \"marker\": {\"colorbar\": {\"outlinewidth\": 0, \"ticks\": \"\"}}, \"type\": \"scatter3d\"}], \"scattercarpet\": [{\"marker\": {\"colorbar\": {\"outlinewidth\": 0, \"ticks\": \"\"}}, \"type\": \"scattercarpet\"}], \"scattergeo\": [{\"marker\": {\"colorbar\": {\"outlinewidth\": 0, \"ticks\": \"\"}}, \"type\": \"scattergeo\"}], \"scattergl\": [{\"marker\": {\"colorbar\": {\"outlinewidth\": 0, \"ticks\": \"\"}}, \"type\": \"scattergl\"}], \"scattermapbox\": [{\"marker\": {\"colorbar\": {\"outlinewidth\": 0, \"ticks\": \"\"}}, \"type\": \"scattermapbox\"}], \"scatterpolar\": [{\"marker\": {\"colorbar\": {\"outlinewidth\": 0, \"ticks\": \"\"}}, \"type\": \"scatterpolar\"}], \"scatterpolargl\": [{\"marker\": {\"colorbar\": {\"outlinewidth\": 0, \"ticks\": \"\"}}, \"type\": \"scatterpolargl\"}], \"scatterternary\": [{\"marker\": {\"colorbar\": {\"outlinewidth\": 0, \"ticks\": \"\"}}, \"type\": \"scatterternary\"}], \"surface\": [{\"colorbar\": {\"outlinewidth\": 0, \"ticks\": \"\"}, \"colorscale\": [[0.0, \"#0d0887\"], [0.1111111111111111, \"#46039f\"], [0.2222222222222222, \"#7201a8\"], [0.3333333333333333, \"#9c179e\"], [0.4444444444444444, \"#bd3786\"], [0.5555555555555556, \"#d8576b\"], [0.6666666666666666, \"#ed7953\"], [0.7777777777777778, \"#fb9f3a\"], [0.8888888888888888, \"#fdca26\"], [1.0, \"#f0f921\"]], \"type\": \"surface\"}], \"table\": [{\"cells\": {\"fill\": {\"color\": \"#EBF0F8\"}, \"line\": {\"color\": \"white\"}}, \"header\": {\"fill\": {\"color\": \"#C8D4E3\"}, \"line\": {\"color\": \"white\"}}, \"type\": \"table\"}]}, \"layout\": {\"annotationdefaults\": {\"arrowcolor\": \"#2a3f5f\", \"arrowhead\": 0, \"arrowwidth\": 1}, \"coloraxis\": {\"colorbar\": {\"outlinewidth\": 0, \"ticks\": \"\"}}, \"colorscale\": {\"diverging\": [[0, \"#8e0152\"], [0.1, \"#c51b7d\"], [0.2, \"#de77ae\"], [0.3, \"#f1b6da\"], [0.4, \"#fde0ef\"], [0.5, \"#f7f7f7\"], [0.6, \"#e6f5d0\"], [0.7, \"#b8e186\"], [0.8, \"#7fbc41\"], [0.9, \"#4d9221\"], [1, \"#276419\"]], \"sequential\": [[0.0, \"#0d0887\"], [0.1111111111111111, \"#46039f\"], [0.2222222222222222, \"#7201a8\"], [0.3333333333333333, \"#9c179e\"], [0.4444444444444444, \"#bd3786\"], [0.5555555555555556, \"#d8576b\"], [0.6666666666666666, \"#ed7953\"], [0.7777777777777778, \"#fb9f3a\"], [0.8888888888888888, \"#fdca26\"], [1.0, \"#f0f921\"]], \"sequentialminus\": [[0.0, \"#0d0887\"], [0.1111111111111111, \"#46039f\"], [0.2222222222222222, \"#7201a8\"], [0.3333333333333333, \"#9c179e\"], [0.4444444444444444, \"#bd3786\"], [0.5555555555555556, \"#d8576b\"], [0.6666666666666666, \"#ed7953\"], [0.7777777777777778, \"#fb9f3a\"], [0.8888888888888888, \"#fdca26\"], [1.0, \"#f0f921\"]]}, \"colorway\": [\"#636efa\", \"#EF553B\", \"#00cc96\", \"#ab63fa\", \"#FFA15A\", \"#19d3f3\", \"#FF6692\", \"#B6E880\", \"#FF97FF\", \"#FECB52\"], \"font\": {\"color\": \"#2a3f5f\"}, \"geo\": {\"bgcolor\": \"white\", \"lakecolor\": \"white\", \"landcolor\": \"#E5ECF6\", \"showlakes\": true, \"showland\": true, \"subunitcolor\": \"white\"}, \"hoverlabel\": {\"align\": \"left\"}, \"hovermode\": \"closest\", \"mapbox\": {\"style\": \"light\"}, \"paper_bgcolor\": \"white\", \"plot_bgcolor\": \"#E5ECF6\", \"polar\": {\"angularaxis\": {\"gridcolor\": \"white\", \"linecolor\": \"white\", \"ticks\": \"\"}, \"bgcolor\": \"#E5ECF6\", \"radialaxis\": {\"gridcolor\": \"white\", \"linecolor\": \"white\", \"ticks\": \"\"}}, \"scene\": {\"xaxis\": {\"backgroundcolor\": \"#E5ECF6\", \"gridcolor\": \"white\", \"gridwidth\": 2, \"linecolor\": \"white\", \"showbackground\": true, \"ticks\": \"\", \"zerolinecolor\": \"white\"}, \"yaxis\": {\"backgroundcolor\": \"#E5ECF6\", \"gridcolor\": \"white\", \"gridwidth\": 2, \"linecolor\": \"white\", \"showbackground\": true, \"ticks\": \"\", \"zerolinecolor\": \"white\"}, \"zaxis\": {\"backgroundcolor\": \"#E5ECF6\", \"gridcolor\": \"white\", \"gridwidth\": 2, \"linecolor\": \"white\", \"showbackground\": true, \"ticks\": \"\", \"zerolinecolor\": \"white\"}}, \"shapedefaults\": {\"line\": {\"color\": \"#2a3f5f\"}}, \"ternary\": {\"aaxis\": {\"gridcolor\": \"white\", \"linecolor\": \"white\", \"ticks\": \"\"}, \"baxis\": {\"gridcolor\": \"white\", \"linecolor\": \"white\", \"ticks\": \"\"}, \"bgcolor\": \"#E5ECF6\", \"caxis\": {\"gridcolor\": \"white\", \"linecolor\": \"white\", \"ticks\": \"\"}}, \"title\": {\"x\": 0.05}, \"xaxis\": {\"automargin\": true, \"gridcolor\": \"white\", \"linecolor\": \"white\", \"ticks\": \"\", \"title\": {\"standoff\": 15}, \"zerolinecolor\": \"white\", \"zerolinewidth\": 2}, \"yaxis\": {\"automargin\": true, \"gridcolor\": \"white\", \"linecolor\": \"white\", \"ticks\": \"\", \"title\": {\"standoff\": 15}, \"zerolinecolor\": \"white\", \"zerolinewidth\": 2}}}, \"title\": {\"text\": \"Foot Traffic at Popeyes vs Chick-fil-a by Age Groups before and after the Promotion \"}, \"xaxis\": {\"anchor\": \"y\", \"domain\": [0.0, 0.45], \"title\": {\"text\": \"Date\"}}, \"xaxis2\": {\"anchor\": \"y2\", \"domain\": [0.55, 1.0], \"title\": {\"text\": \"Date\"}}, \"yaxis\": {\"anchor\": \"x\", \"domain\": [0.0, 1.0], \"tickmode\": \"array\", \"tickvals\": [0, 0.2, 0.4, 0.6, 0.8], \"title\": {\"text\": \"Change in Visit\"}}, \"yaxis2\": {\"anchor\": \"x2\", \"domain\": [0.0, 1.0], \"tickmode\": \"array\", \"tickvals\": [0, 0.2, 0.4, 0.6, 0.8], \"title\": {\"text\": \"Change in Visit\"}}},\n",
       "                        {\"responsive\": true}\n",
       "                    ).then(function(){\n",
       "                            \n",
       "var gd = document.getElementById('be996b32-b3ea-4a64-8538-a72a13b6668e');\n",
       "var x = new MutationObserver(function (mutations, observer) {{\n",
       "        var display = window.getComputedStyle(gd).display;\n",
       "        if (!display || display === 'none') {{\n",
       "            console.log([gd, 'removed!']);\n",
       "            Plotly.purge(gd);\n",
       "            observer.disconnect();\n",
       "        }}\n",
       "}});\n",
       "\n",
       "// Listen for the removal of the full notebook cells\n",
       "var notebookContainer = gd.closest('#notebook-container');\n",
       "if (notebookContainer) {{\n",
       "    x.observe(notebookContainer, {childList: true});\n",
       "}}\n",
       "\n",
       "// Listen for the clearing of the current output cell\n",
       "var outputEl = gd.closest('.output');\n",
       "if (outputEl) {{\n",
       "    x.observe(outputEl, {childList: true});\n",
       "}}\n",
       "\n",
       "                        })\n",
       "                };\n",
       "                });\n",
       "            </script>\n",
       "        </div>"
      ]
     },
     "metadata": {},
     "output_type": "display_data"
    }
   ],
   "source": [
    "#Showing two graphs on the same row\n",
    "from plotly.subplots import make_subplots\n",
    "fig = make_subplots(rows=1, cols=2, subplot_titles = ('Chick-fil-A', 'Popeyes'))\n",
    "\n",
    "fig.add_trace(go.Scatter(x = cfa['Under_18']['dt'], y = cfa['Under_18']['visit_scaled'],\n",
    "                         name = 'Under 18', line_color = 'orange', opacity = 0.8),1,1)\n",
    "fig.add_trace(go.Scatter(x = cfa['18_24']['dt'], y = cfa['18_24']['visit_scaled'],\n",
    "                         name = '18_24', line_color = 'green', opacity = 0.8),1,1)\n",
    "fig.add_trace(go.Scatter(x = cfa['25_34']['dt'], y = cfa['25_34']['visit_scaled'],\n",
    "                         name = '25_34', line_color = 'blue', opacity = 0.8),1,1)\n",
    "fig.add_trace(go.Scatter(x = cfa['35_44']['dt'], y = cfa['35_44']['visit_scaled'],\n",
    "                         name = '35_44', line_color = 'red', opacity = 0.8),1,1)\n",
    "fig.add_trace(go.Scatter(x = cfa['45_54']['dt'], y = cfa['45_54']['visit_scaled'],\n",
    "                         name = '45_54', line_color = 'brown', opacity = 0.8),1,1)\n",
    "fig.add_trace(go.Scatter(x = cfa['55_64']['dt'], y = cfa['55_64']['visit_scaled'],\n",
    "                         name = '55_64', line_color = 'pink', opacity = 0.8),1,1)\n",
    "fig.add_trace(go.Scatter(x = cfa['65_plus']['dt'], y = cfa['65_plus']['visit_scaled'],\n",
    "                         name = '65_plus', line_color = 'yellow', opacity = 0.8),1,1)\n",
    "\n",
    "fig.add_trace(go.Scatter(x = pp['Under_18']['dt'], y = pp['Under_18']['visit_scaled'],\n",
    "                         name = 'Under 18', line_color = 'orange', opacity = 0.8, showlegend = False),1,2)\n",
    "fig.add_trace(go.Scatter(x = pp['18_24']['dt'], y = pp['18_24']['visit_scaled'],\n",
    "                         name = '18_24', line_color = 'green', opacity = 0.8, showlegend = False),1,2)\n",
    "fig.add_trace(go.Scatter(x = pp['25_34']['dt'], y = pp['25_34']['visit_scaled'],\n",
    "                         name = '25_34', line_color = 'blue', opacity = 0.8, showlegend = False),1,2)\n",
    "fig.add_trace(go.Scatter(x = pp['35_44']['dt'], y = pp['35_44']['visit_scaled'],\n",
    "                         name = '35_44', line_color = 'red', opacity = 0.8, showlegend = False),1,2)\n",
    "fig.add_trace(go.Scatter(x = pp['45_54']['dt'], y = pp['45_54']['visit_scaled'],\n",
    "                         name = '45_54', line_color = 'brown', opacity = 0.8, showlegend = False),1,2)\n",
    "fig.add_trace(go.Scatter(x = pp['55_64']['dt'], y = pp['55_64']['visit_scaled'],\n",
    "                         name = '55_64', line_color = 'pink', opacity = 0.8, showlegend = False),1,2)\n",
    "fig.add_trace(go.Scatter(x = pp['65_plus']['dt'], y = pp['65_plus']['visit_scaled'],\n",
    "                         name = '65_plus', line_color = 'yellow', opacity = 0.8, showlegend = False),1,2)\n",
    "\n",
    "fig.update_xaxes(title_text = 'Date')\n",
    "fig.update_yaxes(title_text='Change in Visit',  tickmode = 'array',\n",
    "        tickvals = [0, 0.2, 0.4, 0.6, 0.8])\n",
    "fig.update_layout(\n",
    "    title_text=\"Foot Traffic at Popeyes vs Chick-fil-a by Age Groups before and after the Promotion \",\n",
    "    showlegend = True)\n",
    "\n",
    "iplot(fig)"
   ]
  },
  {
   "cell_type": "code",
   "execution_count": 13,
   "metadata": {},
   "outputs": [
    {
     "data": {
      "text/html": [
       "<div>\n",
       "<style scoped>\n",
       "    .dataframe tbody tr th:only-of-type {\n",
       "        vertical-align: middle;\n",
       "    }\n",
       "\n",
       "    .dataframe tbody tr th {\n",
       "        vertical-align: top;\n",
       "    }\n",
       "\n",
       "    .dataframe thead th {\n",
       "        text-align: right;\n",
       "    }\n",
       "</style>\n",
       "<table border=\"1\" class=\"dataframe\">\n",
       "  <thead>\n",
       "    <tr style=\"text-align: right;\">\n",
       "      <th></th>\n",
       "      <th>dt</th>\n",
       "      <th>age</th>\n",
       "      <th>chainname</th>\n",
       "      <th>number_visit</th>\n",
       "      <th>visit_scaled</th>\n",
       "    </tr>\n",
       "  </thead>\n",
       "  <tbody>\n",
       "    <tr>\n",
       "      <th>296</th>\n",
       "      <td>2019-08-12</td>\n",
       "      <td>25_34</td>\n",
       "      <td>Chick-fil-A</td>\n",
       "      <td>17494</td>\n",
       "      <td>0.54766</td>\n",
       "    </tr>\n",
       "  </tbody>\n",
       "</table>\n",
       "</div>"
      ],
      "text/plain": [
       "            dt    age    chainname  number_visit  visit_scaled\n",
       "296 2019-08-12  25_34  Chick-fil-A         17494       0.54766"
      ]
     },
     "execution_count": 13,
     "metadata": {},
     "output_type": "execute_result"
    }
   ],
   "source": [
    "rl = dfv[(dfv['dt'] == '2019-08-12') & (dfv['age'] == '25_34') & (dfv['chainname'] == 'Chick-fil-A')]\n",
    "rl"
   ]
  },
  {
   "cell_type": "code",
   "execution_count": 14,
   "metadata": {},
   "outputs": [
    {
     "data": {
      "text/html": [
       "<div>\n",
       "<style scoped>\n",
       "    .dataframe tbody tr th:only-of-type {\n",
       "        vertical-align: middle;\n",
       "    }\n",
       "\n",
       "    .dataframe tbody tr th {\n",
       "        vertical-align: top;\n",
       "    }\n",
       "\n",
       "    .dataframe thead th {\n",
       "        text-align: right;\n",
       "    }\n",
       "</style>\n",
       "<table border=\"1\" class=\"dataframe\">\n",
       "  <thead>\n",
       "    <tr style=\"text-align: right;\">\n",
       "      <th></th>\n",
       "      <th>dt</th>\n",
       "      <th>age</th>\n",
       "      <th>chainname</th>\n",
       "      <th>number_visit</th>\n",
       "      <th>visit_scaled</th>\n",
       "    </tr>\n",
       "  </thead>\n",
       "  <tbody>\n",
       "    <tr>\n",
       "      <th>506</th>\n",
       "      <td>2019-08-27</td>\n",
       "      <td>25_34</td>\n",
       "      <td>Chick-fil-A</td>\n",
       "      <td>21358</td>\n",
       "      <td>0.668937</td>\n",
       "    </tr>\n",
       "  </tbody>\n",
       "</table>\n",
       "</div>"
      ],
      "text/plain": [
       "            dt    age    chainname  number_visit  visit_scaled\n",
       "506 2019-08-27  25_34  Chick-fil-A         21358      0.668937"
      ]
     },
     "execution_count": 14,
     "metadata": {},
     "output_type": "execute_result"
    }
   ],
   "source": [
    "sd = dfv[(dfv['dt'] == '2019-08-27')& (dfv['age'] == '25_34') & (dfv['chainname'] == 'Chick-fil-A')]\n",
    "sd"
   ]
  },
  {
   "cell_type": "code",
   "execution_count": 15,
   "metadata": {},
   "outputs": [],
   "source": [
    "#Create release date and sold out date values in order to add annotation on the graph\n",
    "release_date = dfv.at[297, 'visit_scaled']\n",
    "soldout_date = dfv.at[507, 'visit_scaled']"
   ]
  },
  {
   "cell_type": "code",
   "execution_count": 16,
   "metadata": {},
   "outputs": [
    {
     "data": {
      "application/vnd.plotly.v1+json": {
       "config": {
        "linkText": "Export to plot.ly",
        "plotlyServerURL": "https://plot.ly",
        "showLink": false
       },
       "data": [
        {
         "line": {
          "color": "orange"
         },
         "name": "Under 18",
         "opacity": 0.8,
         "type": "scatter",
         "x": [
          "2019-07-22T00:00:00",
          "2019-07-23T00:00:00",
          "2019-07-24T00:00:00",
          "2019-07-25T00:00:00",
          "2019-07-26T00:00:00",
          "2019-07-27T00:00:00",
          "2019-07-28T00:00:00",
          "2019-07-29T00:00:00",
          "2019-07-30T00:00:00",
          "2019-07-31T00:00:00",
          "2019-08-01T00:00:00",
          "2019-08-02T00:00:00",
          "2019-08-03T00:00:00",
          "2019-08-04T00:00:00",
          "2019-08-05T00:00:00",
          "2019-08-06T00:00:00",
          "2019-08-07T00:00:00",
          "2019-08-08T00:00:00",
          "2019-08-09T00:00:00",
          "2019-08-10T00:00:00",
          "2019-08-11T00:00:00",
          "2019-08-12T00:00:00",
          "2019-08-13T00:00:00",
          "2019-08-14T00:00:00",
          "2019-08-15T00:00:00",
          "2019-08-16T00:00:00",
          "2019-08-17T00:00:00",
          "2019-08-18T00:00:00",
          "2019-08-19T00:00:00",
          "2019-08-20T00:00:00",
          "2019-08-21T00:00:00",
          "2019-08-22T00:00:00",
          "2019-08-23T00:00:00",
          "2019-08-24T00:00:00",
          "2019-08-25T00:00:00",
          "2019-08-26T00:00:00",
          "2019-08-27T00:00:00",
          "2019-08-28T00:00:00",
          "2019-08-29T00:00:00",
          "2019-08-30T00:00:00",
          "2019-08-31T00:00:00",
          "2019-09-01T00:00:00",
          "2019-09-02T00:00:00",
          "2019-09-03T00:00:00",
          "2019-09-04T00:00:00",
          "2019-09-05T00:00:00"
         ],
         "y": [
          0,
          0.0005963403534101253,
          0.0006591130221901384,
          0.0008160446941401713,
          0.0002197043407300462,
          0.0008788173629201844,
          0.0012554533756002637,
          0.0005649540190201187,
          0.0011299080380402374,
          0.0005963403534101253,
          0.0007846583597501647,
          0.0008160446941401713,
          0.001161294372430244,
          0.0010985217036502308,
          0.0007846583597501647,
          0.000690499356580145,
          0.0005021813502401056,
          0.0005021813502401056,
          0.0010043627004802111,
          0.0014437713819403031,
          0.0010357490348702177,
          0.0004394086814600924,
          0.00040802234707008563,
          0.0005649540190201187,
          0.00037663601268007906,
          0.0006591130221901384,
          0.0015065440507203163,
          0.0007532720253601581,
          0.00018831800634003964,
          0.0014751577163303097,
          0.0019459527321804087,
          0.003326951445340699,
          0.0038919054643608174,
          0.005272904177521107,
          0.005367063180691127,
          0.0025109067512005274,
          0.0027933837607105865,
          0.0024481340824205142,
          0.002008725400960422,
          0.002605065754370547,
          0.0017890210602303758,
          0.0021970434073004612,
          0.0014437713819403031,
          0.00018831800634003964,
          0.0005963403534101253,
          0.0003452496782900725
         ]
        },
        {
         "line": {
          "color": "green"
         },
         "name": "18_24",
         "opacity": 0.8,
         "type": "scatter",
         "x": [
          "2019-07-22T00:00:00",
          "2019-07-23T00:00:00",
          "2019-07-24T00:00:00",
          "2019-07-25T00:00:00",
          "2019-07-26T00:00:00",
          "2019-07-27T00:00:00",
          "2019-07-28T00:00:00",
          "2019-07-29T00:00:00",
          "2019-07-30T00:00:00",
          "2019-07-31T00:00:00",
          "2019-08-01T00:00:00",
          "2019-08-02T00:00:00",
          "2019-08-03T00:00:00",
          "2019-08-04T00:00:00",
          "2019-08-05T00:00:00",
          "2019-08-06T00:00:00",
          "2019-08-07T00:00:00",
          "2019-08-08T00:00:00",
          "2019-08-09T00:00:00",
          "2019-08-10T00:00:00",
          "2019-08-11T00:00:00",
          "2019-08-12T00:00:00",
          "2019-08-13T00:00:00",
          "2019-08-14T00:00:00",
          "2019-08-15T00:00:00",
          "2019-08-16T00:00:00",
          "2019-08-17T00:00:00",
          "2019-08-18T00:00:00",
          "2019-08-19T00:00:00",
          "2019-08-20T00:00:00",
          "2019-08-21T00:00:00",
          "2019-08-22T00:00:00",
          "2019-08-23T00:00:00",
          "2019-08-24T00:00:00",
          "2019-08-25T00:00:00",
          "2019-08-26T00:00:00",
          "2019-08-27T00:00:00",
          "2019-08-28T00:00:00",
          "2019-08-29T00:00:00",
          "2019-08-30T00:00:00",
          "2019-08-31T00:00:00",
          "2019-09-01T00:00:00",
          "2019-09-02T00:00:00",
          "2019-09-03T00:00:00",
          "2019-09-04T00:00:00",
          "2019-09-05T00:00:00"
         ],
         "y": [
          0.02724333825052572,
          0.02837324628856596,
          0.02623897555004551,
          0.02780829226954584,
          0.029597313329776217,
          0.02975424500172625,
          0.032045447412196726,
          0.027180565581745707,
          0.028718495966856033,
          0.02947176799221619,
          0.029817017670506263,
          0.0323906970904868,
          0.03132356172122658,
          0.0300053356768463,
          0.02966008599855623,
          0.028122155613445908,
          0.029911176673676283,
          0.02947176799221619,
          0.03025642635196635,
          0.03179435673707667,
          0.032265151752926775,
          0.028216314616615928,
          0.03104108471171652,
          0.027588587928815793,
          0.03028781268635636,
          0.02818492828222592,
          0.030413358023916388,
          0.03179435673707667,
          0.028969586641976085,
          0.052352405762530994,
          0.06653902890681397,
          0.07821474529989642,
          0.08452339851228775,
          0.08725400960421832,
          0.07834029063745644,
          0.066664574244374,
          0.06371425881171337,
          0.04987288534572047,
          0.04403502714917924,
          0.04783277361037004,
          0.04626345689086971,
          0.04117887071968864,
          0.036282602554847616,
          0.03355199146291704,
          0.03276733310316688,
          0.027776905935155832
         ]
        },
        {
         "line": {
          "color": "blue"
         },
         "name": "25_34",
         "opacity": 0.8,
         "type": "scatter",
         "x": [
          "2019-07-22T00:00:00",
          "2019-07-23T00:00:00",
          "2019-07-24T00:00:00",
          "2019-07-25T00:00:00",
          "2019-07-26T00:00:00",
          "2019-07-27T00:00:00",
          "2019-07-28T00:00:00",
          "2019-07-29T00:00:00",
          "2019-07-30T00:00:00",
          "2019-07-31T00:00:00",
          "2019-08-01T00:00:00",
          "2019-08-02T00:00:00",
          "2019-08-03T00:00:00",
          "2019-08-04T00:00:00",
          "2019-08-05T00:00:00",
          "2019-08-06T00:00:00",
          "2019-08-07T00:00:00",
          "2019-08-08T00:00:00",
          "2019-08-09T00:00:00",
          "2019-08-10T00:00:00",
          "2019-08-11T00:00:00",
          "2019-08-12T00:00:00",
          "2019-08-13T00:00:00",
          "2019-08-14T00:00:00",
          "2019-08-15T00:00:00",
          "2019-08-16T00:00:00",
          "2019-08-17T00:00:00",
          "2019-08-18T00:00:00",
          "2019-08-19T00:00:00",
          "2019-08-20T00:00:00",
          "2019-08-21T00:00:00",
          "2019-08-22T00:00:00",
          "2019-08-23T00:00:00",
          "2019-08-24T00:00:00",
          "2019-08-25T00:00:00",
          "2019-08-26T00:00:00",
          "2019-08-27T00:00:00",
          "2019-08-28T00:00:00",
          "2019-08-29T00:00:00",
          "2019-08-30T00:00:00",
          "2019-08-31T00:00:00",
          "2019-09-01T00:00:00",
          "2019-09-02T00:00:00",
          "2019-09-03T00:00:00",
          "2019-09-04T00:00:00",
          "2019-09-05T00:00:00"
         ],
         "y": [
          0.15162738143812185,
          0.15197263111641193,
          0.1561470135902828,
          0.15768494397539312,
          0.1728131571513763,
          0.16349141583754434,
          0.16367973384388437,
          0.14823765732400113,
          0.15925426069489346,
          0.161827940114874,
          0.1695489783748156,
          0.17780358431938734,
          0.17890210602303758,
          0.16980006904993566,
          0.1561470135902828,
          0.16063525940805373,
          0.16317755249364427,
          0.16367973384388437,
          0.17491604155550675,
          0.17554376824330686,
          0.1660964815919149,
          0.147452998964251,
          0.15394997018298234,
          0.1517529267756819,
          0.16270675747779417,
          0.16870154734628542,
          0.16860738834311542,
          0.16314616615925426,
          0.1614513041021939,
          0.26424154922946547,
          0.30174821882552333,
          0.33843884372744104,
          0.37807978406201936,
          0.3740623332600985,
          0.3444650199303223,
          0.30441605724867393,
          0.2964439283136122,
          0.24839145036251217,
          0.23216471548287876,
          0.25849785003609427,
          0.23580553027211953,
          0.20008788173629202,
          0.1732839521672264,
          0.1789962650262076,
          0.17736417563792725,
          0.1456639779040206
         ]
        },
        {
         "line": {
          "color": "red"
         },
         "name": "35_44",
         "opacity": 0.8,
         "type": "scatter",
         "x": [
          "2019-07-22T00:00:00",
          "2019-07-23T00:00:00",
          "2019-07-24T00:00:00",
          "2019-07-25T00:00:00",
          "2019-07-26T00:00:00",
          "2019-07-27T00:00:00",
          "2019-07-28T00:00:00",
          "2019-07-29T00:00:00",
          "2019-07-30T00:00:00",
          "2019-07-31T00:00:00",
          "2019-08-01T00:00:00",
          "2019-08-02T00:00:00",
          "2019-08-03T00:00:00",
          "2019-08-04T00:00:00",
          "2019-08-05T00:00:00",
          "2019-08-06T00:00:00",
          "2019-08-07T00:00:00",
          "2019-08-08T00:00:00",
          "2019-08-09T00:00:00",
          "2019-08-10T00:00:00",
          "2019-08-11T00:00:00",
          "2019-08-12T00:00:00",
          "2019-08-13T00:00:00",
          "2019-08-14T00:00:00",
          "2019-08-15T00:00:00",
          "2019-08-16T00:00:00",
          "2019-08-17T00:00:00",
          "2019-08-18T00:00:00",
          "2019-08-19T00:00:00",
          "2019-08-20T00:00:00",
          "2019-08-21T00:00:00",
          "2019-08-22T00:00:00",
          "2019-08-23T00:00:00",
          "2019-08-24T00:00:00",
          "2019-08-25T00:00:00",
          "2019-08-26T00:00:00",
          "2019-08-27T00:00:00",
          "2019-08-28T00:00:00",
          "2019-08-29T00:00:00",
          "2019-08-30T00:00:00",
          "2019-08-31T00:00:00",
          "2019-09-01T00:00:00",
          "2019-09-02T00:00:00",
          "2019-09-03T00:00:00",
          "2019-09-04T00:00:00",
          "2019-09-05T00:00:00"
         ],
         "y": [
          0.14296475314648002,
          0.14886538401180127,
          0.15027776905935156,
          0.15106242741910172,
          0.16763441197702522,
          0.1513449044286118,
          0.13577728257116853,
          0.13963780170113935,
          0.15212956278836196,
          0.15727692162832305,
          0.16076080474561377,
          0.1770816986284172,
          0.1632403251624243,
          0.14352970716550015,
          0.14503625121622046,
          0.1565236496029629,
          0.1548287875459025,
          0.15442076519883244,
          0.1657512319136248,
          0.15696305828442297,
          0.14349832083111014,
          0.13480430620507833,
          0.14839458899595118,
          0.14459684253476038,
          0.15106242741910172,
          0.15771633030978313,
          0.14400050218135024,
          0.13496123787702835,
          0.1350867832145884,
          0.21352123285521485,
          0.23674712030381972,
          0.2568657606478139,
          0.3009321741313832,
          0.2873418913405103,
          0.2441542952198613,
          0.23960327673331033,
          0.24892501804714226,
          0.2204889990897963,
          0.21402341420545495,
          0.23793980101063997,
          0.19688647562851136,
          0.16879570634945545,
          0.13693857694359876,
          0.16254982580584415,
          0.16747748030507517,
          0.14177207243965978
         ]
        },
        {
         "line": {
          "color": "brown"
         },
         "name": "45_54",
         "opacity": 0.8,
         "type": "scatter",
         "x": [
          "2019-07-22T00:00:00",
          "2019-07-23T00:00:00",
          "2019-07-24T00:00:00",
          "2019-07-25T00:00:00",
          "2019-07-26T00:00:00",
          "2019-07-27T00:00:00",
          "2019-07-28T00:00:00",
          "2019-07-29T00:00:00",
          "2019-07-30T00:00:00",
          "2019-07-31T00:00:00",
          "2019-08-01T00:00:00",
          "2019-08-02T00:00:00",
          "2019-08-03T00:00:00",
          "2019-08-04T00:00:00",
          "2019-08-05T00:00:00",
          "2019-08-06T00:00:00",
          "2019-08-07T00:00:00",
          "2019-08-08T00:00:00",
          "2019-08-09T00:00:00",
          "2019-08-10T00:00:00",
          "2019-08-11T00:00:00",
          "2019-08-12T00:00:00",
          "2019-08-13T00:00:00",
          "2019-08-14T00:00:00",
          "2019-08-15T00:00:00",
          "2019-08-16T00:00:00",
          "2019-08-17T00:00:00",
          "2019-08-18T00:00:00",
          "2019-08-19T00:00:00",
          "2019-08-20T00:00:00",
          "2019-08-21T00:00:00",
          "2019-08-22T00:00:00",
          "2019-08-23T00:00:00",
          "2019-08-24T00:00:00",
          "2019-08-25T00:00:00",
          "2019-08-26T00:00:00",
          "2019-08-27T00:00:00",
          "2019-08-28T00:00:00",
          "2019-08-29T00:00:00",
          "2019-08-30T00:00:00",
          "2019-08-31T00:00:00",
          "2019-09-01T00:00:00",
          "2019-09-02T00:00:00",
          "2019-09-03T00:00:00",
          "2019-09-04T00:00:00",
          "2019-09-05T00:00:00"
         ],
         "y": [
          0.052132701421800945,
          0.0590690813219924,
          0.05502024418568155,
          0.055961834217381747,
          0.05928878566272245,
          0.04924515865792034,
          0.04798970528232008,
          0.05257211010326104,
          0.05834719563102225,
          0.05684065158030193,
          0.05982235334735256,
          0.06415366749317347,
          0.05825303662785223,
          0.051724679074730856,
          0.05307429145350114,
          0.06220771476099306,
          0.05567935720787169,
          0.05731144659615203,
          0.05944571733467248,
          0.05200715608424092,
          0.05087724804620068,
          0.048931295314020275,
          0.056338470230061825,
          0.05448667650105144,
          0.058378581965412256,
          0.05815887762468221,
          0.05228963309375098,
          0.04500800351526945,
          0.04830356862622014,
          0.06898716298923449,
          0.07469947584821568,
          0.08210665076425724,
          0.0918991870939393,
          0.08945105301151877,
          0.07893663099086658,
          0.08056872037914692,
          0.08493142085935783,
          0.07786949562160635,
          0.07466808951382568,
          0.08075703838548695,
          0.06685289225071403,
          0.05583628887982172,
          0.04817802328866012,
          0.059163240325162424,
          0.06007344402247261,
          0.0552399485264116
         ]
        },
        {
         "line": {
          "color": "pink"
         },
         "name": "55_64",
         "opacity": 0.8,
         "type": "scatter",
         "x": [
          "2019-07-22T00:00:00",
          "2019-07-23T00:00:00",
          "2019-07-24T00:00:00",
          "2019-07-25T00:00:00",
          "2019-07-26T00:00:00",
          "2019-07-27T00:00:00",
          "2019-07-28T00:00:00",
          "2019-07-29T00:00:00",
          "2019-07-30T00:00:00",
          "2019-07-31T00:00:00",
          "2019-08-01T00:00:00",
          "2019-08-02T00:00:00",
          "2019-08-03T00:00:00",
          "2019-08-04T00:00:00",
          "2019-08-05T00:00:00",
          "2019-08-06T00:00:00",
          "2019-08-07T00:00:00",
          "2019-08-08T00:00:00",
          "2019-08-09T00:00:00",
          "2019-08-10T00:00:00",
          "2019-08-11T00:00:00",
          "2019-08-12T00:00:00",
          "2019-08-13T00:00:00",
          "2019-08-14T00:00:00",
          "2019-08-15T00:00:00",
          "2019-08-16T00:00:00",
          "2019-08-17T00:00:00",
          "2019-08-18T00:00:00",
          "2019-08-19T00:00:00",
          "2019-08-20T00:00:00",
          "2019-08-21T00:00:00",
          "2019-08-22T00:00:00",
          "2019-08-23T00:00:00",
          "2019-08-24T00:00:00",
          "2019-08-25T00:00:00",
          "2019-08-26T00:00:00",
          "2019-08-27T00:00:00",
          "2019-08-28T00:00:00",
          "2019-08-29T00:00:00",
          "2019-08-30T00:00:00",
          "2019-08-31T00:00:00",
          "2019-09-01T00:00:00",
          "2019-09-02T00:00:00",
          "2019-09-03T00:00:00",
          "2019-09-04T00:00:00",
          "2019-09-05T00:00:00"
         ],
         "y": [
          0.016885847901823545,
          0.018643482627663917,
          0.017388029252063654,
          0.017827437933523746,
          0.016069803207683375,
          0.013307805781362793,
          0.014626031825743072,
          0.01610118954207338,
          0.018298232949373845,
          0.016352280217193434,
          0.018015755939863785,
          0.018737641630833936,
          0.0161953485452434,
          0.014437713819403033,
          0.015787326198173315,
          0.020306958350334265,
          0.018549323624493897,
          0.018298232949373845,
          0.01880041429961395,
          0.014782963497693105,
          0.014908508835253131,
          0.015818712532563322,
          0.017639119927183707,
          0.016132575876463388,
          0.018455164621323877,
          0.01870625529644393,
          0.014061077806722954,
          0.013809987131602901,
          0.015253758513543204,
          0.022723706098364774,
          0.02200182040739462,
          0.02294341043909482,
          0.024293022817865103,
          0.022441229088854712,
          0.0199930950064342,
          0.02460688616176517,
          0.026866702237845642,
          0.02350836445811494,
          0.022315683751294686,
          0.0247638178337152,
          0.018455164621323877,
          0.017168324911333604,
          0.013182260443802767,
          0.018643482627663917,
          0.020589435359844324,
          0.01814130127742381
         ]
        },
        {
         "line": {
          "color": "yellow"
         },
         "name": "65_plus",
         "opacity": 0.8,
         "type": "scatter",
         "x": [
          "2019-07-22T00:00:00",
          "2019-07-23T00:00:00",
          "2019-07-24T00:00:00",
          "2019-07-25T00:00:00",
          "2019-07-26T00:00:00",
          "2019-07-27T00:00:00",
          "2019-07-28T00:00:00",
          "2019-07-29T00:00:00",
          "2019-07-30T00:00:00",
          "2019-07-31T00:00:00",
          "2019-08-01T00:00:00",
          "2019-08-02T00:00:00",
          "2019-08-03T00:00:00",
          "2019-08-04T00:00:00",
          "2019-08-05T00:00:00",
          "2019-08-06T00:00:00",
          "2019-08-07T00:00:00",
          "2019-08-08T00:00:00",
          "2019-08-09T00:00:00",
          "2019-08-10T00:00:00",
          "2019-08-11T00:00:00",
          "2019-08-12T00:00:00",
          "2019-08-13T00:00:00",
          "2019-08-14T00:00:00",
          "2019-08-15T00:00:00",
          "2019-08-16T00:00:00",
          "2019-08-17T00:00:00",
          "2019-08-18T00:00:00",
          "2019-08-19T00:00:00",
          "2019-08-20T00:00:00",
          "2019-08-21T00:00:00",
          "2019-08-22T00:00:00",
          "2019-08-23T00:00:00",
          "2019-08-24T00:00:00",
          "2019-08-25T00:00:00",
          "2019-08-26T00:00:00",
          "2019-08-27T00:00:00",
          "2019-08-28T00:00:00",
          "2019-08-29T00:00:00",
          "2019-08-30T00:00:00",
          "2019-08-31T00:00:00",
          "2019-09-01T00:00:00",
          "2019-09-02T00:00:00",
          "2019-09-03T00:00:00",
          "2019-09-04T00:00:00",
          "2019-09-05T00:00:00"
         ],
         "y": [
          0.004456859483380936,
          0.004205768808260883,
          0.004990427168011048,
          0.005304290511911114,
          0.005178745174351088,
          0.0033583377797307057,
          0.0031072471046106522,
          0.005178745174351088,
          0.005304290511911114,
          0.0048962681648410285,
          0.005461222183861147,
          0.004833495496061015,
          0.0038919054643608174,
          0.004080223470700857,
          0.004645177489720976,
          0.005712312858981199,
          0.004080223470700857,
          0.005869244530931232,
          0.004519632152160949,
          0.0037977464611907976,
          0.0030758607702206456,
          0.005241517843131101,
          0.004959040833621042,
          0.0046137911553309685,
          0.0051159725055710745,
          0.004268541477040896,
          0.003201406107780672,
          0.0032327924421706785,
          0.003703587458020778,
          0.006434198549951351,
          0.00699915256897147,
          0.006528357553121371,
          0.006434198549951351,
          0.0057750855277612125,
          0.004927654499231035,
          0.007156084240921502,
          0.0072188569097015156,
          0.007501333919211575,
          0.007595492922381594,
          0.006842220897021437,
          0.004111609805090863,
          0.00404883713631085,
          0.0029503154326606194,
          0.006622516556291391,
          0.005680926524591193,
          0.005837858196541226
         ]
        }
       ],
       "layout": {
        "annotations": [
         {
          "arrowhead": 7,
          "ax": 0,
          "ay": -40,
          "showarrow": true,
          "text": "Release Day",
          "x": "2019-08-12",
          "xref": "x",
          "y": 0.147452998964251,
          "yref": "y"
         },
         {
          "arrowhead": 7,
          "ax": 0,
          "ay": -60,
          "showarrow": true,
          "text": "Sold Out Day",
          "x": "2019-08-27",
          "xref": "x",
          "y": 0.2964439283136122,
          "yref": "y"
         }
        ],
        "showlegend": true,
        "template": {
         "data": {
          "bar": [
           {
            "error_x": {
             "color": "#2a3f5f"
            },
            "error_y": {
             "color": "#2a3f5f"
            },
            "marker": {
             "line": {
              "color": "#E5ECF6",
              "width": 0.5
             }
            },
            "type": "bar"
           }
          ],
          "barpolar": [
           {
            "marker": {
             "line": {
              "color": "#E5ECF6",
              "width": 0.5
             }
            },
            "type": "barpolar"
           }
          ],
          "carpet": [
           {
            "aaxis": {
             "endlinecolor": "#2a3f5f",
             "gridcolor": "white",
             "linecolor": "white",
             "minorgridcolor": "white",
             "startlinecolor": "#2a3f5f"
            },
            "baxis": {
             "endlinecolor": "#2a3f5f",
             "gridcolor": "white",
             "linecolor": "white",
             "minorgridcolor": "white",
             "startlinecolor": "#2a3f5f"
            },
            "type": "carpet"
           }
          ],
          "choropleth": [
           {
            "colorbar": {
             "outlinewidth": 0,
             "ticks": ""
            },
            "type": "choropleth"
           }
          ],
          "contour": [
           {
            "colorbar": {
             "outlinewidth": 0,
             "ticks": ""
            },
            "colorscale": [
             [
              0,
              "#0d0887"
             ],
             [
              0.1111111111111111,
              "#46039f"
             ],
             [
              0.2222222222222222,
              "#7201a8"
             ],
             [
              0.3333333333333333,
              "#9c179e"
             ],
             [
              0.4444444444444444,
              "#bd3786"
             ],
             [
              0.5555555555555556,
              "#d8576b"
             ],
             [
              0.6666666666666666,
              "#ed7953"
             ],
             [
              0.7777777777777778,
              "#fb9f3a"
             ],
             [
              0.8888888888888888,
              "#fdca26"
             ],
             [
              1,
              "#f0f921"
             ]
            ],
            "type": "contour"
           }
          ],
          "contourcarpet": [
           {
            "colorbar": {
             "outlinewidth": 0,
             "ticks": ""
            },
            "type": "contourcarpet"
           }
          ],
          "heatmap": [
           {
            "colorbar": {
             "outlinewidth": 0,
             "ticks": ""
            },
            "colorscale": [
             [
              0,
              "#0d0887"
             ],
             [
              0.1111111111111111,
              "#46039f"
             ],
             [
              0.2222222222222222,
              "#7201a8"
             ],
             [
              0.3333333333333333,
              "#9c179e"
             ],
             [
              0.4444444444444444,
              "#bd3786"
             ],
             [
              0.5555555555555556,
              "#d8576b"
             ],
             [
              0.6666666666666666,
              "#ed7953"
             ],
             [
              0.7777777777777778,
              "#fb9f3a"
             ],
             [
              0.8888888888888888,
              "#fdca26"
             ],
             [
              1,
              "#f0f921"
             ]
            ],
            "type": "heatmap"
           }
          ],
          "heatmapgl": [
           {
            "colorbar": {
             "outlinewidth": 0,
             "ticks": ""
            },
            "colorscale": [
             [
              0,
              "#0d0887"
             ],
             [
              0.1111111111111111,
              "#46039f"
             ],
             [
              0.2222222222222222,
              "#7201a8"
             ],
             [
              0.3333333333333333,
              "#9c179e"
             ],
             [
              0.4444444444444444,
              "#bd3786"
             ],
             [
              0.5555555555555556,
              "#d8576b"
             ],
             [
              0.6666666666666666,
              "#ed7953"
             ],
             [
              0.7777777777777778,
              "#fb9f3a"
             ],
             [
              0.8888888888888888,
              "#fdca26"
             ],
             [
              1,
              "#f0f921"
             ]
            ],
            "type": "heatmapgl"
           }
          ],
          "histogram": [
           {
            "marker": {
             "colorbar": {
              "outlinewidth": 0,
              "ticks": ""
             }
            },
            "type": "histogram"
           }
          ],
          "histogram2d": [
           {
            "colorbar": {
             "outlinewidth": 0,
             "ticks": ""
            },
            "colorscale": [
             [
              0,
              "#0d0887"
             ],
             [
              0.1111111111111111,
              "#46039f"
             ],
             [
              0.2222222222222222,
              "#7201a8"
             ],
             [
              0.3333333333333333,
              "#9c179e"
             ],
             [
              0.4444444444444444,
              "#bd3786"
             ],
             [
              0.5555555555555556,
              "#d8576b"
             ],
             [
              0.6666666666666666,
              "#ed7953"
             ],
             [
              0.7777777777777778,
              "#fb9f3a"
             ],
             [
              0.8888888888888888,
              "#fdca26"
             ],
             [
              1,
              "#f0f921"
             ]
            ],
            "type": "histogram2d"
           }
          ],
          "histogram2dcontour": [
           {
            "colorbar": {
             "outlinewidth": 0,
             "ticks": ""
            },
            "colorscale": [
             [
              0,
              "#0d0887"
             ],
             [
              0.1111111111111111,
              "#46039f"
             ],
             [
              0.2222222222222222,
              "#7201a8"
             ],
             [
              0.3333333333333333,
              "#9c179e"
             ],
             [
              0.4444444444444444,
              "#bd3786"
             ],
             [
              0.5555555555555556,
              "#d8576b"
             ],
             [
              0.6666666666666666,
              "#ed7953"
             ],
             [
              0.7777777777777778,
              "#fb9f3a"
             ],
             [
              0.8888888888888888,
              "#fdca26"
             ],
             [
              1,
              "#f0f921"
             ]
            ],
            "type": "histogram2dcontour"
           }
          ],
          "mesh3d": [
           {
            "colorbar": {
             "outlinewidth": 0,
             "ticks": ""
            },
            "type": "mesh3d"
           }
          ],
          "parcoords": [
           {
            "line": {
             "colorbar": {
              "outlinewidth": 0,
              "ticks": ""
             }
            },
            "type": "parcoords"
           }
          ],
          "pie": [
           {
            "automargin": true,
            "type": "pie"
           }
          ],
          "scatter": [
           {
            "marker": {
             "colorbar": {
              "outlinewidth": 0,
              "ticks": ""
             }
            },
            "type": "scatter"
           }
          ],
          "scatter3d": [
           {
            "line": {
             "colorbar": {
              "outlinewidth": 0,
              "ticks": ""
             }
            },
            "marker": {
             "colorbar": {
              "outlinewidth": 0,
              "ticks": ""
             }
            },
            "type": "scatter3d"
           }
          ],
          "scattercarpet": [
           {
            "marker": {
             "colorbar": {
              "outlinewidth": 0,
              "ticks": ""
             }
            },
            "type": "scattercarpet"
           }
          ],
          "scattergeo": [
           {
            "marker": {
             "colorbar": {
              "outlinewidth": 0,
              "ticks": ""
             }
            },
            "type": "scattergeo"
           }
          ],
          "scattergl": [
           {
            "marker": {
             "colorbar": {
              "outlinewidth": 0,
              "ticks": ""
             }
            },
            "type": "scattergl"
           }
          ],
          "scattermapbox": [
           {
            "marker": {
             "colorbar": {
              "outlinewidth": 0,
              "ticks": ""
             }
            },
            "type": "scattermapbox"
           }
          ],
          "scatterpolar": [
           {
            "marker": {
             "colorbar": {
              "outlinewidth": 0,
              "ticks": ""
             }
            },
            "type": "scatterpolar"
           }
          ],
          "scatterpolargl": [
           {
            "marker": {
             "colorbar": {
              "outlinewidth": 0,
              "ticks": ""
             }
            },
            "type": "scatterpolargl"
           }
          ],
          "scatterternary": [
           {
            "marker": {
             "colorbar": {
              "outlinewidth": 0,
              "ticks": ""
             }
            },
            "type": "scatterternary"
           }
          ],
          "surface": [
           {
            "colorbar": {
             "outlinewidth": 0,
             "ticks": ""
            },
            "colorscale": [
             [
              0,
              "#0d0887"
             ],
             [
              0.1111111111111111,
              "#46039f"
             ],
             [
              0.2222222222222222,
              "#7201a8"
             ],
             [
              0.3333333333333333,
              "#9c179e"
             ],
             [
              0.4444444444444444,
              "#bd3786"
             ],
             [
              0.5555555555555556,
              "#d8576b"
             ],
             [
              0.6666666666666666,
              "#ed7953"
             ],
             [
              0.7777777777777778,
              "#fb9f3a"
             ],
             [
              0.8888888888888888,
              "#fdca26"
             ],
             [
              1,
              "#f0f921"
             ]
            ],
            "type": "surface"
           }
          ],
          "table": [
           {
            "cells": {
             "fill": {
              "color": "#EBF0F8"
             },
             "line": {
              "color": "white"
             }
            },
            "header": {
             "fill": {
              "color": "#C8D4E3"
             },
             "line": {
              "color": "white"
             }
            },
            "type": "table"
           }
          ]
         },
         "layout": {
          "annotationdefaults": {
           "arrowcolor": "#2a3f5f",
           "arrowhead": 0,
           "arrowwidth": 1
          },
          "coloraxis": {
           "colorbar": {
            "outlinewidth": 0,
            "ticks": ""
           }
          },
          "colorscale": {
           "diverging": [
            [
             0,
             "#8e0152"
            ],
            [
             0.1,
             "#c51b7d"
            ],
            [
             0.2,
             "#de77ae"
            ],
            [
             0.3,
             "#f1b6da"
            ],
            [
             0.4,
             "#fde0ef"
            ],
            [
             0.5,
             "#f7f7f7"
            ],
            [
             0.6,
             "#e6f5d0"
            ],
            [
             0.7,
             "#b8e186"
            ],
            [
             0.8,
             "#7fbc41"
            ],
            [
             0.9,
             "#4d9221"
            ],
            [
             1,
             "#276419"
            ]
           ],
           "sequential": [
            [
             0,
             "#0d0887"
            ],
            [
             0.1111111111111111,
             "#46039f"
            ],
            [
             0.2222222222222222,
             "#7201a8"
            ],
            [
             0.3333333333333333,
             "#9c179e"
            ],
            [
             0.4444444444444444,
             "#bd3786"
            ],
            [
             0.5555555555555556,
             "#d8576b"
            ],
            [
             0.6666666666666666,
             "#ed7953"
            ],
            [
             0.7777777777777778,
             "#fb9f3a"
            ],
            [
             0.8888888888888888,
             "#fdca26"
            ],
            [
             1,
             "#f0f921"
            ]
           ],
           "sequentialminus": [
            [
             0,
             "#0d0887"
            ],
            [
             0.1111111111111111,
             "#46039f"
            ],
            [
             0.2222222222222222,
             "#7201a8"
            ],
            [
             0.3333333333333333,
             "#9c179e"
            ],
            [
             0.4444444444444444,
             "#bd3786"
            ],
            [
             0.5555555555555556,
             "#d8576b"
            ],
            [
             0.6666666666666666,
             "#ed7953"
            ],
            [
             0.7777777777777778,
             "#fb9f3a"
            ],
            [
             0.8888888888888888,
             "#fdca26"
            ],
            [
             1,
             "#f0f921"
            ]
           ]
          },
          "colorway": [
           "#636efa",
           "#EF553B",
           "#00cc96",
           "#ab63fa",
           "#FFA15A",
           "#19d3f3",
           "#FF6692",
           "#B6E880",
           "#FF97FF",
           "#FECB52"
          ],
          "font": {
           "color": "#2a3f5f"
          },
          "geo": {
           "bgcolor": "white",
           "lakecolor": "white",
           "landcolor": "#E5ECF6",
           "showlakes": true,
           "showland": true,
           "subunitcolor": "white"
          },
          "hoverlabel": {
           "align": "left"
          },
          "hovermode": "closest",
          "mapbox": {
           "style": "light"
          },
          "paper_bgcolor": "white",
          "plot_bgcolor": "#E5ECF6",
          "polar": {
           "angularaxis": {
            "gridcolor": "white",
            "linecolor": "white",
            "ticks": ""
           },
           "bgcolor": "#E5ECF6",
           "radialaxis": {
            "gridcolor": "white",
            "linecolor": "white",
            "ticks": ""
           }
          },
          "scene": {
           "xaxis": {
            "backgroundcolor": "#E5ECF6",
            "gridcolor": "white",
            "gridwidth": 2,
            "linecolor": "white",
            "showbackground": true,
            "ticks": "",
            "zerolinecolor": "white"
           },
           "yaxis": {
            "backgroundcolor": "#E5ECF6",
            "gridcolor": "white",
            "gridwidth": 2,
            "linecolor": "white",
            "showbackground": true,
            "ticks": "",
            "zerolinecolor": "white"
           },
           "zaxis": {
            "backgroundcolor": "#E5ECF6",
            "gridcolor": "white",
            "gridwidth": 2,
            "linecolor": "white",
            "showbackground": true,
            "ticks": "",
            "zerolinecolor": "white"
           }
          },
          "shapedefaults": {
           "line": {
            "color": "#2a3f5f"
           }
          },
          "ternary": {
           "aaxis": {
            "gridcolor": "white",
            "linecolor": "white",
            "ticks": ""
           },
           "baxis": {
            "gridcolor": "white",
            "linecolor": "white",
            "ticks": ""
           },
           "bgcolor": "#E5ECF6",
           "caxis": {
            "gridcolor": "white",
            "linecolor": "white",
            "ticks": ""
           }
          },
          "title": {
           "x": 0.05
          },
          "xaxis": {
           "automargin": true,
           "gridcolor": "white",
           "linecolor": "white",
           "ticks": "",
           "title": {
            "standoff": 15
           },
           "zerolinecolor": "white",
           "zerolinewidth": 2
          },
          "yaxis": {
           "automargin": true,
           "gridcolor": "white",
           "linecolor": "white",
           "ticks": "",
           "title": {
            "standoff": 15
           },
           "zerolinecolor": "white",
           "zerolinewidth": 2
          }
         }
        },
        "title": {
         "text": "Foot Traffic at Popeyes by Different Age Groups"
        },
        "xaxis": {
         "title": {
          "text": "Date"
         }
        },
        "yaxis": {
         "title": {
          "text": "Change in Visit"
         }
        }
       }
      },
      "text/html": [
       "<div>\n",
       "        \n",
       "        \n",
       "            <div id=\"40288c5e-aa73-4a19-b3be-44098d876413\" class=\"plotly-graph-div\" style=\"height:525px; width:100%;\"></div>\n",
       "            <script type=\"text/javascript\">\n",
       "                require([\"plotly\"], function(Plotly) {\n",
       "                    window.PLOTLYENV=window.PLOTLYENV || {};\n",
       "                    \n",
       "                if (document.getElementById(\"40288c5e-aa73-4a19-b3be-44098d876413\")) {\n",
       "                    Plotly.newPlot(\n",
       "                        '40288c5e-aa73-4a19-b3be-44098d876413',\n",
       "                        [{\"line\": {\"color\": \"orange\"}, \"name\": \"Under 18\", \"opacity\": 0.8, \"type\": \"scatter\", \"x\": [\"2019-07-22T00:00:00\", \"2019-07-23T00:00:00\", \"2019-07-24T00:00:00\", \"2019-07-25T00:00:00\", \"2019-07-26T00:00:00\", \"2019-07-27T00:00:00\", \"2019-07-28T00:00:00\", \"2019-07-29T00:00:00\", \"2019-07-30T00:00:00\", \"2019-07-31T00:00:00\", \"2019-08-01T00:00:00\", \"2019-08-02T00:00:00\", \"2019-08-03T00:00:00\", \"2019-08-04T00:00:00\", \"2019-08-05T00:00:00\", \"2019-08-06T00:00:00\", \"2019-08-07T00:00:00\", \"2019-08-08T00:00:00\", \"2019-08-09T00:00:00\", \"2019-08-10T00:00:00\", \"2019-08-11T00:00:00\", \"2019-08-12T00:00:00\", \"2019-08-13T00:00:00\", \"2019-08-14T00:00:00\", \"2019-08-15T00:00:00\", \"2019-08-16T00:00:00\", \"2019-08-17T00:00:00\", \"2019-08-18T00:00:00\", \"2019-08-19T00:00:00\", \"2019-08-20T00:00:00\", \"2019-08-21T00:00:00\", \"2019-08-22T00:00:00\", \"2019-08-23T00:00:00\", \"2019-08-24T00:00:00\", \"2019-08-25T00:00:00\", \"2019-08-26T00:00:00\", \"2019-08-27T00:00:00\", \"2019-08-28T00:00:00\", \"2019-08-29T00:00:00\", \"2019-08-30T00:00:00\", \"2019-08-31T00:00:00\", \"2019-09-01T00:00:00\", \"2019-09-02T00:00:00\", \"2019-09-03T00:00:00\", \"2019-09-04T00:00:00\", \"2019-09-05T00:00:00\"], \"y\": [0.0, 0.0005963403534101253, 0.0006591130221901384, 0.0008160446941401713, 0.0002197043407300462, 0.0008788173629201844, 0.0012554533756002637, 0.0005649540190201187, 0.0011299080380402374, 0.0005963403534101253, 0.0007846583597501647, 0.0008160446941401713, 0.001161294372430244, 0.0010985217036502308, 0.0007846583597501647, 0.000690499356580145, 0.0005021813502401056, 0.0005021813502401056, 0.0010043627004802111, 0.0014437713819403031, 0.0010357490348702177, 0.0004394086814600924, 0.00040802234707008563, 0.0005649540190201187, 0.00037663601268007906, 0.0006591130221901384, 0.0015065440507203163, 0.0007532720253601581, 0.00018831800634003964, 0.0014751577163303097, 0.0019459527321804087, 0.003326951445340699, 0.0038919054643608174, 0.005272904177521107, 0.005367063180691127, 0.0025109067512005274, 0.0027933837607105865, 0.0024481340824205142, 0.002008725400960422, 0.002605065754370547, 0.0017890210602303758, 0.0021970434073004612, 0.0014437713819403031, 0.00018831800634003964, 0.0005963403534101253, 0.0003452496782900725]}, {\"line\": {\"color\": \"green\"}, \"name\": \"18_24\", \"opacity\": 0.8, \"type\": \"scatter\", \"x\": [\"2019-07-22T00:00:00\", \"2019-07-23T00:00:00\", \"2019-07-24T00:00:00\", \"2019-07-25T00:00:00\", \"2019-07-26T00:00:00\", \"2019-07-27T00:00:00\", \"2019-07-28T00:00:00\", \"2019-07-29T00:00:00\", \"2019-07-30T00:00:00\", \"2019-07-31T00:00:00\", \"2019-08-01T00:00:00\", \"2019-08-02T00:00:00\", \"2019-08-03T00:00:00\", \"2019-08-04T00:00:00\", \"2019-08-05T00:00:00\", \"2019-08-06T00:00:00\", \"2019-08-07T00:00:00\", \"2019-08-08T00:00:00\", \"2019-08-09T00:00:00\", \"2019-08-10T00:00:00\", \"2019-08-11T00:00:00\", \"2019-08-12T00:00:00\", \"2019-08-13T00:00:00\", \"2019-08-14T00:00:00\", \"2019-08-15T00:00:00\", \"2019-08-16T00:00:00\", \"2019-08-17T00:00:00\", \"2019-08-18T00:00:00\", \"2019-08-19T00:00:00\", \"2019-08-20T00:00:00\", \"2019-08-21T00:00:00\", \"2019-08-22T00:00:00\", \"2019-08-23T00:00:00\", \"2019-08-24T00:00:00\", \"2019-08-25T00:00:00\", \"2019-08-26T00:00:00\", \"2019-08-27T00:00:00\", \"2019-08-28T00:00:00\", \"2019-08-29T00:00:00\", \"2019-08-30T00:00:00\", \"2019-08-31T00:00:00\", \"2019-09-01T00:00:00\", \"2019-09-02T00:00:00\", \"2019-09-03T00:00:00\", \"2019-09-04T00:00:00\", \"2019-09-05T00:00:00\"], \"y\": [0.02724333825052572, 0.02837324628856596, 0.02623897555004551, 0.02780829226954584, 0.029597313329776217, 0.02975424500172625, 0.032045447412196726, 0.027180565581745707, 0.028718495966856033, 0.02947176799221619, 0.029817017670506263, 0.0323906970904868, 0.03132356172122658, 0.0300053356768463, 0.02966008599855623, 0.028122155613445908, 0.029911176673676283, 0.02947176799221619, 0.03025642635196635, 0.03179435673707667, 0.032265151752926775, 0.028216314616615928, 0.03104108471171652, 0.027588587928815793, 0.03028781268635636, 0.02818492828222592, 0.030413358023916388, 0.03179435673707667, 0.028969586641976085, 0.052352405762530994, 0.06653902890681397, 0.07821474529989642, 0.08452339851228775, 0.08725400960421832, 0.07834029063745644, 0.066664574244374, 0.06371425881171337, 0.04987288534572047, 0.04403502714917924, 0.04783277361037004, 0.04626345689086971, 0.04117887071968864, 0.036282602554847616, 0.03355199146291704, 0.03276733310316688, 0.027776905935155832]}, {\"line\": {\"color\": \"blue\"}, \"name\": \"25_34\", \"opacity\": 0.8, \"type\": \"scatter\", \"x\": [\"2019-07-22T00:00:00\", \"2019-07-23T00:00:00\", \"2019-07-24T00:00:00\", \"2019-07-25T00:00:00\", \"2019-07-26T00:00:00\", \"2019-07-27T00:00:00\", \"2019-07-28T00:00:00\", \"2019-07-29T00:00:00\", \"2019-07-30T00:00:00\", \"2019-07-31T00:00:00\", \"2019-08-01T00:00:00\", \"2019-08-02T00:00:00\", \"2019-08-03T00:00:00\", \"2019-08-04T00:00:00\", \"2019-08-05T00:00:00\", \"2019-08-06T00:00:00\", \"2019-08-07T00:00:00\", \"2019-08-08T00:00:00\", \"2019-08-09T00:00:00\", \"2019-08-10T00:00:00\", \"2019-08-11T00:00:00\", \"2019-08-12T00:00:00\", \"2019-08-13T00:00:00\", \"2019-08-14T00:00:00\", \"2019-08-15T00:00:00\", \"2019-08-16T00:00:00\", \"2019-08-17T00:00:00\", \"2019-08-18T00:00:00\", \"2019-08-19T00:00:00\", \"2019-08-20T00:00:00\", \"2019-08-21T00:00:00\", \"2019-08-22T00:00:00\", \"2019-08-23T00:00:00\", \"2019-08-24T00:00:00\", \"2019-08-25T00:00:00\", \"2019-08-26T00:00:00\", \"2019-08-27T00:00:00\", \"2019-08-28T00:00:00\", \"2019-08-29T00:00:00\", \"2019-08-30T00:00:00\", \"2019-08-31T00:00:00\", \"2019-09-01T00:00:00\", \"2019-09-02T00:00:00\", \"2019-09-03T00:00:00\", \"2019-09-04T00:00:00\", \"2019-09-05T00:00:00\"], \"y\": [0.15162738143812185, 0.15197263111641193, 0.1561470135902828, 0.15768494397539312, 0.1728131571513763, 0.16349141583754434, 0.16367973384388437, 0.14823765732400113, 0.15925426069489346, 0.161827940114874, 0.1695489783748156, 0.17780358431938734, 0.17890210602303758, 0.16980006904993566, 0.1561470135902828, 0.16063525940805373, 0.16317755249364427, 0.16367973384388437, 0.17491604155550675, 0.17554376824330686, 0.1660964815919149, 0.147452998964251, 0.15394997018298234, 0.1517529267756819, 0.16270675747779417, 0.16870154734628542, 0.16860738834311542, 0.16314616615925426, 0.1614513041021939, 0.26424154922946547, 0.30174821882552333, 0.33843884372744104, 0.37807978406201936, 0.3740623332600985, 0.3444650199303223, 0.30441605724867393, 0.2964439283136122, 0.24839145036251217, 0.23216471548287876, 0.25849785003609427, 0.23580553027211953, 0.20008788173629202, 0.1732839521672264, 0.1789962650262076, 0.17736417563792725, 0.1456639779040206]}, {\"line\": {\"color\": \"red\"}, \"name\": \"35_44\", \"opacity\": 0.8, \"type\": \"scatter\", \"x\": [\"2019-07-22T00:00:00\", \"2019-07-23T00:00:00\", \"2019-07-24T00:00:00\", \"2019-07-25T00:00:00\", \"2019-07-26T00:00:00\", \"2019-07-27T00:00:00\", \"2019-07-28T00:00:00\", \"2019-07-29T00:00:00\", \"2019-07-30T00:00:00\", \"2019-07-31T00:00:00\", \"2019-08-01T00:00:00\", \"2019-08-02T00:00:00\", \"2019-08-03T00:00:00\", \"2019-08-04T00:00:00\", \"2019-08-05T00:00:00\", \"2019-08-06T00:00:00\", \"2019-08-07T00:00:00\", \"2019-08-08T00:00:00\", \"2019-08-09T00:00:00\", \"2019-08-10T00:00:00\", \"2019-08-11T00:00:00\", \"2019-08-12T00:00:00\", \"2019-08-13T00:00:00\", \"2019-08-14T00:00:00\", \"2019-08-15T00:00:00\", \"2019-08-16T00:00:00\", \"2019-08-17T00:00:00\", \"2019-08-18T00:00:00\", \"2019-08-19T00:00:00\", \"2019-08-20T00:00:00\", \"2019-08-21T00:00:00\", \"2019-08-22T00:00:00\", \"2019-08-23T00:00:00\", \"2019-08-24T00:00:00\", \"2019-08-25T00:00:00\", \"2019-08-26T00:00:00\", \"2019-08-27T00:00:00\", \"2019-08-28T00:00:00\", \"2019-08-29T00:00:00\", \"2019-08-30T00:00:00\", \"2019-08-31T00:00:00\", \"2019-09-01T00:00:00\", \"2019-09-02T00:00:00\", \"2019-09-03T00:00:00\", \"2019-09-04T00:00:00\", \"2019-09-05T00:00:00\"], \"y\": [0.14296475314648002, 0.14886538401180127, 0.15027776905935156, 0.15106242741910172, 0.16763441197702522, 0.1513449044286118, 0.13577728257116853, 0.13963780170113935, 0.15212956278836196, 0.15727692162832305, 0.16076080474561377, 0.1770816986284172, 0.1632403251624243, 0.14352970716550015, 0.14503625121622046, 0.1565236496029629, 0.1548287875459025, 0.15442076519883244, 0.1657512319136248, 0.15696305828442297, 0.14349832083111014, 0.13480430620507833, 0.14839458899595118, 0.14459684253476038, 0.15106242741910172, 0.15771633030978313, 0.14400050218135024, 0.13496123787702835, 0.1350867832145884, 0.21352123285521485, 0.23674712030381972, 0.2568657606478139, 0.3009321741313832, 0.2873418913405103, 0.2441542952198613, 0.23960327673331033, 0.24892501804714226, 0.2204889990897963, 0.21402341420545495, 0.23793980101063997, 0.19688647562851136, 0.16879570634945545, 0.13693857694359876, 0.16254982580584415, 0.16747748030507517, 0.14177207243965978]}, {\"line\": {\"color\": \"brown\"}, \"name\": \"45_54\", \"opacity\": 0.8, \"type\": \"scatter\", \"x\": [\"2019-07-22T00:00:00\", \"2019-07-23T00:00:00\", \"2019-07-24T00:00:00\", \"2019-07-25T00:00:00\", \"2019-07-26T00:00:00\", \"2019-07-27T00:00:00\", \"2019-07-28T00:00:00\", \"2019-07-29T00:00:00\", \"2019-07-30T00:00:00\", \"2019-07-31T00:00:00\", \"2019-08-01T00:00:00\", \"2019-08-02T00:00:00\", \"2019-08-03T00:00:00\", \"2019-08-04T00:00:00\", \"2019-08-05T00:00:00\", \"2019-08-06T00:00:00\", \"2019-08-07T00:00:00\", \"2019-08-08T00:00:00\", \"2019-08-09T00:00:00\", \"2019-08-10T00:00:00\", \"2019-08-11T00:00:00\", \"2019-08-12T00:00:00\", \"2019-08-13T00:00:00\", \"2019-08-14T00:00:00\", \"2019-08-15T00:00:00\", \"2019-08-16T00:00:00\", \"2019-08-17T00:00:00\", \"2019-08-18T00:00:00\", \"2019-08-19T00:00:00\", \"2019-08-20T00:00:00\", \"2019-08-21T00:00:00\", \"2019-08-22T00:00:00\", \"2019-08-23T00:00:00\", \"2019-08-24T00:00:00\", \"2019-08-25T00:00:00\", \"2019-08-26T00:00:00\", \"2019-08-27T00:00:00\", \"2019-08-28T00:00:00\", \"2019-08-29T00:00:00\", \"2019-08-30T00:00:00\", \"2019-08-31T00:00:00\", \"2019-09-01T00:00:00\", \"2019-09-02T00:00:00\", \"2019-09-03T00:00:00\", \"2019-09-04T00:00:00\", \"2019-09-05T00:00:00\"], \"y\": [0.052132701421800945, 0.0590690813219924, 0.05502024418568155, 0.055961834217381747, 0.05928878566272245, 0.04924515865792034, 0.04798970528232008, 0.05257211010326104, 0.05834719563102225, 0.05684065158030193, 0.05982235334735256, 0.06415366749317347, 0.05825303662785223, 0.051724679074730856, 0.05307429145350114, 0.06220771476099306, 0.05567935720787169, 0.05731144659615203, 0.05944571733467248, 0.05200715608424092, 0.05087724804620068, 0.048931295314020275, 0.056338470230061825, 0.05448667650105144, 0.058378581965412256, 0.05815887762468221, 0.05228963309375098, 0.04500800351526945, 0.04830356862622014, 0.06898716298923449, 0.07469947584821568, 0.08210665076425724, 0.0918991870939393, 0.08945105301151877, 0.07893663099086658, 0.08056872037914692, 0.08493142085935783, 0.07786949562160635, 0.07466808951382568, 0.08075703838548695, 0.06685289225071403, 0.05583628887982172, 0.04817802328866012, 0.059163240325162424, 0.06007344402247261, 0.0552399485264116]}, {\"line\": {\"color\": \"pink\"}, \"name\": \"55_64\", \"opacity\": 0.8, \"type\": \"scatter\", \"x\": [\"2019-07-22T00:00:00\", \"2019-07-23T00:00:00\", \"2019-07-24T00:00:00\", \"2019-07-25T00:00:00\", \"2019-07-26T00:00:00\", \"2019-07-27T00:00:00\", \"2019-07-28T00:00:00\", \"2019-07-29T00:00:00\", \"2019-07-30T00:00:00\", \"2019-07-31T00:00:00\", \"2019-08-01T00:00:00\", \"2019-08-02T00:00:00\", \"2019-08-03T00:00:00\", \"2019-08-04T00:00:00\", \"2019-08-05T00:00:00\", \"2019-08-06T00:00:00\", \"2019-08-07T00:00:00\", \"2019-08-08T00:00:00\", \"2019-08-09T00:00:00\", \"2019-08-10T00:00:00\", \"2019-08-11T00:00:00\", \"2019-08-12T00:00:00\", \"2019-08-13T00:00:00\", \"2019-08-14T00:00:00\", \"2019-08-15T00:00:00\", \"2019-08-16T00:00:00\", \"2019-08-17T00:00:00\", \"2019-08-18T00:00:00\", \"2019-08-19T00:00:00\", \"2019-08-20T00:00:00\", \"2019-08-21T00:00:00\", \"2019-08-22T00:00:00\", \"2019-08-23T00:00:00\", \"2019-08-24T00:00:00\", \"2019-08-25T00:00:00\", \"2019-08-26T00:00:00\", \"2019-08-27T00:00:00\", \"2019-08-28T00:00:00\", \"2019-08-29T00:00:00\", \"2019-08-30T00:00:00\", \"2019-08-31T00:00:00\", \"2019-09-01T00:00:00\", \"2019-09-02T00:00:00\", \"2019-09-03T00:00:00\", \"2019-09-04T00:00:00\", \"2019-09-05T00:00:00\"], \"y\": [0.016885847901823545, 0.018643482627663917, 0.017388029252063654, 0.017827437933523746, 0.016069803207683375, 0.013307805781362793, 0.014626031825743072, 0.01610118954207338, 0.018298232949373845, 0.016352280217193434, 0.018015755939863785, 0.018737641630833936, 0.0161953485452434, 0.014437713819403033, 0.015787326198173315, 0.020306958350334265, 0.018549323624493897, 0.018298232949373845, 0.01880041429961395, 0.014782963497693105, 0.014908508835253131, 0.015818712532563322, 0.017639119927183707, 0.016132575876463388, 0.018455164621323877, 0.01870625529644393, 0.014061077806722954, 0.013809987131602901, 0.015253758513543204, 0.022723706098364774, 0.02200182040739462, 0.02294341043909482, 0.024293022817865103, 0.022441229088854712, 0.0199930950064342, 0.02460688616176517, 0.026866702237845642, 0.02350836445811494, 0.022315683751294686, 0.0247638178337152, 0.018455164621323877, 0.017168324911333604, 0.013182260443802767, 0.018643482627663917, 0.020589435359844324, 0.01814130127742381]}, {\"line\": {\"color\": \"yellow\"}, \"name\": \"65_plus\", \"opacity\": 0.8, \"type\": \"scatter\", \"x\": [\"2019-07-22T00:00:00\", \"2019-07-23T00:00:00\", \"2019-07-24T00:00:00\", \"2019-07-25T00:00:00\", \"2019-07-26T00:00:00\", \"2019-07-27T00:00:00\", \"2019-07-28T00:00:00\", \"2019-07-29T00:00:00\", \"2019-07-30T00:00:00\", \"2019-07-31T00:00:00\", \"2019-08-01T00:00:00\", \"2019-08-02T00:00:00\", \"2019-08-03T00:00:00\", \"2019-08-04T00:00:00\", \"2019-08-05T00:00:00\", \"2019-08-06T00:00:00\", \"2019-08-07T00:00:00\", \"2019-08-08T00:00:00\", \"2019-08-09T00:00:00\", \"2019-08-10T00:00:00\", \"2019-08-11T00:00:00\", \"2019-08-12T00:00:00\", \"2019-08-13T00:00:00\", \"2019-08-14T00:00:00\", \"2019-08-15T00:00:00\", \"2019-08-16T00:00:00\", \"2019-08-17T00:00:00\", \"2019-08-18T00:00:00\", \"2019-08-19T00:00:00\", \"2019-08-20T00:00:00\", \"2019-08-21T00:00:00\", \"2019-08-22T00:00:00\", \"2019-08-23T00:00:00\", \"2019-08-24T00:00:00\", \"2019-08-25T00:00:00\", \"2019-08-26T00:00:00\", \"2019-08-27T00:00:00\", \"2019-08-28T00:00:00\", \"2019-08-29T00:00:00\", \"2019-08-30T00:00:00\", \"2019-08-31T00:00:00\", \"2019-09-01T00:00:00\", \"2019-09-02T00:00:00\", \"2019-09-03T00:00:00\", \"2019-09-04T00:00:00\", \"2019-09-05T00:00:00\"], \"y\": [0.004456859483380936, 0.004205768808260883, 0.004990427168011048, 0.005304290511911114, 0.005178745174351088, 0.0033583377797307057, 0.0031072471046106522, 0.005178745174351088, 0.005304290511911114, 0.0048962681648410285, 0.005461222183861147, 0.004833495496061015, 0.0038919054643608174, 0.004080223470700857, 0.004645177489720976, 0.005712312858981199, 0.004080223470700857, 0.005869244530931232, 0.004519632152160949, 0.0037977464611907976, 0.0030758607702206456, 0.005241517843131101, 0.004959040833621042, 0.0046137911553309685, 0.0051159725055710745, 0.004268541477040896, 0.003201406107780672, 0.0032327924421706785, 0.003703587458020778, 0.006434198549951351, 0.00699915256897147, 0.006528357553121371, 0.006434198549951351, 0.0057750855277612125, 0.004927654499231035, 0.007156084240921502, 0.0072188569097015156, 0.007501333919211575, 0.007595492922381594, 0.006842220897021437, 0.004111609805090863, 0.00404883713631085, 0.0029503154326606194, 0.006622516556291391, 0.005680926524591193, 0.005837858196541226]}],\n",
       "                        {\"annotations\": [{\"arrowhead\": 7, \"ax\": 0, \"ay\": -40, \"showarrow\": true, \"text\": \"Release Day\", \"x\": \"2019-08-12\", \"xref\": \"x\", \"y\": 0.147452998964251, \"yref\": \"y\"}, {\"arrowhead\": 7, \"ax\": 0, \"ay\": -60, \"showarrow\": true, \"text\": \"Sold Out Day\", \"x\": \"2019-08-27\", \"xref\": \"x\", \"y\": 0.2964439283136122, \"yref\": \"y\"}], \"showlegend\": true, \"template\": {\"data\": {\"bar\": [{\"error_x\": {\"color\": \"#2a3f5f\"}, \"error_y\": {\"color\": \"#2a3f5f\"}, \"marker\": {\"line\": {\"color\": \"#E5ECF6\", \"width\": 0.5}}, \"type\": \"bar\"}], \"barpolar\": [{\"marker\": {\"line\": {\"color\": \"#E5ECF6\", \"width\": 0.5}}, \"type\": \"barpolar\"}], \"carpet\": [{\"aaxis\": {\"endlinecolor\": \"#2a3f5f\", \"gridcolor\": \"white\", \"linecolor\": \"white\", \"minorgridcolor\": \"white\", \"startlinecolor\": \"#2a3f5f\"}, \"baxis\": {\"endlinecolor\": \"#2a3f5f\", \"gridcolor\": \"white\", \"linecolor\": \"white\", \"minorgridcolor\": \"white\", \"startlinecolor\": \"#2a3f5f\"}, \"type\": \"carpet\"}], \"choropleth\": [{\"colorbar\": {\"outlinewidth\": 0, \"ticks\": \"\"}, \"type\": \"choropleth\"}], \"contour\": [{\"colorbar\": {\"outlinewidth\": 0, \"ticks\": \"\"}, \"colorscale\": [[0.0, \"#0d0887\"], [0.1111111111111111, \"#46039f\"], [0.2222222222222222, \"#7201a8\"], [0.3333333333333333, \"#9c179e\"], [0.4444444444444444, \"#bd3786\"], [0.5555555555555556, \"#d8576b\"], [0.6666666666666666, \"#ed7953\"], [0.7777777777777778, \"#fb9f3a\"], [0.8888888888888888, \"#fdca26\"], [1.0, \"#f0f921\"]], \"type\": \"contour\"}], \"contourcarpet\": [{\"colorbar\": {\"outlinewidth\": 0, \"ticks\": \"\"}, \"type\": \"contourcarpet\"}], \"heatmap\": [{\"colorbar\": {\"outlinewidth\": 0, \"ticks\": \"\"}, \"colorscale\": [[0.0, \"#0d0887\"], [0.1111111111111111, \"#46039f\"], [0.2222222222222222, \"#7201a8\"], [0.3333333333333333, \"#9c179e\"], [0.4444444444444444, \"#bd3786\"], [0.5555555555555556, \"#d8576b\"], [0.6666666666666666, \"#ed7953\"], [0.7777777777777778, \"#fb9f3a\"], [0.8888888888888888, \"#fdca26\"], [1.0, \"#f0f921\"]], \"type\": \"heatmap\"}], \"heatmapgl\": [{\"colorbar\": {\"outlinewidth\": 0, \"ticks\": \"\"}, \"colorscale\": [[0.0, \"#0d0887\"], [0.1111111111111111, \"#46039f\"], [0.2222222222222222, \"#7201a8\"], [0.3333333333333333, \"#9c179e\"], [0.4444444444444444, \"#bd3786\"], [0.5555555555555556, \"#d8576b\"], [0.6666666666666666, \"#ed7953\"], [0.7777777777777778, \"#fb9f3a\"], [0.8888888888888888, \"#fdca26\"], [1.0, \"#f0f921\"]], \"type\": \"heatmapgl\"}], \"histogram\": [{\"marker\": {\"colorbar\": {\"outlinewidth\": 0, \"ticks\": \"\"}}, \"type\": \"histogram\"}], \"histogram2d\": [{\"colorbar\": {\"outlinewidth\": 0, \"ticks\": \"\"}, \"colorscale\": [[0.0, \"#0d0887\"], [0.1111111111111111, \"#46039f\"], [0.2222222222222222, \"#7201a8\"], [0.3333333333333333, \"#9c179e\"], [0.4444444444444444, \"#bd3786\"], [0.5555555555555556, \"#d8576b\"], [0.6666666666666666, \"#ed7953\"], [0.7777777777777778, \"#fb9f3a\"], [0.8888888888888888, \"#fdca26\"], [1.0, \"#f0f921\"]], \"type\": \"histogram2d\"}], \"histogram2dcontour\": [{\"colorbar\": {\"outlinewidth\": 0, \"ticks\": \"\"}, \"colorscale\": [[0.0, \"#0d0887\"], [0.1111111111111111, \"#46039f\"], [0.2222222222222222, \"#7201a8\"], [0.3333333333333333, \"#9c179e\"], [0.4444444444444444, \"#bd3786\"], [0.5555555555555556, \"#d8576b\"], [0.6666666666666666, \"#ed7953\"], [0.7777777777777778, \"#fb9f3a\"], [0.8888888888888888, \"#fdca26\"], [1.0, \"#f0f921\"]], \"type\": \"histogram2dcontour\"}], \"mesh3d\": [{\"colorbar\": {\"outlinewidth\": 0, \"ticks\": \"\"}, \"type\": \"mesh3d\"}], \"parcoords\": [{\"line\": {\"colorbar\": {\"outlinewidth\": 0, \"ticks\": \"\"}}, \"type\": \"parcoords\"}], \"pie\": [{\"automargin\": true, \"type\": \"pie\"}], \"scatter\": [{\"marker\": {\"colorbar\": {\"outlinewidth\": 0, \"ticks\": \"\"}}, \"type\": \"scatter\"}], \"scatter3d\": [{\"line\": {\"colorbar\": {\"outlinewidth\": 0, \"ticks\": \"\"}}, \"marker\": {\"colorbar\": {\"outlinewidth\": 0, \"ticks\": \"\"}}, \"type\": \"scatter3d\"}], \"scattercarpet\": [{\"marker\": {\"colorbar\": {\"outlinewidth\": 0, \"ticks\": \"\"}}, \"type\": \"scattercarpet\"}], \"scattergeo\": [{\"marker\": {\"colorbar\": {\"outlinewidth\": 0, \"ticks\": \"\"}}, \"type\": \"scattergeo\"}], \"scattergl\": [{\"marker\": {\"colorbar\": {\"outlinewidth\": 0, \"ticks\": \"\"}}, \"type\": \"scattergl\"}], \"scattermapbox\": [{\"marker\": {\"colorbar\": {\"outlinewidth\": 0, \"ticks\": \"\"}}, \"type\": \"scattermapbox\"}], \"scatterpolar\": [{\"marker\": {\"colorbar\": {\"outlinewidth\": 0, \"ticks\": \"\"}}, \"type\": \"scatterpolar\"}], \"scatterpolargl\": [{\"marker\": {\"colorbar\": {\"outlinewidth\": 0, \"ticks\": \"\"}}, \"type\": \"scatterpolargl\"}], \"scatterternary\": [{\"marker\": {\"colorbar\": {\"outlinewidth\": 0, \"ticks\": \"\"}}, \"type\": \"scatterternary\"}], \"surface\": [{\"colorbar\": {\"outlinewidth\": 0, \"ticks\": \"\"}, \"colorscale\": [[0.0, \"#0d0887\"], [0.1111111111111111, \"#46039f\"], [0.2222222222222222, \"#7201a8\"], [0.3333333333333333, \"#9c179e\"], [0.4444444444444444, \"#bd3786\"], [0.5555555555555556, \"#d8576b\"], [0.6666666666666666, \"#ed7953\"], [0.7777777777777778, \"#fb9f3a\"], [0.8888888888888888, \"#fdca26\"], [1.0, \"#f0f921\"]], \"type\": \"surface\"}], \"table\": [{\"cells\": {\"fill\": {\"color\": \"#EBF0F8\"}, \"line\": {\"color\": \"white\"}}, \"header\": {\"fill\": {\"color\": \"#C8D4E3\"}, \"line\": {\"color\": \"white\"}}, \"type\": \"table\"}]}, \"layout\": {\"annotationdefaults\": {\"arrowcolor\": \"#2a3f5f\", \"arrowhead\": 0, \"arrowwidth\": 1}, \"coloraxis\": {\"colorbar\": {\"outlinewidth\": 0, \"ticks\": \"\"}}, \"colorscale\": {\"diverging\": [[0, \"#8e0152\"], [0.1, \"#c51b7d\"], [0.2, \"#de77ae\"], [0.3, \"#f1b6da\"], [0.4, \"#fde0ef\"], [0.5, \"#f7f7f7\"], [0.6, \"#e6f5d0\"], [0.7, \"#b8e186\"], [0.8, \"#7fbc41\"], [0.9, \"#4d9221\"], [1, \"#276419\"]], \"sequential\": [[0.0, \"#0d0887\"], [0.1111111111111111, \"#46039f\"], [0.2222222222222222, \"#7201a8\"], [0.3333333333333333, \"#9c179e\"], [0.4444444444444444, \"#bd3786\"], [0.5555555555555556, \"#d8576b\"], [0.6666666666666666, \"#ed7953\"], [0.7777777777777778, \"#fb9f3a\"], [0.8888888888888888, \"#fdca26\"], [1.0, \"#f0f921\"]], \"sequentialminus\": [[0.0, \"#0d0887\"], [0.1111111111111111, \"#46039f\"], [0.2222222222222222, \"#7201a8\"], [0.3333333333333333, \"#9c179e\"], [0.4444444444444444, \"#bd3786\"], [0.5555555555555556, \"#d8576b\"], [0.6666666666666666, \"#ed7953\"], [0.7777777777777778, \"#fb9f3a\"], [0.8888888888888888, \"#fdca26\"], [1.0, \"#f0f921\"]]}, \"colorway\": [\"#636efa\", \"#EF553B\", \"#00cc96\", \"#ab63fa\", \"#FFA15A\", \"#19d3f3\", \"#FF6692\", \"#B6E880\", \"#FF97FF\", \"#FECB52\"], \"font\": {\"color\": \"#2a3f5f\"}, \"geo\": {\"bgcolor\": \"white\", \"lakecolor\": \"white\", \"landcolor\": \"#E5ECF6\", \"showlakes\": true, \"showland\": true, \"subunitcolor\": \"white\"}, \"hoverlabel\": {\"align\": \"left\"}, \"hovermode\": \"closest\", \"mapbox\": {\"style\": \"light\"}, \"paper_bgcolor\": \"white\", \"plot_bgcolor\": \"#E5ECF6\", \"polar\": {\"angularaxis\": {\"gridcolor\": \"white\", \"linecolor\": \"white\", \"ticks\": \"\"}, \"bgcolor\": \"#E5ECF6\", \"radialaxis\": {\"gridcolor\": \"white\", \"linecolor\": \"white\", \"ticks\": \"\"}}, \"scene\": {\"xaxis\": {\"backgroundcolor\": \"#E5ECF6\", \"gridcolor\": \"white\", \"gridwidth\": 2, \"linecolor\": \"white\", \"showbackground\": true, \"ticks\": \"\", \"zerolinecolor\": \"white\"}, \"yaxis\": {\"backgroundcolor\": \"#E5ECF6\", \"gridcolor\": \"white\", \"gridwidth\": 2, \"linecolor\": \"white\", \"showbackground\": true, \"ticks\": \"\", \"zerolinecolor\": \"white\"}, \"zaxis\": {\"backgroundcolor\": \"#E5ECF6\", \"gridcolor\": \"white\", \"gridwidth\": 2, \"linecolor\": \"white\", \"showbackground\": true, \"ticks\": \"\", \"zerolinecolor\": \"white\"}}, \"shapedefaults\": {\"line\": {\"color\": \"#2a3f5f\"}}, \"ternary\": {\"aaxis\": {\"gridcolor\": \"white\", \"linecolor\": \"white\", \"ticks\": \"\"}, \"baxis\": {\"gridcolor\": \"white\", \"linecolor\": \"white\", \"ticks\": \"\"}, \"bgcolor\": \"#E5ECF6\", \"caxis\": {\"gridcolor\": \"white\", \"linecolor\": \"white\", \"ticks\": \"\"}}, \"title\": {\"x\": 0.05}, \"xaxis\": {\"automargin\": true, \"gridcolor\": \"white\", \"linecolor\": \"white\", \"ticks\": \"\", \"title\": {\"standoff\": 15}, \"zerolinecolor\": \"white\", \"zerolinewidth\": 2}, \"yaxis\": {\"automargin\": true, \"gridcolor\": \"white\", \"linecolor\": \"white\", \"ticks\": \"\", \"title\": {\"standoff\": 15}, \"zerolinecolor\": \"white\", \"zerolinewidth\": 2}}}, \"title\": {\"text\": \"Foot Traffic at Popeyes by Different Age Groups\"}, \"xaxis\": {\"title\": {\"text\": \"Date\"}}, \"yaxis\": {\"title\": {\"text\": \"Change in Visit\"}}},\n",
       "                        {\"responsive\": true}\n",
       "                    ).then(function(){\n",
       "                            \n",
       "var gd = document.getElementById('40288c5e-aa73-4a19-b3be-44098d876413');\n",
       "var x = new MutationObserver(function (mutations, observer) {{\n",
       "        var display = window.getComputedStyle(gd).display;\n",
       "        if (!display || display === 'none') {{\n",
       "            console.log([gd, 'removed!']);\n",
       "            Plotly.purge(gd);\n",
       "            observer.disconnect();\n",
       "        }}\n",
       "}});\n",
       "\n",
       "// Listen for the removal of the full notebook cells\n",
       "var notebookContainer = gd.closest('#notebook-container');\n",
       "if (notebookContainer) {{\n",
       "    x.observe(notebookContainer, {childList: true});\n",
       "}}\n",
       "\n",
       "// Listen for the clearing of the current output cell\n",
       "var outputEl = gd.closest('.output');\n",
       "if (outputEl) {{\n",
       "    x.observe(outputEl, {childList: true});\n",
       "}}\n",
       "\n",
       "                        })\n",
       "                };\n",
       "                });\n",
       "            </script>\n",
       "        </div>"
      ]
     },
     "metadata": {},
     "output_type": "display_data"
    }
   ],
   "source": [
    "#Create graph to show visits from different age group from PP only\n",
    "\n",
    "fig = go.Figure()\n",
    "fig.add_trace(go.Scatter(x = pp['Under_18']['dt'], y = pp['Under_18']['visit_scaled'],\n",
    "                         name = 'Under 18', line_color = 'orange', opacity = 0.8))\n",
    "fig.add_trace(go.Scatter(x = pp['18_24']['dt'], y = pp['18_24']['visit_scaled'],\n",
    "                         name = '18_24', line_color = 'green', opacity = 0.8))\n",
    "fig.add_trace(go.Scatter(x = pp['25_34']['dt'], y = pp['25_34']['visit_scaled'],\n",
    "                         name = '25_34', line_color = 'blue', opacity = 0.8))\n",
    "fig.add_trace(go.Scatter(x = pp['35_44']['dt'], y = pp['35_44']['visit_scaled'],\n",
    "                         name = '35_44', line_color = 'red', opacity = 0.8))\n",
    "fig.add_trace(go.Scatter(x = pp['45_54']['dt'], y = pp['45_54']['visit_scaled'],\n",
    "                         name = '45_54', line_color = 'brown', opacity = 0.8))\n",
    "fig.add_trace(go.Scatter(x = pp['55_64']['dt'], y = pp['55_64']['visit_scaled'],\n",
    "                         name = '55_64', line_color = 'pink', opacity = 0.8))\n",
    "fig.add_trace(go.Scatter(x = pp['65_plus']['dt'], y = pp['65_plus']['visit_scaled'],\n",
    "                         name = '65_plus', line_color = 'yellow', opacity = 0.8))\n",
    "\n",
    "\n",
    "fig.update_layout(\n",
    "    showlegend = False,\n",
    "    annotations = [\n",
    "        go.layout.Annotation(\n",
    "            x= '2019-08-12',\n",
    "            y= release_date,\n",
    "            xref = \"x\",\n",
    "            yref = \"y\",\n",
    "            text = \"Release Day\",\n",
    "            showarrow = True,\n",
    "            arrowhead = 7,\n",
    "            ax=0,\n",
    "            ay=-40\n",
    "        ),\n",
    "        go.layout.Annotation(\n",
    "            x='2019-08-27',\n",
    "            y=soldout_date,\n",
    "            xref=\"x\",\n",
    "            yref=\"y\",\n",
    "            text=\"Sold Out Day\",\n",
    "            showarrow=True,\n",
    "            arrowhead=7,\n",
    "            ax=0,\n",
    "            ay=-60\n",
    "        )\n",
    "    ]\n",
    ")\n",
    "\n",
    "fig.update_xaxes(title_text = 'Date')\n",
    "fig.update_yaxes(title_text = 'Change in Visit')\n",
    "fig.update_layout(title_text = 'Foot Traffic at Popeyes by Different Age Groups', showlegend = True )\n",
    "iplot(fig)"
   ]
  },
  {
   "cell_type": "markdown",
   "metadata": {},
   "source": [
    "**Analysis**\n",
    "* PP and CFA have a very similar demographic of customers. People from 25-34 & 35-44 are the most regular customers. \n",
    "* PP: the promotion attracts all groups of age, especially for age group 18-24, there was a sudden rise in visits. It can be due to social media, and this age group tends to follow trends most.\n",
    "* CFA: Surprisingly, age group 35-44 is influenced most by the promotion.\n",
    "* For both chains, Foursquare does not have enough data for age group under 18 and 65 plus (less than 2%). Therefore, the volume of visits from these groups are very low, and there's no way to capture the changes of visit from these age groups."
   ]
  },
  {
   "cell_type": "markdown",
   "metadata": {},
   "source": [
    "### 4. Does Popeyes' promotion bring CFA's loyal customers to the chain?\n",
    "\n",
    "For the sake of this analysis, I define CFA's loyal customers as people who only went to CFA in 2019 before PP's promotion started.\n",
    "\n",
    "First, I'm going to create a temporary table to collect all the user ids of whom only went to CFA before Popeyes' promotion started. \n",
    "```sql\n",
    "CREATE OR REPLACE TEMPORARY VIEW t1 AS \n",
    "\n",
    "SELECT\n",
    "userid\n",
    "\n",
    "FROM analytics.cvnp_optimized cvnp\n",
    "JOIN analytics.venuechains vc ON cvnp.venueid = vc.venueid\n",
    "\n",
    "WHERE chainid = '556e1846a7c82e6b72513d6b' -- CFA's chainid\n",
    "    AND chainid != '561e8768498ea6bc69a4a287' -- PP's chainid\n",
    "    AND dt BETWEEN '2019-01-01' AND '2019-08-11'\n",
    "```\n",
    "\n",
    "Next, I'm going to write queries to see how many of those who ONLY went to CFA before, visited both chains, either of them, or none during and after the promotion.\n",
    "\n",
    "**During the Promotion**\n",
    "```sql\n",
    "-- Count people who only went to CFA before, now go to both during promotion\n",
    "SELECT\n",
    " COUNT (DISTINCT t1.userid)\n",
    "FROM t1 \n",
    "JOIN analytics.cvnp_optimized cvnp ON t1.userid = cvnp.userid\n",
    "JOIN analytics.venuechains vc ON cvnp.venueid = vc.venueid\n",
    "\n",
    "WHERE chainid IN ('561e8768498ea6bc69a4a287', '556e1846a7c82e6b72513d6b')\n",
    "AND dt BETWEEN '2019-08-12' AND '2019-08-27'\n",
    "```\n",
    "Result: 600196\n",
    "\n",
    "```sql\n",
    "-- Count people who only went to CFA before,visit cfa only during promotion\n",
    "SELECT\n",
    " COUNT (DISTINCT t1.userid)\n",
    "FROM t1 \n",
    "JOIN analytics.cvnp_optimized cvnp ON t1.userid = cvnp.userid\n",
    "JOIN analytics.venuechains vc ON cvnp.venueid = vc.venueid\n",
    "\n",
    "WHERE chainid = '556e1846a7c82e6b72513d6b'\n",
    "AND dt BETWEEN '2019-08-12' AND '2019-08-27'\n",
    "```\n",
    "Result: 521009\n",
    "\n",
    "```sql\n",
    "-- Count people who only went to CFA before,visit popeyes only during promotion\n",
    "SELECT\n",
    " COUNT (DISTINCT t1.userid)\n",
    "FROM t1 \n",
    "JOIN analytics.cvnp_optimized cvnp ON t1.userid = cvnp.userid\n",
    "JOIN analytics.venuechains vc ON cvnp.venueid = vc.venueid\n",
    "\n",
    "WHERE chainid = '561e8768498ea6bc69a4a287'\n",
    "AND dt BETWEEN '2019-08-12' AND '2019-08-27'\n",
    "```\n",
    "Result: 121732\n",
    "\n",
    "```sql\n",
    "-- Count people who go to cfa before, now go to none during the promotion\n",
    "SELECT\n",
    " COUNT (DISTINCT t1.userid)\n",
    "FROM t1 \n",
    "JOIN analytics.cvnp_optimized cvnp ON t1.userid = cvnp.userid\n",
    "JOIN analytics.venuechains vc ON cvnp.venueid = vc.venueid\n",
    "\n",
    "WHERE chainid NOT IN ('561e8768498ea6bc69a4a287', '556e1846a7c82e6b72513d6b')\n",
    "AND dt BETWEEN '2019-08-12' AND '2019-08-27'\n",
    "```\n",
    "Result: 2206292 \n",
    "\n",
    "**After the Promotion**\n",
    "```sql\n",
    "-- Count people who only went to CFA before, now go to both after promotion\n",
    "SELECT\n",
    " COUNT (DISTINCT t1.userid)\n",
    "FROM t1 \n",
    "JOIN analytics.cvnp_optimized cvnp ON t1.userid = cvnp.userid\n",
    "JOIN analytics.venuechains vc ON cvnp.venueid = vc.venueid\n",
    "\n",
    "WHERE chainid IN ('561e8768498ea6bc69a4a287', '556e1846a7c82e6b72513d6b')\n",
    "AND dt BETWEEN '2019-08-28' AND '2019-09-15'\n",
    "```\n",
    "Result: 678984\n",
    "\n",
    "```sql\n",
    "-- Count people who only went to CFA before,visit CFA only after promotion\n",
    "SELECT\n",
    " COUNT (DISTINCT t1.userid)\n",
    "FROM t1 \n",
    "JOIN analytics.cvnp_optimized cvnp ON t1.userid = cvnp.userid\n",
    "JOIN analytics.venuechains vc ON cvnp.venueid = vc.venueid\n",
    "\n",
    "WHERE chainid = '556e1846a7c82e6b72513d6b'\n",
    "AND dt BETWEEN '2019-08-28' AND '2019-09-15'\n",
    "```\n",
    "Result: 601817\n",
    "\n",
    "```sql\n",
    "-- Count people who only went to CFA before, visit PP only after promotion\n",
    "SELECT\n",
    " COUNT (DISTINCT t1.userid)\n",
    "FROM t1 \n",
    "JOIN analytics.cvnp_optimized cvnp ON t1.userid = cvnp.userid\n",
    "JOIN analytics.venuechains vc ON cvnp.venueid = vc.venueid\n",
    "\n",
    "WHERE chainid = '561e8768498ea6bc69a4a287'\n",
    "AND dt BETWEEN '2019-08-28' AND '2019-09-15'\n",
    "```\n",
    "Result: 122332\n",
    "\n",
    "```sql\n",
    "-- Count people who only went to cfa before, now go to none after promotion\n",
    "SELECT\n",
    " COUNT (DISTINCT t1.userid)\n",
    "FROM t1 \n",
    "JOIN analytics.cvnp_optimized cvnp ON t1.userid = cvnp.userid\n",
    "JOIN analytics.venuechains vc ON cvnp.venueid = vc.venueid\n",
    "\n",
    "WHERE chainid NOT IN ('561e8768498ea6bc69a4a287', '556e1846a7c82e6b72513d6b')\n",
    "AND dt BETWEEN '2019-08-28' AND '2019-09-15'\n",
    "```\n",
    "Result: 2290142\n",
    "\n",
    "**Next step**\n",
    "\n",
    "Create two donut-like pie charts to compare if Popeyes's new sandwiches attract loyal Chick-fil-A customers' during and after it was released."
   ]
  },
  {
   "cell_type": "code",
   "execution_count": 17,
   "metadata": {},
   "outputs": [
    {
     "data": {
      "application/vnd.plotly.v1+json": {
       "config": {
        "linkText": "Export to plot.ly",
        "plotlyServerURL": "https://plot.ly",
        "showLink": false
       },
       "data": [
        {
         "domain": {
          "x": [
           0,
           0.45
          ],
          "y": [
           0,
           1
          ]
         },
         "hole": 0.4,
         "hoverinfo": "label+percent+name",
         "labels": [
          "Both Chick-fil-a & Popeyes",
          "Chick-fil-a Only",
          "Popeyes Only",
          "None"
         ],
         "name": "During Promotion",
         "type": "pie",
         "values": [
          600196,
          521009,
          121732,
          2206292
         ]
        },
        {
         "domain": {
          "x": [
           0.55,
           1
          ],
          "y": [
           0,
           1
          ]
         },
         "hole": 0.4,
         "hoverinfo": "label+percent+name",
         "labels": [
          "Both Chick-fil-a & Popeyes",
          "Chick-fil-a Only",
          "Popeyes Only",
          "None"
         ],
         "name": "After Promotion",
         "type": "pie",
         "values": [
          678984,
          601817,
          122332,
          2290142
         ]
        }
       ],
       "layout": {
        "annotations": [
         {
          "font": {
           "size": 19
          },
          "showarrow": false,
          "text": "During",
          "x": 0.18,
          "y": 0.5
         },
         {
          "font": {
           "size": 19
          },
          "showarrow": false,
          "text": "After",
          "x": 0.82,
          "y": 0.5
         }
        ],
        "template": {
         "data": {
          "bar": [
           {
            "error_x": {
             "color": "#2a3f5f"
            },
            "error_y": {
             "color": "#2a3f5f"
            },
            "marker": {
             "line": {
              "color": "#E5ECF6",
              "width": 0.5
             }
            },
            "type": "bar"
           }
          ],
          "barpolar": [
           {
            "marker": {
             "line": {
              "color": "#E5ECF6",
              "width": 0.5
             }
            },
            "type": "barpolar"
           }
          ],
          "carpet": [
           {
            "aaxis": {
             "endlinecolor": "#2a3f5f",
             "gridcolor": "white",
             "linecolor": "white",
             "minorgridcolor": "white",
             "startlinecolor": "#2a3f5f"
            },
            "baxis": {
             "endlinecolor": "#2a3f5f",
             "gridcolor": "white",
             "linecolor": "white",
             "minorgridcolor": "white",
             "startlinecolor": "#2a3f5f"
            },
            "type": "carpet"
           }
          ],
          "choropleth": [
           {
            "colorbar": {
             "outlinewidth": 0,
             "ticks": ""
            },
            "type": "choropleth"
           }
          ],
          "contour": [
           {
            "colorbar": {
             "outlinewidth": 0,
             "ticks": ""
            },
            "colorscale": [
             [
              0,
              "#0d0887"
             ],
             [
              0.1111111111111111,
              "#46039f"
             ],
             [
              0.2222222222222222,
              "#7201a8"
             ],
             [
              0.3333333333333333,
              "#9c179e"
             ],
             [
              0.4444444444444444,
              "#bd3786"
             ],
             [
              0.5555555555555556,
              "#d8576b"
             ],
             [
              0.6666666666666666,
              "#ed7953"
             ],
             [
              0.7777777777777778,
              "#fb9f3a"
             ],
             [
              0.8888888888888888,
              "#fdca26"
             ],
             [
              1,
              "#f0f921"
             ]
            ],
            "type": "contour"
           }
          ],
          "contourcarpet": [
           {
            "colorbar": {
             "outlinewidth": 0,
             "ticks": ""
            },
            "type": "contourcarpet"
           }
          ],
          "heatmap": [
           {
            "colorbar": {
             "outlinewidth": 0,
             "ticks": ""
            },
            "colorscale": [
             [
              0,
              "#0d0887"
             ],
             [
              0.1111111111111111,
              "#46039f"
             ],
             [
              0.2222222222222222,
              "#7201a8"
             ],
             [
              0.3333333333333333,
              "#9c179e"
             ],
             [
              0.4444444444444444,
              "#bd3786"
             ],
             [
              0.5555555555555556,
              "#d8576b"
             ],
             [
              0.6666666666666666,
              "#ed7953"
             ],
             [
              0.7777777777777778,
              "#fb9f3a"
             ],
             [
              0.8888888888888888,
              "#fdca26"
             ],
             [
              1,
              "#f0f921"
             ]
            ],
            "type": "heatmap"
           }
          ],
          "heatmapgl": [
           {
            "colorbar": {
             "outlinewidth": 0,
             "ticks": ""
            },
            "colorscale": [
             [
              0,
              "#0d0887"
             ],
             [
              0.1111111111111111,
              "#46039f"
             ],
             [
              0.2222222222222222,
              "#7201a8"
             ],
             [
              0.3333333333333333,
              "#9c179e"
             ],
             [
              0.4444444444444444,
              "#bd3786"
             ],
             [
              0.5555555555555556,
              "#d8576b"
             ],
             [
              0.6666666666666666,
              "#ed7953"
             ],
             [
              0.7777777777777778,
              "#fb9f3a"
             ],
             [
              0.8888888888888888,
              "#fdca26"
             ],
             [
              1,
              "#f0f921"
             ]
            ],
            "type": "heatmapgl"
           }
          ],
          "histogram": [
           {
            "marker": {
             "colorbar": {
              "outlinewidth": 0,
              "ticks": ""
             }
            },
            "type": "histogram"
           }
          ],
          "histogram2d": [
           {
            "colorbar": {
             "outlinewidth": 0,
             "ticks": ""
            },
            "colorscale": [
             [
              0,
              "#0d0887"
             ],
             [
              0.1111111111111111,
              "#46039f"
             ],
             [
              0.2222222222222222,
              "#7201a8"
             ],
             [
              0.3333333333333333,
              "#9c179e"
             ],
             [
              0.4444444444444444,
              "#bd3786"
             ],
             [
              0.5555555555555556,
              "#d8576b"
             ],
             [
              0.6666666666666666,
              "#ed7953"
             ],
             [
              0.7777777777777778,
              "#fb9f3a"
             ],
             [
              0.8888888888888888,
              "#fdca26"
             ],
             [
              1,
              "#f0f921"
             ]
            ],
            "type": "histogram2d"
           }
          ],
          "histogram2dcontour": [
           {
            "colorbar": {
             "outlinewidth": 0,
             "ticks": ""
            },
            "colorscale": [
             [
              0,
              "#0d0887"
             ],
             [
              0.1111111111111111,
              "#46039f"
             ],
             [
              0.2222222222222222,
              "#7201a8"
             ],
             [
              0.3333333333333333,
              "#9c179e"
             ],
             [
              0.4444444444444444,
              "#bd3786"
             ],
             [
              0.5555555555555556,
              "#d8576b"
             ],
             [
              0.6666666666666666,
              "#ed7953"
             ],
             [
              0.7777777777777778,
              "#fb9f3a"
             ],
             [
              0.8888888888888888,
              "#fdca26"
             ],
             [
              1,
              "#f0f921"
             ]
            ],
            "type": "histogram2dcontour"
           }
          ],
          "mesh3d": [
           {
            "colorbar": {
             "outlinewidth": 0,
             "ticks": ""
            },
            "type": "mesh3d"
           }
          ],
          "parcoords": [
           {
            "line": {
             "colorbar": {
              "outlinewidth": 0,
              "ticks": ""
             }
            },
            "type": "parcoords"
           }
          ],
          "pie": [
           {
            "automargin": true,
            "type": "pie"
           }
          ],
          "scatter": [
           {
            "marker": {
             "colorbar": {
              "outlinewidth": 0,
              "ticks": ""
             }
            },
            "type": "scatter"
           }
          ],
          "scatter3d": [
           {
            "line": {
             "colorbar": {
              "outlinewidth": 0,
              "ticks": ""
             }
            },
            "marker": {
             "colorbar": {
              "outlinewidth": 0,
              "ticks": ""
             }
            },
            "type": "scatter3d"
           }
          ],
          "scattercarpet": [
           {
            "marker": {
             "colorbar": {
              "outlinewidth": 0,
              "ticks": ""
             }
            },
            "type": "scattercarpet"
           }
          ],
          "scattergeo": [
           {
            "marker": {
             "colorbar": {
              "outlinewidth": 0,
              "ticks": ""
             }
            },
            "type": "scattergeo"
           }
          ],
          "scattergl": [
           {
            "marker": {
             "colorbar": {
              "outlinewidth": 0,
              "ticks": ""
             }
            },
            "type": "scattergl"
           }
          ],
          "scattermapbox": [
           {
            "marker": {
             "colorbar": {
              "outlinewidth": 0,
              "ticks": ""
             }
            },
            "type": "scattermapbox"
           }
          ],
          "scatterpolar": [
           {
            "marker": {
             "colorbar": {
              "outlinewidth": 0,
              "ticks": ""
             }
            },
            "type": "scatterpolar"
           }
          ],
          "scatterpolargl": [
           {
            "marker": {
             "colorbar": {
              "outlinewidth": 0,
              "ticks": ""
             }
            },
            "type": "scatterpolargl"
           }
          ],
          "scatterternary": [
           {
            "marker": {
             "colorbar": {
              "outlinewidth": 0,
              "ticks": ""
             }
            },
            "type": "scatterternary"
           }
          ],
          "surface": [
           {
            "colorbar": {
             "outlinewidth": 0,
             "ticks": ""
            },
            "colorscale": [
             [
              0,
              "#0d0887"
             ],
             [
              0.1111111111111111,
              "#46039f"
             ],
             [
              0.2222222222222222,
              "#7201a8"
             ],
             [
              0.3333333333333333,
              "#9c179e"
             ],
             [
              0.4444444444444444,
              "#bd3786"
             ],
             [
              0.5555555555555556,
              "#d8576b"
             ],
             [
              0.6666666666666666,
              "#ed7953"
             ],
             [
              0.7777777777777778,
              "#fb9f3a"
             ],
             [
              0.8888888888888888,
              "#fdca26"
             ],
             [
              1,
              "#f0f921"
             ]
            ],
            "type": "surface"
           }
          ],
          "table": [
           {
            "cells": {
             "fill": {
              "color": "#EBF0F8"
             },
             "line": {
              "color": "white"
             }
            },
            "header": {
             "fill": {
              "color": "#C8D4E3"
             },
             "line": {
              "color": "white"
             }
            },
            "type": "table"
           }
          ]
         },
         "layout": {
          "annotationdefaults": {
           "arrowcolor": "#2a3f5f",
           "arrowhead": 0,
           "arrowwidth": 1
          },
          "coloraxis": {
           "colorbar": {
            "outlinewidth": 0,
            "ticks": ""
           }
          },
          "colorscale": {
           "diverging": [
            [
             0,
             "#8e0152"
            ],
            [
             0.1,
             "#c51b7d"
            ],
            [
             0.2,
             "#de77ae"
            ],
            [
             0.3,
             "#f1b6da"
            ],
            [
             0.4,
             "#fde0ef"
            ],
            [
             0.5,
             "#f7f7f7"
            ],
            [
             0.6,
             "#e6f5d0"
            ],
            [
             0.7,
             "#b8e186"
            ],
            [
             0.8,
             "#7fbc41"
            ],
            [
             0.9,
             "#4d9221"
            ],
            [
             1,
             "#276419"
            ]
           ],
           "sequential": [
            [
             0,
             "#0d0887"
            ],
            [
             0.1111111111111111,
             "#46039f"
            ],
            [
             0.2222222222222222,
             "#7201a8"
            ],
            [
             0.3333333333333333,
             "#9c179e"
            ],
            [
             0.4444444444444444,
             "#bd3786"
            ],
            [
             0.5555555555555556,
             "#d8576b"
            ],
            [
             0.6666666666666666,
             "#ed7953"
            ],
            [
             0.7777777777777778,
             "#fb9f3a"
            ],
            [
             0.8888888888888888,
             "#fdca26"
            ],
            [
             1,
             "#f0f921"
            ]
           ],
           "sequentialminus": [
            [
             0,
             "#0d0887"
            ],
            [
             0.1111111111111111,
             "#46039f"
            ],
            [
             0.2222222222222222,
             "#7201a8"
            ],
            [
             0.3333333333333333,
             "#9c179e"
            ],
            [
             0.4444444444444444,
             "#bd3786"
            ],
            [
             0.5555555555555556,
             "#d8576b"
            ],
            [
             0.6666666666666666,
             "#ed7953"
            ],
            [
             0.7777777777777778,
             "#fb9f3a"
            ],
            [
             0.8888888888888888,
             "#fdca26"
            ],
            [
             1,
             "#f0f921"
            ]
           ]
          },
          "colorway": [
           "#636efa",
           "#EF553B",
           "#00cc96",
           "#ab63fa",
           "#FFA15A",
           "#19d3f3",
           "#FF6692",
           "#B6E880",
           "#FF97FF",
           "#FECB52"
          ],
          "font": {
           "color": "#2a3f5f"
          },
          "geo": {
           "bgcolor": "white",
           "lakecolor": "white",
           "landcolor": "#E5ECF6",
           "showlakes": true,
           "showland": true,
           "subunitcolor": "white"
          },
          "hoverlabel": {
           "align": "left"
          },
          "hovermode": "closest",
          "mapbox": {
           "style": "light"
          },
          "paper_bgcolor": "white",
          "plot_bgcolor": "#E5ECF6",
          "polar": {
           "angularaxis": {
            "gridcolor": "white",
            "linecolor": "white",
            "ticks": ""
           },
           "bgcolor": "#E5ECF6",
           "radialaxis": {
            "gridcolor": "white",
            "linecolor": "white",
            "ticks": ""
           }
          },
          "scene": {
           "xaxis": {
            "backgroundcolor": "#E5ECF6",
            "gridcolor": "white",
            "gridwidth": 2,
            "linecolor": "white",
            "showbackground": true,
            "ticks": "",
            "zerolinecolor": "white"
           },
           "yaxis": {
            "backgroundcolor": "#E5ECF6",
            "gridcolor": "white",
            "gridwidth": 2,
            "linecolor": "white",
            "showbackground": true,
            "ticks": "",
            "zerolinecolor": "white"
           },
           "zaxis": {
            "backgroundcolor": "#E5ECF6",
            "gridcolor": "white",
            "gridwidth": 2,
            "linecolor": "white",
            "showbackground": true,
            "ticks": "",
            "zerolinecolor": "white"
           }
          },
          "shapedefaults": {
           "line": {
            "color": "#2a3f5f"
           }
          },
          "ternary": {
           "aaxis": {
            "gridcolor": "white",
            "linecolor": "white",
            "ticks": ""
           },
           "baxis": {
            "gridcolor": "white",
            "linecolor": "white",
            "ticks": ""
           },
           "bgcolor": "#E5ECF6",
           "caxis": {
            "gridcolor": "white",
            "linecolor": "white",
            "ticks": ""
           }
          },
          "title": {
           "x": 0.05
          },
          "xaxis": {
           "automargin": true,
           "gridcolor": "white",
           "linecolor": "white",
           "ticks": "",
           "title": {
            "standoff": 15
           },
           "zerolinecolor": "white",
           "zerolinewidth": 2
          },
          "yaxis": {
           "automargin": true,
           "gridcolor": "white",
           "linecolor": "white",
           "ticks": "",
           "title": {
            "standoff": 15
           },
           "zerolinecolor": "white",
           "zerolinewidth": 2
          }
         }
        },
        "title": {
         "text": "Where Do Loyal Chick-fil-A Customers Go during & after the Promotion? "
        }
       }
      },
      "text/html": [
       "<div>\n",
       "        \n",
       "        \n",
       "            <div id=\"d615abbe-5b13-4347-911c-8952bd206f86\" class=\"plotly-graph-div\" style=\"height:525px; width:100%;\"></div>\n",
       "            <script type=\"text/javascript\">\n",
       "                require([\"plotly\"], function(Plotly) {\n",
       "                    window.PLOTLYENV=window.PLOTLYENV || {};\n",
       "                    \n",
       "                if (document.getElementById(\"d615abbe-5b13-4347-911c-8952bd206f86\")) {\n",
       "                    Plotly.newPlot(\n",
       "                        'd615abbe-5b13-4347-911c-8952bd206f86',\n",
       "                        [{\"domain\": {\"x\": [0.0, 0.45], \"y\": [0.0, 1.0]}, \"hole\": 0.4, \"hoverinfo\": \"label+percent+name\", \"labels\": [\"Both Chick-fil-a & Popeyes\", \"Chick-fil-a Only\", \"Popeyes Only\", \"None\"], \"name\": \"During Promotion\", \"type\": \"pie\", \"values\": [600196, 521009, 121732, 2206292]}, {\"domain\": {\"x\": [0.55, 1.0], \"y\": [0.0, 1.0]}, \"hole\": 0.4, \"hoverinfo\": \"label+percent+name\", \"labels\": [\"Both Chick-fil-a & Popeyes\", \"Chick-fil-a Only\", \"Popeyes Only\", \"None\"], \"name\": \"After Promotion\", \"type\": \"pie\", \"values\": [678984, 601817, 122332, 2290142]}],\n",
       "                        {\"annotations\": [{\"font\": {\"size\": 19}, \"showarrow\": false, \"text\": \"During\", \"x\": 0.18, \"y\": 0.5}, {\"font\": {\"size\": 19}, \"showarrow\": false, \"text\": \"After\", \"x\": 0.82, \"y\": 0.5}], \"template\": {\"data\": {\"bar\": [{\"error_x\": {\"color\": \"#2a3f5f\"}, \"error_y\": {\"color\": \"#2a3f5f\"}, \"marker\": {\"line\": {\"color\": \"#E5ECF6\", \"width\": 0.5}}, \"type\": \"bar\"}], \"barpolar\": [{\"marker\": {\"line\": {\"color\": \"#E5ECF6\", \"width\": 0.5}}, \"type\": \"barpolar\"}], \"carpet\": [{\"aaxis\": {\"endlinecolor\": \"#2a3f5f\", \"gridcolor\": \"white\", \"linecolor\": \"white\", \"minorgridcolor\": \"white\", \"startlinecolor\": \"#2a3f5f\"}, \"baxis\": {\"endlinecolor\": \"#2a3f5f\", \"gridcolor\": \"white\", \"linecolor\": \"white\", \"minorgridcolor\": \"white\", \"startlinecolor\": \"#2a3f5f\"}, \"type\": \"carpet\"}], \"choropleth\": [{\"colorbar\": {\"outlinewidth\": 0, \"ticks\": \"\"}, \"type\": \"choropleth\"}], \"contour\": [{\"colorbar\": {\"outlinewidth\": 0, \"ticks\": \"\"}, \"colorscale\": [[0.0, \"#0d0887\"], [0.1111111111111111, \"#46039f\"], [0.2222222222222222, \"#7201a8\"], [0.3333333333333333, \"#9c179e\"], [0.4444444444444444, \"#bd3786\"], [0.5555555555555556, \"#d8576b\"], [0.6666666666666666, \"#ed7953\"], [0.7777777777777778, \"#fb9f3a\"], [0.8888888888888888, \"#fdca26\"], [1.0, \"#f0f921\"]], \"type\": \"contour\"}], \"contourcarpet\": [{\"colorbar\": {\"outlinewidth\": 0, \"ticks\": \"\"}, \"type\": \"contourcarpet\"}], \"heatmap\": [{\"colorbar\": {\"outlinewidth\": 0, \"ticks\": \"\"}, \"colorscale\": [[0.0, \"#0d0887\"], [0.1111111111111111, \"#46039f\"], [0.2222222222222222, \"#7201a8\"], [0.3333333333333333, \"#9c179e\"], [0.4444444444444444, \"#bd3786\"], [0.5555555555555556, \"#d8576b\"], [0.6666666666666666, \"#ed7953\"], [0.7777777777777778, \"#fb9f3a\"], [0.8888888888888888, \"#fdca26\"], [1.0, \"#f0f921\"]], \"type\": \"heatmap\"}], \"heatmapgl\": [{\"colorbar\": {\"outlinewidth\": 0, \"ticks\": \"\"}, \"colorscale\": [[0.0, \"#0d0887\"], [0.1111111111111111, \"#46039f\"], [0.2222222222222222, \"#7201a8\"], [0.3333333333333333, \"#9c179e\"], [0.4444444444444444, \"#bd3786\"], [0.5555555555555556, \"#d8576b\"], [0.6666666666666666, \"#ed7953\"], [0.7777777777777778, \"#fb9f3a\"], [0.8888888888888888, \"#fdca26\"], [1.0, \"#f0f921\"]], \"type\": \"heatmapgl\"}], \"histogram\": [{\"marker\": {\"colorbar\": {\"outlinewidth\": 0, \"ticks\": \"\"}}, \"type\": \"histogram\"}], \"histogram2d\": [{\"colorbar\": {\"outlinewidth\": 0, \"ticks\": \"\"}, \"colorscale\": [[0.0, \"#0d0887\"], [0.1111111111111111, \"#46039f\"], [0.2222222222222222, \"#7201a8\"], [0.3333333333333333, \"#9c179e\"], [0.4444444444444444, \"#bd3786\"], [0.5555555555555556, \"#d8576b\"], [0.6666666666666666, \"#ed7953\"], [0.7777777777777778, \"#fb9f3a\"], [0.8888888888888888, \"#fdca26\"], [1.0, \"#f0f921\"]], \"type\": \"histogram2d\"}], \"histogram2dcontour\": [{\"colorbar\": {\"outlinewidth\": 0, \"ticks\": \"\"}, \"colorscale\": [[0.0, \"#0d0887\"], [0.1111111111111111, \"#46039f\"], [0.2222222222222222, \"#7201a8\"], [0.3333333333333333, \"#9c179e\"], [0.4444444444444444, \"#bd3786\"], [0.5555555555555556, \"#d8576b\"], [0.6666666666666666, \"#ed7953\"], [0.7777777777777778, \"#fb9f3a\"], [0.8888888888888888, \"#fdca26\"], [1.0, \"#f0f921\"]], \"type\": \"histogram2dcontour\"}], \"mesh3d\": [{\"colorbar\": {\"outlinewidth\": 0, \"ticks\": \"\"}, \"type\": \"mesh3d\"}], \"parcoords\": [{\"line\": {\"colorbar\": {\"outlinewidth\": 0, \"ticks\": \"\"}}, \"type\": \"parcoords\"}], \"pie\": [{\"automargin\": true, \"type\": \"pie\"}], \"scatter\": [{\"marker\": {\"colorbar\": {\"outlinewidth\": 0, \"ticks\": \"\"}}, \"type\": \"scatter\"}], \"scatter3d\": [{\"line\": {\"colorbar\": {\"outlinewidth\": 0, \"ticks\": \"\"}}, \"marker\": {\"colorbar\": {\"outlinewidth\": 0, \"ticks\": \"\"}}, \"type\": \"scatter3d\"}], \"scattercarpet\": [{\"marker\": {\"colorbar\": {\"outlinewidth\": 0, \"ticks\": \"\"}}, \"type\": \"scattercarpet\"}], \"scattergeo\": [{\"marker\": {\"colorbar\": {\"outlinewidth\": 0, \"ticks\": \"\"}}, \"type\": \"scattergeo\"}], \"scattergl\": [{\"marker\": {\"colorbar\": {\"outlinewidth\": 0, \"ticks\": \"\"}}, \"type\": \"scattergl\"}], \"scattermapbox\": [{\"marker\": {\"colorbar\": {\"outlinewidth\": 0, \"ticks\": \"\"}}, \"type\": \"scattermapbox\"}], \"scatterpolar\": [{\"marker\": {\"colorbar\": {\"outlinewidth\": 0, \"ticks\": \"\"}}, \"type\": \"scatterpolar\"}], \"scatterpolargl\": [{\"marker\": {\"colorbar\": {\"outlinewidth\": 0, \"ticks\": \"\"}}, \"type\": \"scatterpolargl\"}], \"scatterternary\": [{\"marker\": {\"colorbar\": {\"outlinewidth\": 0, \"ticks\": \"\"}}, \"type\": \"scatterternary\"}], \"surface\": [{\"colorbar\": {\"outlinewidth\": 0, \"ticks\": \"\"}, \"colorscale\": [[0.0, \"#0d0887\"], [0.1111111111111111, \"#46039f\"], [0.2222222222222222, \"#7201a8\"], [0.3333333333333333, \"#9c179e\"], [0.4444444444444444, \"#bd3786\"], [0.5555555555555556, \"#d8576b\"], [0.6666666666666666, \"#ed7953\"], [0.7777777777777778, \"#fb9f3a\"], [0.8888888888888888, \"#fdca26\"], [1.0, \"#f0f921\"]], \"type\": \"surface\"}], \"table\": [{\"cells\": {\"fill\": {\"color\": \"#EBF0F8\"}, \"line\": {\"color\": \"white\"}}, \"header\": {\"fill\": {\"color\": \"#C8D4E3\"}, \"line\": {\"color\": \"white\"}}, \"type\": \"table\"}]}, \"layout\": {\"annotationdefaults\": {\"arrowcolor\": \"#2a3f5f\", \"arrowhead\": 0, \"arrowwidth\": 1}, \"coloraxis\": {\"colorbar\": {\"outlinewidth\": 0, \"ticks\": \"\"}}, \"colorscale\": {\"diverging\": [[0, \"#8e0152\"], [0.1, \"#c51b7d\"], [0.2, \"#de77ae\"], [0.3, \"#f1b6da\"], [0.4, \"#fde0ef\"], [0.5, \"#f7f7f7\"], [0.6, \"#e6f5d0\"], [0.7, \"#b8e186\"], [0.8, \"#7fbc41\"], [0.9, \"#4d9221\"], [1, \"#276419\"]], \"sequential\": [[0.0, \"#0d0887\"], [0.1111111111111111, \"#46039f\"], [0.2222222222222222, \"#7201a8\"], [0.3333333333333333, \"#9c179e\"], [0.4444444444444444, \"#bd3786\"], [0.5555555555555556, \"#d8576b\"], [0.6666666666666666, \"#ed7953\"], [0.7777777777777778, \"#fb9f3a\"], [0.8888888888888888, \"#fdca26\"], [1.0, \"#f0f921\"]], \"sequentialminus\": [[0.0, \"#0d0887\"], [0.1111111111111111, \"#46039f\"], [0.2222222222222222, \"#7201a8\"], [0.3333333333333333, \"#9c179e\"], [0.4444444444444444, \"#bd3786\"], [0.5555555555555556, \"#d8576b\"], [0.6666666666666666, \"#ed7953\"], [0.7777777777777778, \"#fb9f3a\"], [0.8888888888888888, \"#fdca26\"], [1.0, \"#f0f921\"]]}, \"colorway\": [\"#636efa\", \"#EF553B\", \"#00cc96\", \"#ab63fa\", \"#FFA15A\", \"#19d3f3\", \"#FF6692\", \"#B6E880\", \"#FF97FF\", \"#FECB52\"], \"font\": {\"color\": \"#2a3f5f\"}, \"geo\": {\"bgcolor\": \"white\", \"lakecolor\": \"white\", \"landcolor\": \"#E5ECF6\", \"showlakes\": true, \"showland\": true, \"subunitcolor\": \"white\"}, \"hoverlabel\": {\"align\": \"left\"}, \"hovermode\": \"closest\", \"mapbox\": {\"style\": \"light\"}, \"paper_bgcolor\": \"white\", \"plot_bgcolor\": \"#E5ECF6\", \"polar\": {\"angularaxis\": {\"gridcolor\": \"white\", \"linecolor\": \"white\", \"ticks\": \"\"}, \"bgcolor\": \"#E5ECF6\", \"radialaxis\": {\"gridcolor\": \"white\", \"linecolor\": \"white\", \"ticks\": \"\"}}, \"scene\": {\"xaxis\": {\"backgroundcolor\": \"#E5ECF6\", \"gridcolor\": \"white\", \"gridwidth\": 2, \"linecolor\": \"white\", \"showbackground\": true, \"ticks\": \"\", \"zerolinecolor\": \"white\"}, \"yaxis\": {\"backgroundcolor\": \"#E5ECF6\", \"gridcolor\": \"white\", \"gridwidth\": 2, \"linecolor\": \"white\", \"showbackground\": true, \"ticks\": \"\", \"zerolinecolor\": \"white\"}, \"zaxis\": {\"backgroundcolor\": \"#E5ECF6\", \"gridcolor\": \"white\", \"gridwidth\": 2, \"linecolor\": \"white\", \"showbackground\": true, \"ticks\": \"\", \"zerolinecolor\": \"white\"}}, \"shapedefaults\": {\"line\": {\"color\": \"#2a3f5f\"}}, \"ternary\": {\"aaxis\": {\"gridcolor\": \"white\", \"linecolor\": \"white\", \"ticks\": \"\"}, \"baxis\": {\"gridcolor\": \"white\", \"linecolor\": \"white\", \"ticks\": \"\"}, \"bgcolor\": \"#E5ECF6\", \"caxis\": {\"gridcolor\": \"white\", \"linecolor\": \"white\", \"ticks\": \"\"}}, \"title\": {\"x\": 0.05}, \"xaxis\": {\"automargin\": true, \"gridcolor\": \"white\", \"linecolor\": \"white\", \"ticks\": \"\", \"title\": {\"standoff\": 15}, \"zerolinecolor\": \"white\", \"zerolinewidth\": 2}, \"yaxis\": {\"automargin\": true, \"gridcolor\": \"white\", \"linecolor\": \"white\", \"ticks\": \"\", \"title\": {\"standoff\": 15}, \"zerolinecolor\": \"white\", \"zerolinewidth\": 2}}}, \"title\": {\"text\": \"Where Do Loyal Chick-fil-A Customers Go during & after the Promotion? \"}},\n",
       "                        {\"responsive\": true}\n",
       "                    ).then(function(){\n",
       "                            \n",
       "var gd = document.getElementById('d615abbe-5b13-4347-911c-8952bd206f86');\n",
       "var x = new MutationObserver(function (mutations, observer) {{\n",
       "        var display = window.getComputedStyle(gd).display;\n",
       "        if (!display || display === 'none') {{\n",
       "            console.log([gd, 'removed!']);\n",
       "            Plotly.purge(gd);\n",
       "            observer.disconnect();\n",
       "        }}\n",
       "}});\n",
       "\n",
       "// Listen for the removal of the full notebook cells\n",
       "var notebookContainer = gd.closest('#notebook-container');\n",
       "if (notebookContainer) {{\n",
       "    x.observe(notebookContainer, {childList: true});\n",
       "}}\n",
       "\n",
       "// Listen for the clearing of the current output cell\n",
       "var outputEl = gd.closest('.output');\n",
       "if (outputEl) {{\n",
       "    x.observe(outputEl, {childList: true});\n",
       "}}\n",
       "\n",
       "                        })\n",
       "                };\n",
       "                });\n",
       "            </script>\n",
       "        </div>"
      ]
     },
     "metadata": {},
     "output_type": "display_data"
    }
   ],
   "source": [
    "labels = ['Both Chick-fil-a & Popeyes','Chick-fil-a Only','Popeyes Only','None']\n",
    "\n",
    "# Create subplots: use 'domain' type for Pie subplot\n",
    "fig = make_subplots(rows=1, cols=2, specs=[[{'type':'domain'}, {'type':'domain'}]])\n",
    "fig.add_trace(go.Pie(labels=labels, values=[600196, 521009, 121732, 2206292], name=\"During Promotion\"),\n",
    "              1, 1)\n",
    "fig.add_trace(go.Pie(labels=labels, values=[678984,601817,122332,2290142], name=\"After Promotion\"),\n",
    "              1, 2)\n",
    "\n",
    "# Use `hole` to create a donut-like pie chart\n",
    "fig.update_traces(hole=.4, hoverinfo=\"label+percent+name\")\n",
    "\n",
    "fig.update_layout(\n",
    "    title_text=\"Where Do Loyal Chick-fil-A Customers Go during & after the Promotion? \",\n",
    "# Add annotations in the center of the donut pies.\n",
    "    annotations=[dict(text='During', x=0.18, y=0.5, font_size=19, showarrow=False),\n",
    "                 dict(text='After', x=0.82, y=0.5, font_size=19, showarrow=False)])\n",
    "iplot(fig)"
   ]
  },
  {
   "cell_type": "markdown",
   "metadata": {},
   "source": [
    "**Analysis**\n",
    "* The Popeye’s promotion successfully attracts a small number of loyal CFA customers to visit the chain. However, because the sandwiches sold out too fast, and the chain isn’t sure about when it’s coming back, people started coming back to CFA"
   ]
  }
 ],
 "metadata": {
  "kernelspec": {
   "display_name": "Python 3",
   "language": "python",
   "name": "python3"
  },
  "language_info": {
   "codemirror_mode": {
    "name": "ipython",
    "version": 3
   },
   "file_extension": ".py",
   "mimetype": "text/x-python",
   "name": "python",
   "nbconvert_exporter": "python",
   "pygments_lexer": "ipython3",
   "version": "3.7.6"
  }
 },
 "nbformat": 4,
 "nbformat_minor": 2
}
